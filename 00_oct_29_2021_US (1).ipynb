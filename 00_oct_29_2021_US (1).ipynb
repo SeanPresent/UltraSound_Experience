{
 "cells": [
  {
   "cell_type": "markdown",
   "metadata": {},
   "source": [
    "## Library"
   ]
  },
  {
   "cell_type": "code",
   "execution_count": 1,
   "metadata": {
    "collapsed": true,
    "jupyter": {
     "outputs_hidden": true,
     "source_hidden": true
    }
   },
   "outputs": [
    {
     "name": "stdout",
     "output_type": "stream",
     "text": [
      "Fri Oct 29 05:49:03 2021       \n",
      "+-----------------------------------------------------------------------------+\n",
      "| NVIDIA-SMI 418.67       Driver Version: 418.67       CUDA Version: 10.1     |\n",
      "|-------------------------------+----------------------+----------------------+\n",
      "| GPU  Name        Persistence-M| Bus-Id        Disp.A | Volatile Uncorr. ECC |\n",
      "| Fan  Temp  Perf  Pwr:Usage/Cap|         Memory-Usage | GPU-Util  Compute M. |\n",
      "|===============================+======================+======================|\n",
      "|   0  Tesla V100-SXM2...  On   | 00000000:00:05.0 Off |                  Off |\n",
      "| N/A   37C    P0    59W / 300W |   1319MiB / 32480MiB |      0%      Default |\n",
      "+-------------------------------+----------------------+----------------------+\n",
      "                                                                               \n",
      "+-----------------------------------------------------------------------------+\n",
      "| Processes:                                                       GPU Memory |\n",
      "|  GPU       PID   Type   Process name                             Usage      |\n",
      "|=============================================================================|\n",
      "+-----------------------------------------------------------------------------+\n"
     ]
    }
   ],
   "source": [
    "!nvidia-smi"
   ]
  },
  {
   "cell_type": "code",
   "execution_count": 4,
   "metadata": {
    "jupyter": {
     "source_hidden": true
    }
   },
   "outputs": [],
   "source": [
    "import cv2\n",
    "import torch\n",
    "import os\n",
    "import random\n",
    "import math\n",
    "import glob \n",
    "import pathlib\n",
    "import csv, PIL\n",
    "import torch\n",
    "import torchvision\n",
    "import pydicom\n",
    "from os import listdir\n",
    "from PIL import Image\n",
    "from tqdm import tqdm \n",
    "\n",
    "import numpy as np \n",
    "import pandas as pd\n",
    "import matplotlib.pyplot as plt\n",
    "%matplotlib inline\n",
    "import matplotlib.pylab as pylab\n",
    "import matplotlib.image as mpimg\n",
    "import seaborn as sns"
   ]
  },
  {
   "cell_type": "markdown",
   "metadata": {},
   "source": [
    "## 00 Pathing"
   ]
  },
  {
   "cell_type": "code",
   "execution_count": 6,
   "metadata": {},
   "outputs": [
    {
     "data": {
      "text/plain": [
       "'/home/Sean/Project/iRail_US'"
      ]
     },
     "execution_count": 6,
     "metadata": {},
     "output_type": "execute_result"
    }
   ],
   "source": [
    "%pwd"
   ]
  },
  {
   "cell_type": "code",
   "execution_count": 18,
   "metadata": {},
   "outputs": [
    {
     "name": "stdout",
     "output_type": "stream",
     "text": [
      "['normal', 'malignant', 'benign']\n"
     ]
    }
   ],
   "source": [
    "basepath = '/home/Sean/Project/iRail_US'\n",
    "img_path = basepath + '/Data/Dataset_BUSI_with_GT'\n",
    "print(os.listdir(img_path))"
   ]
  },
  {
   "cell_type": "code",
   "execution_count": 31,
   "metadata": {},
   "outputs": [
    {
     "name": "stdout",
     "output_type": "stream",
     "text": [
      "The total number of the Data: 798\n",
      "The number of the normal Data: 133 \n",
      "The number of the malignant Data: 211 \n",
      "The number of the benign Data: 454\n"
     ]
    }
   ],
   "source": [
    "train_img  =  glob.glob(img_path+os.sep+\"/*/*.png\")\n",
    "normal_path = img_path + '/normal' \n",
    "malignant_path = img_path + '/malignant' \n",
    "benign_path = img_path + '/benign' \n",
    "\n",
    "normal_img  =  glob.glob(normal_path+os.sep+\"/*.png\")\n",
    "malignant_img  =  glob.glob(malignant_path+os.sep+\"/*.png\")\n",
    "benign_img  =  glob.glob(benign_path+os.sep+\"/*.png\")\n",
    "\n",
    "print(f\"The total number of the Data: {len(train_img)}\")\n",
    "print(f\"The number of the normal Data: {len(normal_img)} \\nThe number of the malignant Data: {len(malignant_img)} \\nThe number of the benign Data: {len(benign_img)}\")"
   ]
  },
  {
   "cell_type": "markdown",
   "metadata": {},
   "source": [
    "#### Need to  remove __mask.png__ data from the data list"
   ]
  },
  {
   "cell_type": "code",
   "execution_count": 45,
   "metadata": {},
   "outputs": [
    {
     "name": "stdout",
     "output_type": "stream",
     "text": [
      "The number of the malignant raw Data: 210 \n",
      "The number of the malignant mask Data: 1\n",
      "The number of the benign raw Data: 437 \n",
      "The number of the benign mask Data: 17\n"
     ]
    }
   ],
   "source": [
    "m_mask_img  =  glob.glob(malignant_path+os.sep+\"/*mask*.png\")\n",
    "b_mask_img  =  glob.glob(benign_path+os.sep+\"/*mask*.png\")\n",
    "\n",
    "malignant_img_ = list(set(malignant_img) - set(m_mask_img))\n",
    "benign_img_ = list(set(benign_img) - set(b_mask_img))\n",
    "\n",
    "print(f\"The number of the malignant raw Data: {len(malignant_img_)} \\nThe number of the malignant mask Data: {len(m_mask_img)}\")\n",
    "print(f\"The number of the benign raw Data: {len(benign_img_)} \\nThe number of the benign mask Data: {len(b_mask_img)}\")"
   ]
  },
  {
   "cell_type": "code",
   "execution_count": 36,
   "metadata": {},
   "outputs": [
    {
     "name": "stdout",
     "output_type": "stream",
     "text": [
      "Type of the random image: <class 'numpy.ndarray'> \n",
      "Shape of the random image: '(574, 669, 3), \n",
      "Path : /home/Sean/Project/iRail_US/Data/Dataset_BUSI_with_GT/normal/normal (131).png\n"
     ]
    },
    {
     "data": {
      "image/png": "[encoded data removed]",
      "text/plain": [
       "<Figure size 432x288 with 1 Axes>"
      ]
     },
     "metadata": {
      "needs_background": "light"
     },
     "output_type": "display_data"
    }
   ],
   "source": [
    "rand_path = random.choice(train_img)\n",
    "rand_img = mpimg.imread(rand_path)\n",
    "plt.imshow(rand_img)\n",
    "\n",
    "print( f\"Type of the random image: {type(rand_img)} \\nShape of the random image: '{rand_img.shape}, \\nPath : {rand_path}\")"
   ]
  },
  {
   "cell_type": "markdown",
   "metadata": {},
   "source": [
    "## 01 Data to CSV"
   ]
  },
  {
   "cell_type": "code",
   "execution_count": 49,
   "metadata": {},
   "outputs": [
    {
     "name": "stdout",
     "output_type": "stream",
     "text": [
      "780\n"
     ]
    }
   ],
   "source": [
    "tot_img = list(set(train_img) - set(m_mask_img) - set(b_mask_img))\n",
    "print(len(tot_img))"
   ]
  },
  {
   "cell_type": "code",
   "execution_count": 51,
   "metadata": {},
   "outputs": [
    {
     "data": {
      "text/plain": [
       "['/home/Sean/Project/iRail_US/Data/Dataset_BUSI_with_GT/benign/benign (138).png']"
      ]
     },
     "execution_count": 51,
     "metadata": {},
     "output_type": "execute_result"
    }
   ],
   "source": [
    "tot_img[:1]"
   ]
  },
  {
   "cell_type": "code",
   "execution_count": 58,
   "metadata": {
    "collapsed": true,
    "jupyter": {
     "outputs_hidden": true
    }
   },
   "outputs": [
    {
     "name": "stdout",
     "output_type": "stream",
     "text": [
      "The number of the files are : 780,\n",
      "The first file is : /home/Sean/Project/iRail_US/Data/Dataset_BUSI_with_GT/benign/benign (1).png, \n",
      "The last file is : /home/Sean/Project/iRail_US/Data/Dataset_BUSI_with_GT/normal/normal (99).png\n"
     ]
    }
   ],
   "source": [
    "imgs_path = []\n",
    "\n",
    "for i in range(len(tot_img)):\n",
    "    imgs_path.append(tot_img[i])\n",
    "    imgs_path.sort()\n",
    "\n",
    "print('The number of the files are : {},\\nThe first file is : {}, \\nThe last file is : {}'.format(len(imgs_path),imgs_path[0], imgs_path[-1] ))"
   ]
  },
  {
   "cell_type": "code",
   "execution_count": 69,
   "metadata": {},
   "outputs": [
    {
     "name": "stdout",
     "output_type": "stream",
     "text": [
      "The number of the files are : 780,\n",
      "The first file is : benign, \n",
      "The last file is : normal\n"
     ]
    }
   ],
   "source": [
    "class_path = []\n",
    "\n",
    "for i in range(len(tot_img)):\n",
    "    class_path.append(tot_img[i].split('Dataset_BUSI_with_GT/')[-1].split('/')[0])\n",
    "    class_path.sort()\n",
    "\n",
    "print('The number of the files are : {},\\nThe first file is : {}, \\nThe last file is : {}'.format(len(class_path),class_path[0], class_path[-1] ))"
   ]
  },
  {
   "cell_type": "code",
   "execution_count": 64,
   "metadata": {
    "collapsed": true,
    "jupyter": {
     "outputs_hidden": true
    }
   },
   "outputs": [
    {
     "data": {
      "text/html": [
       "<div>\n",
       "<style scoped>\n",
       "    .dataframe tbody tr th:only-of-type {\n",
       "        vertical-align: middle;\n",
       "    }\n",
       "\n",
       "    .dataframe tbody tr th {\n",
       "        vertical-align: top;\n",
       "    }\n",
       "\n",
       "    .dataframe thead th {\n",
       "        text-align: right;\n",
       "    }\n",
       "</style>\n",
       "<table border=\"1\" class=\"dataframe\">\n",
       "  <thead>\n",
       "    <tr style=\"text-align: right;\">\n",
       "      <th></th>\n",
       "      <th>image_path</th>\n",
       "    </tr>\n",
       "  </thead>\n",
       "  <tbody>\n",
       "    <tr>\n",
       "      <th>0</th>\n",
       "      <td>/home/Sean/Project/iRail_US/Data/Dataset_BUSI_...</td>\n",
       "    </tr>\n",
       "    <tr>\n",
       "      <th>1</th>\n",
       "      <td>/home/Sean/Project/iRail_US/Data/Dataset_BUSI_...</td>\n",
       "    </tr>\n",
       "    <tr>\n",
       "      <th>2</th>\n",
       "      <td>/home/Sean/Project/iRail_US/Data/Dataset_BUSI_...</td>\n",
       "    </tr>\n",
       "  </tbody>\n",
       "</table>\n",
       "</div>"
      ],
      "text/plain": [
       "                                          image_path\n",
       "0  /home/Sean/Project/iRail_US/Data/Dataset_BUSI_...\n",
       "1  /home/Sean/Project/iRail_US/Data/Dataset_BUSI_...\n",
       "2  /home/Sean/Project/iRail_US/Data/Dataset_BUSI_..."
      ]
     },
     "execution_count": 64,
     "metadata": {},
     "output_type": "execute_result"
    }
   ],
   "source": [
    "csv_list = pd.DataFrame(imgs_path, columns=['image_path'])\n",
    "csv_list[:3]"
   ]
  },
  {
   "cell_type": "code",
   "execution_count": 66,
   "metadata": {
    "collapsed": true,
    "jupyter": {
     "outputs_hidden": true
    }
   },
   "outputs": [
    {
     "data": {
      "text/html": [
       "<div>\n",
       "<style scoped>\n",
       "    .dataframe tbody tr th:only-of-type {\n",
       "        vertical-align: middle;\n",
       "    }\n",
       "\n",
       "    .dataframe tbody tr th {\n",
       "        vertical-align: top;\n",
       "    }\n",
       "\n",
       "    .dataframe thead th {\n",
       "        text-align: right;\n",
       "    }\n",
       "</style>\n",
       "<table border=\"1\" class=\"dataframe\">\n",
       "  <thead>\n",
       "    <tr style=\"text-align: right;\">\n",
       "      <th></th>\n",
       "      <th>image_path</th>\n",
       "      <th>class</th>\n",
       "    </tr>\n",
       "  </thead>\n",
       "  <tbody>\n",
       "    <tr>\n",
       "      <th>0</th>\n",
       "      <td>/home/Sean/Project/iRail_US/Data/Dataset_BUSI_...</td>\n",
       "      <td>NaN</td>\n",
       "    </tr>\n",
       "    <tr>\n",
       "      <th>1</th>\n",
       "      <td>/home/Sean/Project/iRail_US/Data/Dataset_BUSI_...</td>\n",
       "      <td>NaN</td>\n",
       "    </tr>\n",
       "    <tr>\n",
       "      <th>2</th>\n",
       "      <td>/home/Sean/Project/iRail_US/Data/Dataset_BUSI_...</td>\n",
       "      <td>NaN</td>\n",
       "    </tr>\n",
       "    <tr>\n",
       "      <th>3</th>\n",
       "      <td>/home/Sean/Project/iRail_US/Data/Dataset_BUSI_...</td>\n",
       "      <td>NaN</td>\n",
       "    </tr>\n",
       "    <tr>\n",
       "      <th>4</th>\n",
       "      <td>/home/Sean/Project/iRail_US/Data/Dataset_BUSI_...</td>\n",
       "      <td>NaN</td>\n",
       "    </tr>\n",
       "    <tr>\n",
       "      <th>...</th>\n",
       "      <td>...</td>\n",
       "      <td>...</td>\n",
       "    </tr>\n",
       "    <tr>\n",
       "      <th>775</th>\n",
       "      <td>/home/Sean/Project/iRail_US/Data/Dataset_BUSI_...</td>\n",
       "      <td>NaN</td>\n",
       "    </tr>\n",
       "    <tr>\n",
       "      <th>776</th>\n",
       "      <td>/home/Sean/Project/iRail_US/Data/Dataset_BUSI_...</td>\n",
       "      <td>NaN</td>\n",
       "    </tr>\n",
       "    <tr>\n",
       "      <th>777</th>\n",
       "      <td>/home/Sean/Project/iRail_US/Data/Dataset_BUSI_...</td>\n",
       "      <td>NaN</td>\n",
       "    </tr>\n",
       "    <tr>\n",
       "      <th>778</th>\n",
       "      <td>/home/Sean/Project/iRail_US/Data/Dataset_BUSI_...</td>\n",
       "      <td>NaN</td>\n",
       "    </tr>\n",
       "    <tr>\n",
       "      <th>779</th>\n",
       "      <td>/home/Sean/Project/iRail_US/Data/Dataset_BUSI_...</td>\n",
       "      <td>NaN</td>\n",
       "    </tr>\n",
       "  </tbody>\n",
       "</table>\n",
       "<p>780 rows × 2 columns</p>\n",
       "</div>"
      ],
      "text/plain": [
       "                                            image_path class\n",
       "0    /home/Sean/Project/iRail_US/Data/Dataset_BUSI_...   NaN\n",
       "1    /home/Sean/Project/iRail_US/Data/Dataset_BUSI_...   NaN\n",
       "2    /home/Sean/Project/iRail_US/Data/Dataset_BUSI_...   NaN\n",
       "3    /home/Sean/Project/iRail_US/Data/Dataset_BUSI_...   NaN\n",
       "4    /home/Sean/Project/iRail_US/Data/Dataset_BUSI_...   NaN\n",
       "..                                                 ...   ...\n",
       "775  /home/Sean/Project/iRail_US/Data/Dataset_BUSI_...   NaN\n",
       "776  /home/Sean/Project/iRail_US/Data/Dataset_BUSI_...   NaN\n",
       "777  /home/Sean/Project/iRail_US/Data/Dataset_BUSI_...   NaN\n",
       "778  /home/Sean/Project/iRail_US/Data/Dataset_BUSI_...   NaN\n",
       "779  /home/Sean/Project/iRail_US/Data/Dataset_BUSI_...   NaN\n",
       "\n",
       "[780 rows x 2 columns]"
      ]
     },
     "execution_count": 66,
     "metadata": {},
     "output_type": "execute_result"
    }
   ],
   "source": [
    "csv_listw = pd.DataFrame(csv_list['image_path'], columns=['image_path', 'class' ])\n",
    "csv_listw"
   ]
  },
  {
   "cell_type": "code",
   "execution_count": 93,
   "metadata": {},
   "outputs": [
    {
     "name": "stdout",
     "output_type": "stream",
     "text": [
      "The number of the files are : 780,\n",
      "The first file is : benign/benign (1).png, \n",
      "The last file is : normal/normal (99).png\n"
     ]
    }
   ],
   "source": [
    "name_path = []\n",
    "\n",
    "for i in range(len(tot_img)):\n",
    "    name_path.append(tot_img[i].split('Dataset_BUSI_with_GT/')[-1])\n",
    "    name_path.sort()\n",
    "\n",
    "print('The number of the files are : {},\\nThe first file is : {}, \\nThe last file is : {}'.format(len(name_path),name_path[0], name_path[-1] ))"
   ]
  },
  {
   "cell_type": "code",
   "execution_count": 94,
   "metadata": {},
   "outputs": [
    {
     "data": {
      "text/html": [
       "<div>\n",
       "<style scoped>\n",
       "    .dataframe tbody tr th:only-of-type {\n",
       "        vertical-align: middle;\n",
       "    }\n",
       "\n",
       "    .dataframe tbody tr th {\n",
       "        vertical-align: top;\n",
       "    }\n",
       "\n",
       "    .dataframe thead th {\n",
       "        text-align: right;\n",
       "    }\n",
       "</style>\n",
       "<table border=\"1\" class=\"dataframe\">\n",
       "  <thead>\n",
       "    <tr style=\"text-align: right;\">\n",
       "      <th></th>\n",
       "      <th>filename</th>\n",
       "      <th>class</th>\n",
       "      <th>image_path</th>\n",
       "    </tr>\n",
       "  </thead>\n",
       "  <tbody>\n",
       "    <tr>\n",
       "      <th>0</th>\n",
       "      <td>benign/benign (1).png</td>\n",
       "      <td>benign</td>\n",
       "      <td>/home/Sean/Project/iRail_US/Data/Dataset_BUSI_...</td>\n",
       "    </tr>\n",
       "    <tr>\n",
       "      <th>1</th>\n",
       "      <td>benign/benign (10).png</td>\n",
       "      <td>benign</td>\n",
       "      <td>/home/Sean/Project/iRail_US/Data/Dataset_BUSI_...</td>\n",
       "    </tr>\n",
       "    <tr>\n",
       "      <th>2</th>\n",
       "      <td>benign/benign (100).png</td>\n",
       "      <td>benign</td>\n",
       "      <td>/home/Sean/Project/iRail_US/Data/Dataset_BUSI_...</td>\n",
       "    </tr>\n",
       "    <tr>\n",
       "      <th>3</th>\n",
       "      <td>benign/benign (101).png</td>\n",
       "      <td>benign</td>\n",
       "      <td>/home/Sean/Project/iRail_US/Data/Dataset_BUSI_...</td>\n",
       "    </tr>\n",
       "    <tr>\n",
       "      <th>4</th>\n",
       "      <td>benign/benign (102).png</td>\n",
       "      <td>benign</td>\n",
       "      <td>/home/Sean/Project/iRail_US/Data/Dataset_BUSI_...</td>\n",
       "    </tr>\n",
       "    <tr>\n",
       "      <th>...</th>\n",
       "      <td>...</td>\n",
       "      <td>...</td>\n",
       "      <td>...</td>\n",
       "    </tr>\n",
       "    <tr>\n",
       "      <th>775</th>\n",
       "      <td>normal/normal (95).png</td>\n",
       "      <td>normal</td>\n",
       "      <td>/home/Sean/Project/iRail_US/Data/Dataset_BUSI_...</td>\n",
       "    </tr>\n",
       "    <tr>\n",
       "      <th>776</th>\n",
       "      <td>normal/normal (96).png</td>\n",
       "      <td>normal</td>\n",
       "      <td>/home/Sean/Project/iRail_US/Data/Dataset_BUSI_...</td>\n",
       "    </tr>\n",
       "    <tr>\n",
       "      <th>777</th>\n",
       "      <td>normal/normal (97).png</td>\n",
       "      <td>normal</td>\n",
       "      <td>/home/Sean/Project/iRail_US/Data/Dataset_BUSI_...</td>\n",
       "    </tr>\n",
       "    <tr>\n",
       "      <th>778</th>\n",
       "      <td>normal/normal (98).png</td>\n",
       "      <td>normal</td>\n",
       "      <td>/home/Sean/Project/iRail_US/Data/Dataset_BUSI_...</td>\n",
       "    </tr>\n",
       "    <tr>\n",
       "      <th>779</th>\n",
       "      <td>normal/normal (99).png</td>\n",
       "      <td>normal</td>\n",
       "      <td>/home/Sean/Project/iRail_US/Data/Dataset_BUSI_...</td>\n",
       "    </tr>\n",
       "  </tbody>\n",
       "</table>\n",
       "<p>780 rows × 3 columns</p>\n",
       "</div>"
      ],
      "text/plain": [
       "                    filename   class  \\\n",
       "0      benign/benign (1).png  benign   \n",
       "1     benign/benign (10).png  benign   \n",
       "2    benign/benign (100).png  benign   \n",
       "3    benign/benign (101).png  benign   \n",
       "4    benign/benign (102).png  benign   \n",
       "..                       ...     ...   \n",
       "775   normal/normal (95).png  normal   \n",
       "776   normal/normal (96).png  normal   \n",
       "777   normal/normal (97).png  normal   \n",
       "778   normal/normal (98).png  normal   \n",
       "779   normal/normal (99).png  normal   \n",
       "\n",
       "                                            image_path  \n",
       "0    /home/Sean/Project/iRail_US/Data/Dataset_BUSI_...  \n",
       "1    /home/Sean/Project/iRail_US/Data/Dataset_BUSI_...  \n",
       "2    /home/Sean/Project/iRail_US/Data/Dataset_BUSI_...  \n",
       "3    /home/Sean/Project/iRail_US/Data/Dataset_BUSI_...  \n",
       "4    /home/Sean/Project/iRail_US/Data/Dataset_BUSI_...  \n",
       "..                                                 ...  \n",
       "775  /home/Sean/Project/iRail_US/Data/Dataset_BUSI_...  \n",
       "776  /home/Sean/Project/iRail_US/Data/Dataset_BUSI_...  \n",
       "777  /home/Sean/Project/iRail_US/Data/Dataset_BUSI_...  \n",
       "778  /home/Sean/Project/iRail_US/Data/Dataset_BUSI_...  \n",
       "779  /home/Sean/Project/iRail_US/Data/Dataset_BUSI_...  \n",
       "\n",
       "[780 rows x 3 columns]"
      ]
     },
     "execution_count": 94,
     "metadata": {},
     "output_type": "execute_result"
    }
   ],
   "source": [
    "csv_list = pd.DataFrame({'filename' : name_path, \n",
    "                         'class' : class_path, 'image_path' : imgs_path})\n",
    "csv_list"
   ]
  },
  {
   "cell_type": "code",
   "execution_count": 95,
   "metadata": {},
   "outputs": [
    {
     "data": {
      "text/plain": [
       "class\n",
       "benign       437\n",
       "malignant    210\n",
       "normal       133\n",
       "dtype: int64"
      ]
     },
     "execution_count": 95,
     "metadata": {},
     "output_type": "execute_result"
    },
    {
     "data": {
      "image/png": "[encoded data removed]",
      "text/plain": [
       "<Figure size 432x288 with 1 Axes>"
      ]
     },
     "metadata": {
      "needs_background": "light"
     },
     "output_type": "display_data"
    }
   ],
   "source": [
    "sns.countplot(x = 'class', data=csv_list)\n",
    "csv_list.value_counts('class')"
   ]
  },
  {
   "cell_type": "markdown",
   "metadata": {},
   "source": [
    "> benign :       0\\\n",
    "malignant :   1\\\n",
    "normal     :  2"
   ]
  },
  {
   "cell_type": "code",
   "execution_count": 96,
   "metadata": {},
   "outputs": [
    {
     "data": {
      "text/html": [
       "<div>\n",
       "<style scoped>\n",
       "    .dataframe tbody tr th:only-of-type {\n",
       "        vertical-align: middle;\n",
       "    }\n",
       "\n",
       "    .dataframe tbody tr th {\n",
       "        vertical-align: top;\n",
       "    }\n",
       "\n",
       "    .dataframe thead th {\n",
       "        text-align: right;\n",
       "    }\n",
       "</style>\n",
       "<table border=\"1\" class=\"dataframe\">\n",
       "  <thead>\n",
       "    <tr style=\"text-align: right;\">\n",
       "      <th></th>\n",
       "      <th>filename</th>\n",
       "      <th>class</th>\n",
       "      <th>image_path</th>\n",
       "    </tr>\n",
       "  </thead>\n",
       "  <tbody>\n",
       "    <tr>\n",
       "      <th>0</th>\n",
       "      <td>benign/benign (1).png</td>\n",
       "      <td>0</td>\n",
       "      <td>/home/Sean/Project/iRail_US/Data/Dataset_BUSI_...</td>\n",
       "    </tr>\n",
       "    <tr>\n",
       "      <th>1</th>\n",
       "      <td>benign/benign (10).png</td>\n",
       "      <td>0</td>\n",
       "      <td>/home/Sean/Project/iRail_US/Data/Dataset_BUSI_...</td>\n",
       "    </tr>\n",
       "    <tr>\n",
       "      <th>2</th>\n",
       "      <td>benign/benign (100).png</td>\n",
       "      <td>0</td>\n",
       "      <td>/home/Sean/Project/iRail_US/Data/Dataset_BUSI_...</td>\n",
       "    </tr>\n",
       "    <tr>\n",
       "      <th>3</th>\n",
       "      <td>benign/benign (101).png</td>\n",
       "      <td>0</td>\n",
       "      <td>/home/Sean/Project/iRail_US/Data/Dataset_BUSI_...</td>\n",
       "    </tr>\n",
       "    <tr>\n",
       "      <th>4</th>\n",
       "      <td>benign/benign (102).png</td>\n",
       "      <td>0</td>\n",
       "      <td>/home/Sean/Project/iRail_US/Data/Dataset_BUSI_...</td>\n",
       "    </tr>\n",
       "    <tr>\n",
       "      <th>...</th>\n",
       "      <td>...</td>\n",
       "      <td>...</td>\n",
       "      <td>...</td>\n",
       "    </tr>\n",
       "    <tr>\n",
       "      <th>775</th>\n",
       "      <td>normal/normal (95).png</td>\n",
       "      <td>2</td>\n",
       "      <td>/home/Sean/Project/iRail_US/Data/Dataset_BUSI_...</td>\n",
       "    </tr>\n",
       "    <tr>\n",
       "      <th>776</th>\n",
       "      <td>normal/normal (96).png</td>\n",
       "      <td>2</td>\n",
       "      <td>/home/Sean/Project/iRail_US/Data/Dataset_BUSI_...</td>\n",
       "    </tr>\n",
       "    <tr>\n",
       "      <th>777</th>\n",
       "      <td>normal/normal (97).png</td>\n",
       "      <td>2</td>\n",
       "      <td>/home/Sean/Project/iRail_US/Data/Dataset_BUSI_...</td>\n",
       "    </tr>\n",
       "    <tr>\n",
       "      <th>778</th>\n",
       "      <td>normal/normal (98).png</td>\n",
       "      <td>2</td>\n",
       "      <td>/home/Sean/Project/iRail_US/Data/Dataset_BUSI_...</td>\n",
       "    </tr>\n",
       "    <tr>\n",
       "      <th>779</th>\n",
       "      <td>normal/normal (99).png</td>\n",
       "      <td>2</td>\n",
       "      <td>/home/Sean/Project/iRail_US/Data/Dataset_BUSI_...</td>\n",
       "    </tr>\n",
       "  </tbody>\n",
       "</table>\n",
       "<p>780 rows × 3 columns</p>\n",
       "</div>"
      ],
      "text/plain": [
       "                    filename class  \\\n",
       "0      benign/benign (1).png     0   \n",
       "1     benign/benign (10).png     0   \n",
       "2    benign/benign (100).png     0   \n",
       "3    benign/benign (101).png     0   \n",
       "4    benign/benign (102).png     0   \n",
       "..                       ...   ...   \n",
       "775   normal/normal (95).png     2   \n",
       "776   normal/normal (96).png     2   \n",
       "777   normal/normal (97).png     2   \n",
       "778   normal/normal (98).png     2   \n",
       "779   normal/normal (99).png     2   \n",
       "\n",
       "                                            image_path  \n",
       "0    /home/Sean/Project/iRail_US/Data/Dataset_BUSI_...  \n",
       "1    /home/Sean/Project/iRail_US/Data/Dataset_BUSI_...  \n",
       "2    /home/Sean/Project/iRail_US/Data/Dataset_BUSI_...  \n",
       "3    /home/Sean/Project/iRail_US/Data/Dataset_BUSI_...  \n",
       "4    /home/Sean/Project/iRail_US/Data/Dataset_BUSI_...  \n",
       "..                                                 ...  \n",
       "775  /home/Sean/Project/iRail_US/Data/Dataset_BUSI_...  \n",
       "776  /home/Sean/Project/iRail_US/Data/Dataset_BUSI_...  \n",
       "777  /home/Sean/Project/iRail_US/Data/Dataset_BUSI_...  \n",
       "778  /home/Sean/Project/iRail_US/Data/Dataset_BUSI_...  \n",
       "779  /home/Sean/Project/iRail_US/Data/Dataset_BUSI_...  \n",
       "\n",
       "[780 rows x 3 columns]"
      ]
     },
     "execution_count": 96,
     "metadata": {},
     "output_type": "execute_result"
    }
   ],
   "source": [
    "csv_list['class'] = csv_list['class'].replace(['benign','malignant','normal'],['0','1','2'])\n",
    "csv_list"
   ]
  },
  {
   "cell_type": "code",
   "execution_count": 97,
   "metadata": {},
   "outputs": [],
   "source": [
    "csv_list.to_csv(\"Busi_US.csv\", index = False)"
   ]
  },
  {
   "cell_type": "markdown",
   "metadata": {},
   "source": [
    "## 02 Data Load"
   ]
  },
  {
   "cell_type": "code",
   "execution_count": 98,
   "metadata": {},
   "outputs": [
    {
     "name": "stdout",
     "output_type": "stream",
     "text": [
      "'cuda' is avilable.\n"
     ]
    }
   ],
   "source": [
    "import torch\n",
    "import torch.nn as nn  # All neural network modules, nn.Linear, nn.Conv2d, BatchNorm, Loss functions\n",
    "import torch.optim as optim  # For all Optimization algorithms, SGD, Adam, etc.\n",
    "import torchvision.transforms as transforms  # Transformations we can perform on our dataset\n",
    "import torchvision\n",
    "import os\n",
    "import pandas as pd\n",
    "from skimage import io\n",
    "from torch.utils.data import (\n",
    "    Dataset,\n",
    "    DataLoader,\n",
    ") \n",
    "\n",
    "device = 'cuda' if torch.cuda.is_available() else 'cpu'\n",
    "print(f\"'{device}' is avilable.\")"
   ]
  },
  {
   "cell_type": "code",
   "execution_count": 122,
   "metadata": {},
   "outputs": [],
   "source": [
    "from skimage import io\n",
    "\n",
    "class BusiUSDataset(Dataset):\n",
    "    def __init__(self, csv_file, root_dir, transform=None):\n",
    "        self.annotations = pd.read_csv(csv_file)\n",
    "        self.root_dir = root_dir\n",
    "        self.transform = transform\n",
    "\n",
    "    def __len__(self):\n",
    "        return len(self.annotations)\n",
    "\n",
    "    def __getitem__(self, index):\n",
    "        img_path = os.path.join(self.root_dir, self.annotations.iloc[index, 0])\n",
    "        image = io.imread(img_path)\n",
    "        y_label = torch.tensor(int(self.annotations.iloc[index, 1]))\n",
    "\n",
    "        if self.transform:\n",
    "            image = self.transform(image)\n",
    "\n",
    "        return (image, y_label)"
   ]
  },
  {
   "cell_type": "code",
   "execution_count": 123,
   "metadata": {},
   "outputs": [],
   "source": [
    "# Hyperparameters\n",
    "in_channel = 3\n",
    "num_classes = 2\n",
    "learning_rate = 1e-3\n",
    "batch_size = 32\n",
    "num_epochs = 10"
   ]
  },
  {
   "cell_type": "markdown",
   "metadata": {},
   "source": [
    "## 03 Std and Mean"
   ]
  },
  {
   "cell_type": "code",
   "execution_count": 182,
   "metadata": {
    "jupyter": {
     "source_hidden": true
    }
   },
   "outputs": [],
   "source": [
    "transformations = transforms.Compose([transforms.ToPILImage(), \n",
    "                                      transforms.Resize((224, 224)), transforms.ToTensor(), \n",
    "                                      transforms.Normalize((0.5, 0.5, 0.5), (0.5, 0.5, 0.5))])"
   ]
  },
  {
   "cell_type": "code",
   "execution_count": null,
   "metadata": {},
   "outputs": [],
   "source": [
    "transformations = transforms.Compose([transforms.Resize((224, 224)), transforms.ToTensor()])"
   ]
  },
  {
   "cell_type": "code",
   "execution_count": 183,
   "metadata": {},
   "outputs": [],
   "source": [
    "train_dataset = ImageFolder(img_path, transform = transformations)\n",
    "train_loader = DataLoader(dataset = train_dataset, batch_size = 64, shuffle = True)"
   ]
  },
  {
   "cell_type": "code",
   "execution_count": 184,
   "metadata": {},
   "outputs": [
    {
     "data": {
      "text/plain": [
       "<torch.utils.data.dataloader.DataLoader at 0x7f1231693e80>"
      ]
     },
     "execution_count": 184,
     "metadata": {},
     "output_type": "execute_result"
    }
   ],
   "source": [
    "train_loader"
   ]
  },
  {
   "cell_type": "code",
   "execution_count": 185,
   "metadata": {},
   "outputs": [
    {
     "name": "stdout",
     "output_type": "stream",
     "text": [
      "tensor([0.3211, 0.3211, 0.3210]) tensor([0.2232, 0.2232, 0.2232])\n",
      " The mean value of the images : tensor([0.3211, 0.3211, 0.3210]),\n",
      " Standard Deviation values are : tensor([0.2232, 0.2232, 0.2232])\n"
     ]
    }
   ],
   "source": [
    "def get_mean_std(loader):\n",
    "    # Var[x] = E[x**2] - E[X]**2\n",
    "    channels_sum, channels_squared_sum, num_batches = 0, 0, 0\n",
    "    \n",
    "    for data, _ in loader:\n",
    "        channels_sum += torch.mean(data, dim=[0,2,3])\n",
    "        channels_squared_sum += torch.mean(data**2, dim=[0,2,3])\n",
    "        num_batches += 1\n",
    "        \n",
    "    mean = channels_sum/num_batches\n",
    "    std = (channels_squared_sum/num_batches - mean**2)**0.5\n",
    "    \n",
    "    return mean, std\n",
    "\n",
    "mean, std = get_mean_std(train_loader)\n",
    "print(mean, std)\n",
    "\n",
    "print(f\" The mean value of the images : {mean},\\n Standard Deviation values are : {std}\")"
   ]
  },
  {
   "cell_type": "markdown",
   "metadata": {},
   "source": [
    "## Dataloader - After Normalization"
   ]
  },
  {
   "cell_type": "markdown",
   "metadata": {},
   "source": [
    ">Because of the number of dataset isn't enough, and using pretrained weight of imagenet. \\\n",
    "I can use mean and std from ImageNet, or mean of (0.5, 0.5, 0.5) and std of (0.25, 0.25, 0.25)."
   ]
  },
  {
   "cell_type": "code",
   "execution_count": 197,
   "metadata": {},
   "outputs": [],
   "source": [
    "transformations = transforms.Compose([transforms.ToPILImage(), \n",
    "                                      transforms.Resize((224, 224)), transforms.ToTensor(), \n",
    "                                      transforms.Normalize((0.5, 0.5, 0.5), (0.5, 0.5, 0.5))])"
   ]
  },
  {
   "cell_type": "code",
   "execution_count": 198,
   "metadata": {},
   "outputs": [],
   "source": [
    "dataset = BusiUSDataset(\n",
    "    csv_file=\"/home/Sean/Project/iRail_US/Busi_US.csv\",\n",
    "    root_dir=\"/home/Sean/Project/iRail_US/Data/Dataset_BUSI_with_GT\",\n",
    "    transform=transformations,\n",
    ")"
   ]
  },
  {
   "cell_type": "code",
   "execution_count": 199,
   "metadata": {},
   "outputs": [],
   "source": [
    "train_set, test_set = torch.utils.data.random_split(dataset, [700, 80])\n",
    "train_loader = DataLoader(dataset=train_set, batch_size=batch_size, shuffle=True)\n",
    "test_loader = DataLoader(dataset=test_set, batch_size=batch_size, shuffle=True)"
   ]
  },
  {
   "cell_type": "code",
   "execution_count": 200,
   "metadata": {},
   "outputs": [],
   "source": [
    "from torchvision.utils import make_grid\n",
    "\n",
    "def show_batch(dl):\n",
    "    for images, labels in dl:\n",
    "        fig, ax = plt.subplots(figsize=(12, 6))\n",
    "        ax.set_xticks([])\n",
    "        ax.set_yticks([])\n",
    "        ax.imshow(make_grid(images, nrow = 16).permute(1, 2, 0))\n",
    "        break"
   ]
  },
  {
   "cell_type": "code",
   "execution_count": 201,
   "metadata": {},
   "outputs": [
    {
     "name": "stderr",
     "output_type": "stream",
     "text": [
      "Clipping input data to the valid range for imshow with RGB data ([0..1] for floats or [0..255] for integers).\n"
     ]
    },
    {
     "data": {
      "image/png": "[encoded data removed]",
      "text/plain": [
       "<Figure size 864x432 with 1 Axes>"
      ]
     },
     "metadata": {},
     "output_type": "display_data"
    }
   ],
   "source": [
    "show_batch(train_loader)"
   ]
  },
  {
   "cell_type": "code",
   "execution_count": 202,
   "metadata": {},
   "outputs": [],
   "source": [
    "# Model\n",
    "model = torchvision.models.resnet50(pretrained=True)\n",
    "model.to(device)\n",
    "# Loss and optimizer\n",
    "criterion = nn.CrossEntropyLoss()\n",
    "optimizer = optim.Adam(model.parameters(), lr=learning_rate)"
   ]
  },
  {
   "cell_type": "code",
   "execution_count": 203,
   "metadata": {},
   "outputs": [
    {
     "name": "stdout",
     "output_type": "stream",
     "text": [
      "Cost at epoch 0 is 1.7385787151076577\n",
      "Cost at epoch 1 is 0.4336666844107888\n",
      "Cost at epoch 2 is 0.25508943471041595\n",
      "Cost at epoch 3 is 0.2692535429854285\n",
      "Cost at epoch 4 is 0.18853012404658578\n",
      "Cost at epoch 5 is 0.19420975582166153\n",
      "Cost at epoch 6 is 0.12644635648889976\n",
      "Cost at epoch 7 is 0.10108491020615805\n",
      "Cost at epoch 8 is 0.07512392675165426\n",
      "Cost at epoch 9 is 0.04817428880646317\n"
     ]
    }
   ],
   "source": [
    "for epoch in range(num_epochs):\n",
    "    losses = []\n",
    "\n",
    "    for batch_idx, (data, targets) in enumerate(train_loader):\n",
    "        data = data.to(device=device)\n",
    "        targets = targets.to(device=device)\n",
    "\n",
    "        scores = model(data)\n",
    "        loss = criterion(scores, targets)\n",
    "        losses.append(loss.item())\n",
    "\n",
    "        optimizer.zero_grad()\n",
    "        loss.backward()\n",
    "\n",
    "        optimizer.step()\n",
    "\n",
    "    print(f\"Cost at epoch {epoch} is {sum(losses)/len(losses)}\")"
   ]
  },
  {
   "cell_type": "code",
   "execution_count": 204,
   "metadata": {},
   "outputs": [],
   "source": [
    "def check_accuracy(loader, model):\n",
    "    num_correct = 0\n",
    "    num_samples = 0\n",
    "    model.eval()\n",
    "\n",
    "    with torch.no_grad():\n",
    "        for x, y in loader:\n",
    "            x = x.to(device=device)\n",
    "            y = y.to(device=device)\n",
    "\n",
    "            scores = model(x)\n",
    "            _, predictions = scores.max(1)\n",
    "            num_correct += (predictions == y).sum()\n",
    "            num_samples += predictions.size(0)\n",
    "\n",
    "        print(f\"Got {num_correct} / {num_samples} with accuracy {float(num_correct)/float(num_samples)*100:.2f}\")\n",
    "\n",
    "    model.train()"
   ]
  },
  {
   "cell_type": "code",
   "execution_count": 205,
   "metadata": {},
   "outputs": [
    {
     "name": "stdout",
     "output_type": "stream",
     "text": [
      "Checking accuracy on Training Set\n",
      "Got 689 / 700 with accuracy 98.43\n",
      "Checking accuracy on Test Set\n",
      "Got 67 / 80 with accuracy 83.75\n"
     ]
    }
   ],
   "source": [
    "print(\"Checking accuracy on Training Set\")\n",
    "check_accuracy(train_loader, model)\n",
    "\n",
    "print(\"Checking accuracy on Test Set\")\n",
    "check_accuracy(test_loader, model)"
   ]
  },
  {
   "cell_type": "markdown",
   "metadata": {},
   "source": [
    "## Multilabel Classification"
   ]
  },
  {
   "cell_type": "markdown",
   "metadata": {},
   "source": [
    "reference : https://towardsdatascience.com/multi-label-image-classification-with-neural-network-keras-ddc1ab1afede"
   ]
  },
  {
   "cell_type": "code",
   "execution_count": null,
   "metadata": {},
   "outputs": [],
   "source": []
  }
 ],
 "metadata": {
  "kernelspec": {
   "display_name": "Python 3",
   "language": "python",
   "name": "python3"
  },
  "language_info": {
   "codemirror_mode": {
    "name": "ipython",
    "version": 3
   },
   "file_extension": ".py",
   "mimetype": "text/x-python",
   "name": "python",
   "nbconvert_exporter": "python",
   "pygments_lexer": "ipython3",
   "version": "3.6.9"
  }
 },
 "nbformat": 4,
 "nbformat_minor": 4
}
