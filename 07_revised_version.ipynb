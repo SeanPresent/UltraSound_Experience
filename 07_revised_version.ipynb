{
 "cells": [
  {
   "cell_type": "code",
   "execution_count": 2,
   "metadata": {},
   "outputs": [],
   "source": [
    "import cv2\n",
    "import torch\n",
    "import os\n",
    "import random\n",
    "import math\n",
    "import glob \n",
    "import pathlib\n",
    "import csv, PIL\n",
    "import time, zipfile\n",
    "import shutil\n",
    "\n",
    "import numpy as np\n",
    "import pandas as pd\n",
    "import matplotlib.pyplot as plt\n",
    "import matplotlib.image as mpimg\n",
    "import seaborn as sns\n",
    "\n",
    "from pathlib import Path\n",
    "from tqdm import tqdm\n",
    "from PIL import Image\n",
    "from os import listdir\n",
    "from torchvision import*\n",
    "\n",
    "%matplotlib inline"
   ]
  },
  {
   "cell_type": "markdown",
   "metadata": {},
   "source": [
    "## k-fold validation"
   ]
  },
  {
   "cell_type": "code",
   "execution_count": 3,
   "metadata": {},
   "outputs": [],
   "source": [
    "import numpy as np, pandas as pd\n",
    "from glob import glob\n",
    "import shutil, os \n",
    "import matplotlib.pyplot as plt\n",
    "from sklearn.model_selection import GroupKFold\n",
    "from tqdm.notebook import tqdm\n",
    "import seaborn as sns\n",
    "import cv2\n",
    "from platform import python_version"
   ]
  },
  {
   "cell_type": "raw",
   "metadata": {},
   "source": [
    "dim = 224\n",
    "fold = 4"
   ]
  },
  {
   "cell_type": "code",
   "execution_count": 442,
   "metadata": {},
   "outputs": [
    {
     "data": {
      "text/html": [
       "<div>\n",
       "<style scoped>\n",
       "    .dataframe tbody tr th:only-of-type {\n",
       "        vertical-align: middle;\n",
       "    }\n",
       "\n",
       "    .dataframe tbody tr th {\n",
       "        vertical-align: top;\n",
       "    }\n",
       "\n",
       "    .dataframe thead th {\n",
       "        text-align: right;\n",
       "    }\n",
       "</style>\n",
       "<table border=\"1\" class=\"dataframe\">\n",
       "  <thead>\n",
       "    <tr style=\"text-align: right;\">\n",
       "      <th></th>\n",
       "      <th>Filename</th>\n",
       "      <th>converted_filename</th>\n",
       "      <th>Effusion</th>\n",
       "      <th>Consolidations</th>\n",
       "      <th>B-lines</th>\n",
       "      <th>Healthy</th>\n",
       "    </tr>\n",
       "  </thead>\n",
       "  <tbody>\n",
       "    <tr>\n",
       "      <th>0</th>\n",
       "      <td>Cov-Atlas+(44)</td>\n",
       "      <td>Cov-Atlas+(44)_frame_012.jpg</td>\n",
       "      <td>0</td>\n",
       "      <td>1</td>\n",
       "      <td>0</td>\n",
       "      <td>0</td>\n",
       "    </tr>\n",
       "    <tr>\n",
       "      <th>1</th>\n",
       "      <td>Cov-Atlas+(44)</td>\n",
       "      <td>Cov-Atlas+(44)_frame_009.jpg</td>\n",
       "      <td>0</td>\n",
       "      <td>1</td>\n",
       "      <td>0</td>\n",
       "      <td>0</td>\n",
       "    </tr>\n",
       "    <tr>\n",
       "      <th>2</th>\n",
       "      <td>Cov-Atlas+(44)</td>\n",
       "      <td>Cov-Atlas+(44)_frame_039.jpg</td>\n",
       "      <td>0</td>\n",
       "      <td>1</td>\n",
       "      <td>0</td>\n",
       "      <td>0</td>\n",
       "    </tr>\n",
       "    <tr>\n",
       "      <th>3</th>\n",
       "      <td>Cov-Atlas+(44)</td>\n",
       "      <td>Cov-Atlas+(44)_frame_033.jpg</td>\n",
       "      <td>0</td>\n",
       "      <td>1</td>\n",
       "      <td>0</td>\n",
       "      <td>0</td>\n",
       "    </tr>\n",
       "    <tr>\n",
       "      <th>4</th>\n",
       "      <td>Cov-Atlas-+(43)</td>\n",
       "      <td>Cov-Atlas-+(43)_frame_012.jpg</td>\n",
       "      <td>0</td>\n",
       "      <td>0</td>\n",
       "      <td>1</td>\n",
       "      <td>0</td>\n",
       "    </tr>\n",
       "  </tbody>\n",
       "</table>\n",
       "</div>"
      ],
      "text/plain": [
       "          Filename             converted_filename  Effusion  Consolidations  \\\n",
       "0   Cov-Atlas+(44)   Cov-Atlas+(44)_frame_012.jpg         0               1   \n",
       "1   Cov-Atlas+(44)   Cov-Atlas+(44)_frame_009.jpg         0               1   \n",
       "2   Cov-Atlas+(44)   Cov-Atlas+(44)_frame_039.jpg         0               1   \n",
       "3   Cov-Atlas+(44)   Cov-Atlas+(44)_frame_033.jpg         0               1   \n",
       "4  Cov-Atlas-+(43)  Cov-Atlas-+(43)_frame_012.jpg         0               0   \n",
       "\n",
       "   B-lines  Healthy  \n",
       "0        0        0  \n",
       "1        0        0  \n",
       "2        0        0  \n",
       "3        0        0  \n",
       "4        1        0  "
      ]
     },
     "execution_count": 442,
     "metadata": {},
     "output_type": "execute_result"
    }
   ],
   "source": [
    "df = pd.read_csv('/home/Sean/PoCOVID/4real/covid19_pocus_ultrasound_pytorch/code/data/train_test_val.csv')\n",
    "df.head()"
   ]
  },
  {
   "cell_type": "code",
   "execution_count": 443,
   "metadata": {},
   "outputs": [
    {
     "data": {
      "text/html": [
       "<div>\n",
       "<style scoped>\n",
       "    .dataframe tbody tr th:only-of-type {\n",
       "        vertical-align: middle;\n",
       "    }\n",
       "\n",
       "    .dataframe tbody tr th {\n",
       "        vertical-align: top;\n",
       "    }\n",
       "\n",
       "    .dataframe thead th {\n",
       "        text-align: right;\n",
       "    }\n",
       "</style>\n",
       "<table border=\"1\" class=\"dataframe\">\n",
       "  <thead>\n",
       "    <tr style=\"text-align: right;\">\n",
       "      <th></th>\n",
       "      <th>Filename</th>\n",
       "      <th>converted_filename</th>\n",
       "      <th>Effusion</th>\n",
       "      <th>Consolidations</th>\n",
       "      <th>B-lines</th>\n",
       "      <th>Healthy</th>\n",
       "      <th>fold</th>\n",
       "    </tr>\n",
       "  </thead>\n",
       "  <tbody>\n",
       "    <tr>\n",
       "      <th>0</th>\n",
       "      <td>Cov-Atlas+(44)</td>\n",
       "      <td>Cov-Atlas+(44)_frame_012.jpg</td>\n",
       "      <td>0</td>\n",
       "      <td>1</td>\n",
       "      <td>0</td>\n",
       "      <td>0</td>\n",
       "      <td>-1</td>\n",
       "    </tr>\n",
       "    <tr>\n",
       "      <th>1</th>\n",
       "      <td>Cov-Atlas+(44)</td>\n",
       "      <td>Cov-Atlas+(44)_frame_009.jpg</td>\n",
       "      <td>0</td>\n",
       "      <td>1</td>\n",
       "      <td>0</td>\n",
       "      <td>0</td>\n",
       "      <td>-1</td>\n",
       "    </tr>\n",
       "    <tr>\n",
       "      <th>2</th>\n",
       "      <td>Cov-Atlas+(44)</td>\n",
       "      <td>Cov-Atlas+(44)_frame_039.jpg</td>\n",
       "      <td>0</td>\n",
       "      <td>1</td>\n",
       "      <td>0</td>\n",
       "      <td>0</td>\n",
       "      <td>-1</td>\n",
       "    </tr>\n",
       "    <tr>\n",
       "      <th>3</th>\n",
       "      <td>Cov-Atlas+(44)</td>\n",
       "      <td>Cov-Atlas+(44)_frame_033.jpg</td>\n",
       "      <td>0</td>\n",
       "      <td>1</td>\n",
       "      <td>0</td>\n",
       "      <td>0</td>\n",
       "      <td>-1</td>\n",
       "    </tr>\n",
       "    <tr>\n",
       "      <th>4</th>\n",
       "      <td>Cov-Atlas-+(43)</td>\n",
       "      <td>Cov-Atlas-+(43)_frame_012.jpg</td>\n",
       "      <td>0</td>\n",
       "      <td>0</td>\n",
       "      <td>1</td>\n",
       "      <td>0</td>\n",
       "      <td>-1</td>\n",
       "    </tr>\n",
       "    <tr>\n",
       "      <th>...</th>\n",
       "      <td>...</td>\n",
       "      <td>...</td>\n",
       "      <td>...</td>\n",
       "      <td>...</td>\n",
       "      <td>...</td>\n",
       "      <td>...</td>\n",
       "      <td>...</td>\n",
       "    </tr>\n",
       "    <tr>\n",
       "      <th>2169</th>\n",
       "      <td>pneu-radiopaeda</td>\n",
       "      <td>pneu-radiopaeda_frame_096.jpg</td>\n",
       "      <td>0</td>\n",
       "      <td>1</td>\n",
       "      <td>0</td>\n",
       "      <td>0</td>\n",
       "      <td>-1</td>\n",
       "    </tr>\n",
       "    <tr>\n",
       "      <th>2170</th>\n",
       "      <td>pneu-radiopaeda</td>\n",
       "      <td>pneu-radiopaeda_frame_036.jpg</td>\n",
       "      <td>0</td>\n",
       "      <td>1</td>\n",
       "      <td>0</td>\n",
       "      <td>0</td>\n",
       "      <td>-1</td>\n",
       "    </tr>\n",
       "    <tr>\n",
       "      <th>2171</th>\n",
       "      <td>pneu-radiopaeda</td>\n",
       "      <td>pneu-radiopaeda_frame_081.jpg</td>\n",
       "      <td>0</td>\n",
       "      <td>1</td>\n",
       "      <td>0</td>\n",
       "      <td>0</td>\n",
       "      <td>-1</td>\n",
       "    </tr>\n",
       "    <tr>\n",
       "      <th>2172</th>\n",
       "      <td>pneu-radiopaeda</td>\n",
       "      <td>pneu-radiopaeda_frame_018.jpg</td>\n",
       "      <td>0</td>\n",
       "      <td>1</td>\n",
       "      <td>0</td>\n",
       "      <td>0</td>\n",
       "      <td>-1</td>\n",
       "    </tr>\n",
       "    <tr>\n",
       "      <th>2173</th>\n",
       "      <td>pneu-radiopaeda</td>\n",
       "      <td>pneu-radiopaeda_frame_132.jpg</td>\n",
       "      <td>0</td>\n",
       "      <td>1</td>\n",
       "      <td>0</td>\n",
       "      <td>0</td>\n",
       "      <td>-1</td>\n",
       "    </tr>\n",
       "  </tbody>\n",
       "</table>\n",
       "<p>2174 rows × 7 columns</p>\n",
       "</div>"
      ],
      "text/plain": [
       "             Filename             converted_filename  Effusion  \\\n",
       "0      Cov-Atlas+(44)   Cov-Atlas+(44)_frame_012.jpg         0   \n",
       "1      Cov-Atlas+(44)   Cov-Atlas+(44)_frame_009.jpg         0   \n",
       "2      Cov-Atlas+(44)   Cov-Atlas+(44)_frame_039.jpg         0   \n",
       "3      Cov-Atlas+(44)   Cov-Atlas+(44)_frame_033.jpg         0   \n",
       "4     Cov-Atlas-+(43)  Cov-Atlas-+(43)_frame_012.jpg         0   \n",
       "...               ...                            ...       ...   \n",
       "2169  pneu-radiopaeda  pneu-radiopaeda_frame_096.jpg         0   \n",
       "2170  pneu-radiopaeda  pneu-radiopaeda_frame_036.jpg         0   \n",
       "2171  pneu-radiopaeda  pneu-radiopaeda_frame_081.jpg         0   \n",
       "2172  pneu-radiopaeda  pneu-radiopaeda_frame_018.jpg         0   \n",
       "2173  pneu-radiopaeda  pneu-radiopaeda_frame_132.jpg         0   \n",
       "\n",
       "      Consolidations  B-lines  Healthy  fold  \n",
       "0                  1        0        0    -1  \n",
       "1                  1        0        0    -1  \n",
       "2                  1        0        0    -1  \n",
       "3                  1        0        0    -1  \n",
       "4                  0        1        0    -1  \n",
       "...              ...      ...      ...   ...  \n",
       "2169               1        0        0    -1  \n",
       "2170               1        0        0    -1  \n",
       "2171               1        0        0    -1  \n",
       "2172               1        0        0    -1  \n",
       "2173               1        0        0    -1  \n",
       "\n",
       "[2174 rows x 7 columns]"
      ]
     },
     "execution_count": 443,
     "metadata": {},
     "output_type": "execute_result"
    }
   ],
   "source": [
    "Kfold = GroupKFold(n_splits = 5)\n",
    "df['fold'] = -1\n",
    "df"
   ]
  },
  {
   "cell_type": "code",
   "execution_count": 444,
   "metadata": {},
   "outputs": [
    {
     "data": {
      "text/html": [
       "<div>\n",
       "<style scoped>\n",
       "    .dataframe tbody tr th:only-of-type {\n",
       "        vertical-align: middle;\n",
       "    }\n",
       "\n",
       "    .dataframe tbody tr th {\n",
       "        vertical-align: top;\n",
       "    }\n",
       "\n",
       "    .dataframe thead th {\n",
       "        text-align: right;\n",
       "    }\n",
       "</style>\n",
       "<table border=\"1\" class=\"dataframe\">\n",
       "  <thead>\n",
       "    <tr style=\"text-align: right;\">\n",
       "      <th></th>\n",
       "      <th>Filename</th>\n",
       "      <th>converted_filename</th>\n",
       "      <th>Effusion</th>\n",
       "      <th>Consolidations</th>\n",
       "      <th>B-lines</th>\n",
       "      <th>Healthy</th>\n",
       "      <th>fold</th>\n",
       "    </tr>\n",
       "  </thead>\n",
       "  <tbody>\n",
       "    <tr>\n",
       "      <th>0</th>\n",
       "      <td>Cov-Atlas+(44)</td>\n",
       "      <td>Cov-Atlas+(44)_frame_012.jpg</td>\n",
       "      <td>0</td>\n",
       "      <td>1</td>\n",
       "      <td>0</td>\n",
       "      <td>0</td>\n",
       "      <td>1</td>\n",
       "    </tr>\n",
       "    <tr>\n",
       "      <th>1</th>\n",
       "      <td>Cov-Atlas+(44)</td>\n",
       "      <td>Cov-Atlas+(44)_frame_009.jpg</td>\n",
       "      <td>0</td>\n",
       "      <td>1</td>\n",
       "      <td>0</td>\n",
       "      <td>0</td>\n",
       "      <td>3</td>\n",
       "    </tr>\n",
       "    <tr>\n",
       "      <th>2</th>\n",
       "      <td>Cov-Atlas+(44)</td>\n",
       "      <td>Cov-Atlas+(44)_frame_039.jpg</td>\n",
       "      <td>0</td>\n",
       "      <td>1</td>\n",
       "      <td>0</td>\n",
       "      <td>0</td>\n",
       "      <td>3</td>\n",
       "    </tr>\n",
       "    <tr>\n",
       "      <th>3</th>\n",
       "      <td>Cov-Atlas+(44)</td>\n",
       "      <td>Cov-Atlas+(44)_frame_033.jpg</td>\n",
       "      <td>0</td>\n",
       "      <td>1</td>\n",
       "      <td>0</td>\n",
       "      <td>0</td>\n",
       "      <td>2</td>\n",
       "    </tr>\n",
       "    <tr>\n",
       "      <th>4</th>\n",
       "      <td>Cov-Atlas-+(43)</td>\n",
       "      <td>Cov-Atlas-+(43)_frame_012.jpg</td>\n",
       "      <td>0</td>\n",
       "      <td>0</td>\n",
       "      <td>1</td>\n",
       "      <td>0</td>\n",
       "      <td>0</td>\n",
       "    </tr>\n",
       "  </tbody>\n",
       "</table>\n",
       "</div>"
      ],
      "text/plain": [
       "          Filename             converted_filename  Effusion  Consolidations  \\\n",
       "0   Cov-Atlas+(44)   Cov-Atlas+(44)_frame_012.jpg         0               1   \n",
       "1   Cov-Atlas+(44)   Cov-Atlas+(44)_frame_009.jpg         0               1   \n",
       "2   Cov-Atlas+(44)   Cov-Atlas+(44)_frame_039.jpg         0               1   \n",
       "3   Cov-Atlas+(44)   Cov-Atlas+(44)_frame_033.jpg         0               1   \n",
       "4  Cov-Atlas-+(43)  Cov-Atlas-+(43)_frame_012.jpg         0               0   \n",
       "\n",
       "   B-lines  Healthy  fold  \n",
       "0        0        0     1  \n",
       "1        0        0     3  \n",
       "2        0        0     3  \n",
       "3        0        0     2  \n",
       "4        1        0     0  "
      ]
     },
     "execution_count": 444,
     "metadata": {},
     "output_type": "execute_result"
    }
   ],
   "source": [
    "Kfold  = GroupKFold(n_splits = 5)\n",
    "df['fold'] = -1\n",
    "for fold, (train_idx, val_idx) in enumerate(Kfold.split(df, groups = df.converted_filename.values.tolist())):\n",
    "    df.loc[val_idx, 'fold'] = fold\n",
    "df.head()"
   ]
  },
  {
   "cell_type": "code",
   "execution_count": null,
   "metadata": {},
   "outputs": [],
   "source": [
    "df.groupby('fold')['converted_filename'].agg(lambda x : x.nunique()).reset_index()"
   ]
  },
  {
   "cell_type": "code",
   "execution_count": 15,
   "metadata": {
    "collapsed": true,
    "jupyter": {
     "outputs_hidden": true
    }
   },
   "outputs": [
    {
     "data": {
      "text/plain": [
       "1    1451\n",
       "0    1451\n",
       "3    1450\n",
       "2    1450\n",
       "4    1450\n",
       "Name: fold, dtype: int64"
      ]
     },
     "execution_count": 15,
     "metadata": {},
     "output_type": "execute_result"
    }
   ],
   "source": [
    "df.fold.value_counts()"
   ]
  },
  {
   "cell_type": "markdown",
   "metadata": {},
   "source": [
    "## Run model w/o duplication"
   ]
  },
  {
   "cell_type": "markdown",
   "metadata": {},
   "source": [
    "https://jonsyou.tistory.com/23"
   ]
  },
  {
   "cell_type": "markdown",
   "metadata": {},
   "source": [
    "https://stackoverflow.com/questions/29576430/shuffle-dataframe-rows"
   ]
  },
  {
   "cell_type": "code",
   "execution_count": 58,
   "metadata": {},
   "outputs": [
    {
     "data": {
      "text/plain": [
       "['Effusion', 'Consolidations', 'B-lines', 'Healthy']"
      ]
     },
     "execution_count": 58,
     "metadata": {},
     "output_type": "execute_result"
    }
   ],
   "source": [
    "classLabels"
   ]
  },
  {
   "cell_type": "code",
   "execution_count": 70,
   "metadata": {
    "collapsed": true,
    "jupyter": {
     "outputs_hidden": true
    }
   },
   "outputs": [
    {
     "data": {
      "text/html": [
       "<div>\n",
       "<style scoped>\n",
       "    .dataframe tbody tr th:only-of-type {\n",
       "        vertical-align: middle;\n",
       "    }\n",
       "\n",
       "    .dataframe tbody tr th {\n",
       "        vertical-align: top;\n",
       "    }\n",
       "\n",
       "    .dataframe thead th {\n",
       "        text-align: right;\n",
       "    }\n",
       "</style>\n",
       "<table border=\"1\" class=\"dataframe\">\n",
       "  <thead>\n",
       "    <tr style=\"text-align: right;\">\n",
       "      <th></th>\n",
       "      <th>converted_filename</th>\n",
       "      <th>Effusion</th>\n",
       "      <th>Consolidations</th>\n",
       "      <th>B-lines</th>\n",
       "      <th>Healthy</th>\n",
       "    </tr>\n",
       "  </thead>\n",
       "  <tbody>\n",
       "    <tr>\n",
       "      <th>659</th>\n",
       "      <td>Cov-grepmed-blines-pocus-_frame_162.jpg</td>\n",
       "      <td>1</td>\n",
       "      <td>0</td>\n",
       "      <td>1</td>\n",
       "      <td>0</td>\n",
       "    </tr>\n",
       "    <tr>\n",
       "      <th>3272</th>\n",
       "      <td>Cov_denault_proposedUS_vid11_frame_012.jpg</td>\n",
       "      <td>1</td>\n",
       "      <td>1</td>\n",
       "      <td>0</td>\n",
       "      <td>0</td>\n",
       "    </tr>\n",
       "    <tr>\n",
       "      <th>745</th>\n",
       "      <td>Cov_denault_proposedUS_vid10_frame_105.jpg</td>\n",
       "      <td>1</td>\n",
       "      <td>1</td>\n",
       "      <td>1</td>\n",
       "      <td>0</td>\n",
       "    </tr>\n",
       "    <tr>\n",
       "      <th>6580</th>\n",
       "      <td>Pneu_northumbria_0409_set1_vid2_frame_027.jpg</td>\n",
       "      <td>1</td>\n",
       "      <td>0</td>\n",
       "      <td>0</td>\n",
       "      <td>0</td>\n",
       "    </tr>\n",
       "    <tr>\n",
       "      <th>4772</th>\n",
       "      <td>Reg_pat1Image_133138_frame_159.jpg</td>\n",
       "      <td>0</td>\n",
       "      <td>0</td>\n",
       "      <td>0</td>\n",
       "      <td>1</td>\n",
       "    </tr>\n",
       "    <tr>\n",
       "      <th>4769</th>\n",
       "      <td>Pneu_AIR BRONC2_frame_033.jpg</td>\n",
       "      <td>0</td>\n",
       "      <td>1</td>\n",
       "      <td>0</td>\n",
       "      <td>0</td>\n",
       "    </tr>\n",
       "    <tr>\n",
       "      <th>5277</th>\n",
       "      <td>Cov_convex_volpecelli_sonographic_v3_frame_351...</td>\n",
       "      <td>0</td>\n",
       "      <td>0</td>\n",
       "      <td>1</td>\n",
       "      <td>0</td>\n",
       "    </tr>\n",
       "    <tr>\n",
       "      <th>4895</th>\n",
       "      <td>Cov-grep-7453_frame_237.jpg</td>\n",
       "      <td>0</td>\n",
       "      <td>1</td>\n",
       "      <td>1</td>\n",
       "      <td>1</td>\n",
       "    </tr>\n",
       "    <tr>\n",
       "      <th>5276</th>\n",
       "      <td>Cov_new_pregnant_vid4_frame_084.jpg</td>\n",
       "      <td>0</td>\n",
       "      <td>1</td>\n",
       "      <td>1</td>\n",
       "      <td>0</td>\n",
       "    </tr>\n",
       "    <tr>\n",
       "      <th>4771</th>\n",
       "      <td>Reg-Youtube_frame_081.jpg</td>\n",
       "      <td>0</td>\n",
       "      <td>0</td>\n",
       "      <td>1</td>\n",
       "      <td>1</td>\n",
       "    </tr>\n",
       "    <tr>\n",
       "      <th>5115</th>\n",
       "      <td>Cov-Atlas-Day+1_frame_021.jpg</td>\n",
       "      <td>0</td>\n",
       "      <td>1</td>\n",
       "      <td>0</td>\n",
       "      <td>1</td>\n",
       "    </tr>\n",
       "  </tbody>\n",
       "</table>\n",
       "</div>"
      ],
      "text/plain": [
       "                                     converted_filename  Effusion  \\\n",
       "659             Cov-grepmed-blines-pocus-_frame_162.jpg         1   \n",
       "3272         Cov_denault_proposedUS_vid11_frame_012.jpg         1   \n",
       "745          Cov_denault_proposedUS_vid10_frame_105.jpg         1   \n",
       "6580      Pneu_northumbria_0409_set1_vid2_frame_027.jpg         1   \n",
       "4772                 Reg_pat1Image_133138_frame_159.jpg         0   \n",
       "4769                      Pneu_AIR BRONC2_frame_033.jpg         0   \n",
       "5277  Cov_convex_volpecelli_sonographic_v3_frame_351...         0   \n",
       "4895                        Cov-grep-7453_frame_237.jpg         0   \n",
       "5276                Cov_new_pregnant_vid4_frame_084.jpg         0   \n",
       "4771                          Reg-Youtube_frame_081.jpg         0   \n",
       "5115                      Cov-Atlas-Day+1_frame_021.jpg         0   \n",
       "\n",
       "      Consolidations  B-lines  Healthy  \n",
       "659                0        1        0  \n",
       "3272               1        0        0  \n",
       "745                1        1        0  \n",
       "6580               0        0        0  \n",
       "4772               0        0        1  \n",
       "4769               1        0        0  \n",
       "5277               0        1        0  \n",
       "4895               1        1        1  \n",
       "5276               1        1        0  \n",
       "4771               0        1        1  \n",
       "5115               1        0        1  "
      ]
     },
     "execution_count": 70,
     "metadata": {},
     "output_type": "execute_result"
    }
   ],
   "source": [
    "new = df.sort_values('Effusion', ascending=False).drop_duplicates(subset=['Effusion', 'Consolidations', 'B-lines', 'Healthy'])\n",
    "new"
   ]
  },
  {
   "cell_type": "code",
   "execution_count": 74,
   "metadata": {
    "collapsed": true,
    "jupyter": {
     "outputs_hidden": true
    }
   },
   "outputs": [
    {
     "data": {
      "text/html": [
       "<div>\n",
       "<style scoped>\n",
       "    .dataframe tbody tr th:only-of-type {\n",
       "        vertical-align: middle;\n",
       "    }\n",
       "\n",
       "    .dataframe tbody tr th {\n",
       "        vertical-align: top;\n",
       "    }\n",
       "\n",
       "    .dataframe thead th {\n",
       "        text-align: right;\n",
       "    }\n",
       "</style>\n",
       "<table border=\"1\" class=\"dataframe\">\n",
       "  <thead>\n",
       "    <tr style=\"text-align: right;\">\n",
       "      <th></th>\n",
       "      <th>converted_filename</th>\n",
       "      <th>Effusion</th>\n",
       "      <th>Consolidations</th>\n",
       "      <th>B-lines</th>\n",
       "      <th>Healthy</th>\n",
       "    </tr>\n",
       "  </thead>\n",
       "  <tbody>\n",
       "    <tr>\n",
       "      <th>2311</th>\n",
       "      <td>Cov-Atlas-Day+1_frame_003.jpg</td>\n",
       "      <td>0</td>\n",
       "      <td>1</td>\n",
       "      <td>0</td>\n",
       "      <td>1</td>\n",
       "    </tr>\n",
       "    <tr>\n",
       "      <th>2460</th>\n",
       "      <td>Cov-grep-7453_frame_150.jpg</td>\n",
       "      <td>0</td>\n",
       "      <td>1</td>\n",
       "      <td>1</td>\n",
       "      <td>1</td>\n",
       "    </tr>\n",
       "    <tr>\n",
       "      <th>2387</th>\n",
       "      <td>Cov_combatting_Image3_frame_072.jpg</td>\n",
       "      <td>0</td>\n",
       "      <td>1</td>\n",
       "      <td>1</td>\n",
       "      <td>0</td>\n",
       "    </tr>\n",
       "    <tr>\n",
       "      <th>1975</th>\n",
       "      <td>Reg-Youtube_frame_144.jpg</td>\n",
       "      <td>0</td>\n",
       "      <td>0</td>\n",
       "      <td>1</td>\n",
       "      <td>1</td>\n",
       "    </tr>\n",
       "    <tr>\n",
       "      <th>2379</th>\n",
       "      <td>Vir_prospective_file2_frame_111.jpg</td>\n",
       "      <td>0</td>\n",
       "      <td>0</td>\n",
       "      <td>1</td>\n",
       "      <td>0</td>\n",
       "    </tr>\n",
       "    <tr>\n",
       "      <th>2358</th>\n",
       "      <td>Pneu_AIR BRONC2_frame_027.jpg</td>\n",
       "      <td>0</td>\n",
       "      <td>1</td>\n",
       "      <td>0</td>\n",
       "      <td>0</td>\n",
       "    </tr>\n",
       "    <tr>\n",
       "      <th>2361</th>\n",
       "      <td>Reg_pat3Image_134904_frame_114.jpg</td>\n",
       "      <td>0</td>\n",
       "      <td>0</td>\n",
       "      <td>0</td>\n",
       "      <td>1</td>\n",
       "    </tr>\n",
       "    <tr>\n",
       "      <th>2226</th>\n",
       "      <td>Pneu_northumbria_0409_set3_vid1_frame_084.jpg</td>\n",
       "      <td>1</td>\n",
       "      <td>0</td>\n",
       "      <td>0</td>\n",
       "      <td>0</td>\n",
       "    </tr>\n",
       "    <tr>\n",
       "      <th>3993</th>\n",
       "      <td>Pneu_clinicalreview_MOV4_frame_024.jpg</td>\n",
       "      <td>1</td>\n",
       "      <td>1</td>\n",
       "      <td>1</td>\n",
       "      <td>0</td>\n",
       "    </tr>\n",
       "    <tr>\n",
       "      <th>6489</th>\n",
       "      <td>Cov_denault_proposedUS_vid12_frame_018.jpg</td>\n",
       "      <td>1</td>\n",
       "      <td>1</td>\n",
       "      <td>0</td>\n",
       "      <td>0</td>\n",
       "    </tr>\n",
       "    <tr>\n",
       "      <th>1900</th>\n",
       "      <td>Cov-grepmed2_frame_255.jpg</td>\n",
       "      <td>1</td>\n",
       "      <td>0</td>\n",
       "      <td>1</td>\n",
       "      <td>0</td>\n",
       "    </tr>\n",
       "  </tbody>\n",
       "</table>\n",
       "</div>"
      ],
      "text/plain": [
       "                                 converted_filename  Effusion  Consolidations  \\\n",
       "2311                  Cov-Atlas-Day+1_frame_003.jpg         0               1   \n",
       "2460                    Cov-grep-7453_frame_150.jpg         0               1   \n",
       "2387            Cov_combatting_Image3_frame_072.jpg         0               1   \n",
       "1975                      Reg-Youtube_frame_144.jpg         0               0   \n",
       "2379            Vir_prospective_file2_frame_111.jpg         0               0   \n",
       "2358                  Pneu_AIR BRONC2_frame_027.jpg         0               1   \n",
       "2361             Reg_pat3Image_134904_frame_114.jpg         0               0   \n",
       "2226  Pneu_northumbria_0409_set3_vid1_frame_084.jpg         1               0   \n",
       "3993         Pneu_clinicalreview_MOV4_frame_024.jpg         1               1   \n",
       "6489     Cov_denault_proposedUS_vid12_frame_018.jpg         1               1   \n",
       "1900                     Cov-grepmed2_frame_255.jpg         1               0   \n",
       "\n",
       "      B-lines  Healthy  \n",
       "2311        0        1  \n",
       "2460        1        1  \n",
       "2387        1        0  \n",
       "1975        1        1  \n",
       "2379        1        0  \n",
       "2358        0        0  \n",
       "2361        0        1  \n",
       "2226        0        0  \n",
       "3993        1        0  \n",
       "6489        0        0  \n",
       "1900        1        0  "
      ]
     },
     "execution_count": 74,
     "metadata": {},
     "output_type": "execute_result"
    }
   ],
   "source": [
    "new = df.sort_values('Effusion').drop_duplicates(['Effusion', 'Consolidations', 'B-lines', 'Healthy'] ,keep= 'last')\n",
    "new"
   ]
  },
  {
   "cell_type": "code",
   "execution_count": 140,
   "metadata": {},
   "outputs": [
    {
     "data": {
      "text/plain": [
       "0       Cov_combatting_Image1_frame_003.jpg\n",
       "1       Cov_combatting_Image1_frame_006.jpg\n",
       "2       Cov_combatting_Image1_frame_009.jpg\n",
       "3       Cov_combatting_Image1_frame_012.jpg\n",
       "4       Cov_combatting_Image1_frame_015.jpg\n",
       "                       ...                 \n",
       "7247          Reg-Grep-Normal_frame_021.jpg\n",
       "7248          Reg-Grep-Normal_frame_024.jpg\n",
       "7249          Reg-Grep-Normal_frame_027.jpg\n",
       "7250          Reg-Grep-Normal_frame_030.jpg\n",
       "7251          Reg-Grep-Normal_frame_033.jpg\n",
       "Name: converted_filename, Length: 7252, dtype: object"
      ]
     },
     "execution_count": 140,
     "metadata": {},
     "output_type": "execute_result"
    }
   ],
   "source": [
    "img_name = df['converted_filename']\n",
    "img_name"
   ]
  },
  {
   "cell_type": "code",
   "execution_count": 143,
   "metadata": {},
   "outputs": [
    {
     "name": "stdout",
     "output_type": "stream",
     "text": [
      "The number of the files are : 7252,\n",
      "The first file is : Cov_combatting_Image1, \n",
      "The last file is : Reg-Grep-Normal\n"
     ]
    }
   ],
   "source": [
    "file_name = []\n",
    "\n",
    "for i in range(len(img_name)):\n",
    "    file_name.append(img_name[i].split('_frame_')[0])\n",
    "\n",
    "print('The number of the files are : {},\\nThe first file is : {}, \\nThe last file is : {}'.format(len(file_name),file_name[0], file_name[-1] ))"
   ]
  },
  {
   "cell_type": "code",
   "execution_count": 144,
   "metadata": {},
   "outputs": [
    {
     "data": {
      "text/html": [
       "<div>\n",
       "<style scoped>\n",
       "    .dataframe tbody tr th:only-of-type {\n",
       "        vertical-align: middle;\n",
       "    }\n",
       "\n",
       "    .dataframe tbody tr th {\n",
       "        vertical-align: top;\n",
       "    }\n",
       "\n",
       "    .dataframe thead th {\n",
       "        text-align: right;\n",
       "    }\n",
       "</style>\n",
       "<table border=\"1\" class=\"dataframe\">\n",
       "  <thead>\n",
       "    <tr style=\"text-align: right;\">\n",
       "      <th></th>\n",
       "      <th>Filename</th>\n",
       "      <th>converted_filename</th>\n",
       "      <th>Effusion</th>\n",
       "      <th>Consolidations</th>\n",
       "      <th>B-lines</th>\n",
       "      <th>Healthy</th>\n",
       "    </tr>\n",
       "  </thead>\n",
       "  <tbody>\n",
       "    <tr>\n",
       "      <th>0</th>\n",
       "      <td>Cov_combatting_Image1</td>\n",
       "      <td>Cov_combatting_Image1_frame_003.jpg</td>\n",
       "      <td>0</td>\n",
       "      <td>0</td>\n",
       "      <td>1</td>\n",
       "      <td>1</td>\n",
       "    </tr>\n",
       "    <tr>\n",
       "      <th>1</th>\n",
       "      <td>Cov_combatting_Image1</td>\n",
       "      <td>Cov_combatting_Image1_frame_006.jpg</td>\n",
       "      <td>0</td>\n",
       "      <td>0</td>\n",
       "      <td>1</td>\n",
       "      <td>1</td>\n",
       "    </tr>\n",
       "    <tr>\n",
       "      <th>2</th>\n",
       "      <td>Cov_combatting_Image1</td>\n",
       "      <td>Cov_combatting_Image1_frame_009.jpg</td>\n",
       "      <td>0</td>\n",
       "      <td>0</td>\n",
       "      <td>1</td>\n",
       "      <td>1</td>\n",
       "    </tr>\n",
       "    <tr>\n",
       "      <th>3</th>\n",
       "      <td>Cov_combatting_Image1</td>\n",
       "      <td>Cov_combatting_Image1_frame_012.jpg</td>\n",
       "      <td>0</td>\n",
       "      <td>0</td>\n",
       "      <td>1</td>\n",
       "      <td>1</td>\n",
       "    </tr>\n",
       "    <tr>\n",
       "      <th>4</th>\n",
       "      <td>Cov_combatting_Image1</td>\n",
       "      <td>Cov_combatting_Image1_frame_015.jpg</td>\n",
       "      <td>0</td>\n",
       "      <td>0</td>\n",
       "      <td>1</td>\n",
       "      <td>1</td>\n",
       "    </tr>\n",
       "    <tr>\n",
       "      <th>...</th>\n",
       "      <td>...</td>\n",
       "      <td>...</td>\n",
       "      <td>...</td>\n",
       "      <td>...</td>\n",
       "      <td>...</td>\n",
       "      <td>...</td>\n",
       "    </tr>\n",
       "    <tr>\n",
       "      <th>7247</th>\n",
       "      <td>Reg-Grep-Normal</td>\n",
       "      <td>Reg-Grep-Normal_frame_021.jpg</td>\n",
       "      <td>0</td>\n",
       "      <td>0</td>\n",
       "      <td>0</td>\n",
       "      <td>1</td>\n",
       "    </tr>\n",
       "    <tr>\n",
       "      <th>7248</th>\n",
       "      <td>Reg-Grep-Normal</td>\n",
       "      <td>Reg-Grep-Normal_frame_024.jpg</td>\n",
       "      <td>0</td>\n",
       "      <td>0</td>\n",
       "      <td>0</td>\n",
       "      <td>1</td>\n",
       "    </tr>\n",
       "    <tr>\n",
       "      <th>7249</th>\n",
       "      <td>Reg-Grep-Normal</td>\n",
       "      <td>Reg-Grep-Normal_frame_027.jpg</td>\n",
       "      <td>0</td>\n",
       "      <td>0</td>\n",
       "      <td>0</td>\n",
       "      <td>1</td>\n",
       "    </tr>\n",
       "    <tr>\n",
       "      <th>7250</th>\n",
       "      <td>Reg-Grep-Normal</td>\n",
       "      <td>Reg-Grep-Normal_frame_030.jpg</td>\n",
       "      <td>0</td>\n",
       "      <td>0</td>\n",
       "      <td>0</td>\n",
       "      <td>1</td>\n",
       "    </tr>\n",
       "    <tr>\n",
       "      <th>7251</th>\n",
       "      <td>Reg-Grep-Normal</td>\n",
       "      <td>Reg-Grep-Normal_frame_033.jpg</td>\n",
       "      <td>0</td>\n",
       "      <td>0</td>\n",
       "      <td>0</td>\n",
       "      <td>1</td>\n",
       "    </tr>\n",
       "  </tbody>\n",
       "</table>\n",
       "<p>7252 rows × 6 columns</p>\n",
       "</div>"
      ],
      "text/plain": [
       "                   Filename                   converted_filename  Effusion  \\\n",
       "0     Cov_combatting_Image1  Cov_combatting_Image1_frame_003.jpg         0   \n",
       "1     Cov_combatting_Image1  Cov_combatting_Image1_frame_006.jpg         0   \n",
       "2     Cov_combatting_Image1  Cov_combatting_Image1_frame_009.jpg         0   \n",
       "3     Cov_combatting_Image1  Cov_combatting_Image1_frame_012.jpg         0   \n",
       "4     Cov_combatting_Image1  Cov_combatting_Image1_frame_015.jpg         0   \n",
       "...                     ...                                  ...       ...   \n",
       "7247        Reg-Grep-Normal        Reg-Grep-Normal_frame_021.jpg         0   \n",
       "7248        Reg-Grep-Normal        Reg-Grep-Normal_frame_024.jpg         0   \n",
       "7249        Reg-Grep-Normal        Reg-Grep-Normal_frame_027.jpg         0   \n",
       "7250        Reg-Grep-Normal        Reg-Grep-Normal_frame_030.jpg         0   \n",
       "7251        Reg-Grep-Normal        Reg-Grep-Normal_frame_033.jpg         0   \n",
       "\n",
       "      Consolidations  B-lines  Healthy  \n",
       "0                  0        1        1  \n",
       "1                  0        1        1  \n",
       "2                  0        1        1  \n",
       "3                  0        1        1  \n",
       "4                  0        1        1  \n",
       "...              ...      ...      ...  \n",
       "7247               0        0        1  \n",
       "7248               0        0        1  \n",
       "7249               0        0        1  \n",
       "7250               0        0        1  \n",
       "7251               0        0        1  \n",
       "\n",
       "[7252 rows x 6 columns]"
      ]
     },
     "execution_count": 144,
     "metadata": {},
     "output_type": "execute_result"
    }
   ],
   "source": [
    "csv_list = pd.DataFrame({'Filename' : file_name, \n",
    "                         'converted_filename' : df['converted_filename'], \n",
    "                         'Effusion' : df['Effusion'], \n",
    "                         'Consolidations' : df['Consolidations'], \n",
    "                         'B-lines' : df['B-lines'], 'Healthy' : df['Healthy']})\n",
    "csv_list"
   ]
  },
  {
   "cell_type": "raw",
   "metadata": {},
   "source": [
    "df = pd.read_csv('/home/Sean/PoCOVID/4real/covid19_pocus_ultrasound_pytorch/code/data/final_csv2.csv')\n",
    "df = df.drop_duplicates(subset=['Effusion', 'Consolidations', 'B-lines', 'Healthy'], keep='last')\n",
    "df = df.drop_duplicates(['Effusion', 'Consolidations', 'B-lines', 'Healthy'], keep='last')\n",
    "df.drop_duplicates(subset=['Effusion', 'Consolidations', 'B-lines', 'Healthy'], inplace=True)\n",
    "df = df[df.iloc[:,1:5].duplicated(keep=False)]"
   ]
  },
  {
   "cell_type": "raw",
   "metadata": {
    "jupyter": {
     "outputs_hidden": true
    }
   },
   "source": [
    "csv_list['Filename'].unique()"
   ]
  },
  {
   "cell_type": "raw",
   "metadata": {},
   "source": [
    "csv_list['Filename'].value_counts()"
   ]
  },
  {
   "cell_type": "raw",
   "metadata": {},
   "source": [
    "print(csv_list['Filename'].value_counts().min())\n",
    "print(csv_list['Filename'].value_counts().max())"
   ]
  },
  {
   "cell_type": "raw",
   "metadata": {},
   "source": [
    "new = csv_list.groupby('Filename').tail(70)\n",
    "new = new.groupby('Filename').tail(30)\n",
    "new = new.groupby('Filename').head(4)\n",
    "new"
   ]
  },
  {
   "cell_type": "code",
   "execution_count": 194,
   "metadata": {
    "collapsed": true,
    "jupyter": {
     "outputs_hidden": true
    }
   },
   "outputs": [
    {
     "data": {
      "text/html": [
       "<div>\n",
       "<style scoped>\n",
       "    .dataframe tbody tr th:only-of-type {\n",
       "        vertical-align: middle;\n",
       "    }\n",
       "\n",
       "    .dataframe tbody tr th {\n",
       "        vertical-align: top;\n",
       "    }\n",
       "\n",
       "    .dataframe thead th {\n",
       "        text-align: right;\n",
       "    }\n",
       "</style>\n",
       "<table border=\"1\" class=\"dataframe\">\n",
       "  <thead>\n",
       "    <tr style=\"text-align: right;\">\n",
       "      <th></th>\n",
       "      <th>Filename</th>\n",
       "      <th>converted_filename</th>\n",
       "      <th>Effusion</th>\n",
       "      <th>Consolidations</th>\n",
       "      <th>B-lines</th>\n",
       "      <th>Healthy</th>\n",
       "    </tr>\n",
       "  </thead>\n",
       "  <tbody>\n",
       "    <tr>\n",
       "      <th>0</th>\n",
       "      <td>Cov_combatting_Image1</td>\n",
       "      <td>Cov_combatting_Image1_frame_003.jpg</td>\n",
       "      <td>0</td>\n",
       "      <td>0</td>\n",
       "      <td>1</td>\n",
       "      <td>1</td>\n",
       "    </tr>\n",
       "    <tr>\n",
       "      <th>1</th>\n",
       "      <td>Cov_combatting_Image1</td>\n",
       "      <td>Cov_combatting_Image1_frame_006.jpg</td>\n",
       "      <td>0</td>\n",
       "      <td>0</td>\n",
       "      <td>1</td>\n",
       "      <td>1</td>\n",
       "    </tr>\n",
       "    <tr>\n",
       "      <th>2</th>\n",
       "      <td>Cov_combatting_Image1</td>\n",
       "      <td>Cov_combatting_Image1_frame_009.jpg</td>\n",
       "      <td>0</td>\n",
       "      <td>0</td>\n",
       "      <td>1</td>\n",
       "      <td>1</td>\n",
       "    </tr>\n",
       "    <tr>\n",
       "      <th>3</th>\n",
       "      <td>Cov_combatting_Image1</td>\n",
       "      <td>Cov_combatting_Image1_frame_012.jpg</td>\n",
       "      <td>0</td>\n",
       "      <td>0</td>\n",
       "      <td>1</td>\n",
       "      <td>1</td>\n",
       "    </tr>\n",
       "    <tr>\n",
       "      <th>37</th>\n",
       "      <td>Cov_combatting_Image2</td>\n",
       "      <td>Cov_combatting_Image2_frame_003.jpg</td>\n",
       "      <td>0</td>\n",
       "      <td>0</td>\n",
       "      <td>1</td>\n",
       "      <td>0</td>\n",
       "    </tr>\n",
       "    <tr>\n",
       "      <th>...</th>\n",
       "      <td>...</td>\n",
       "      <td>...</td>\n",
       "      <td>...</td>\n",
       "      <td>...</td>\n",
       "      <td>...</td>\n",
       "      <td>...</td>\n",
       "    </tr>\n",
       "    <tr>\n",
       "      <th>7224</th>\n",
       "      <td>Reg-Atlas-lungcurtain</td>\n",
       "      <td>Reg-Atlas-lungcurtain_frame_012.jpg</td>\n",
       "      <td>0</td>\n",
       "      <td>0</td>\n",
       "      <td>0</td>\n",
       "      <td>1</td>\n",
       "    </tr>\n",
       "    <tr>\n",
       "      <th>7241</th>\n",
       "      <td>Reg-Grep-Normal</td>\n",
       "      <td>Reg-Grep-Normal_frame_003.jpg</td>\n",
       "      <td>0</td>\n",
       "      <td>0</td>\n",
       "      <td>0</td>\n",
       "      <td>1</td>\n",
       "    </tr>\n",
       "    <tr>\n",
       "      <th>7242</th>\n",
       "      <td>Reg-Grep-Normal</td>\n",
       "      <td>Reg-Grep-Normal_frame_006.jpg</td>\n",
       "      <td>0</td>\n",
       "      <td>0</td>\n",
       "      <td>0</td>\n",
       "      <td>1</td>\n",
       "    </tr>\n",
       "    <tr>\n",
       "      <th>7243</th>\n",
       "      <td>Reg-Grep-Normal</td>\n",
       "      <td>Reg-Grep-Normal_frame_009.jpg</td>\n",
       "      <td>0</td>\n",
       "      <td>0</td>\n",
       "      <td>0</td>\n",
       "      <td>1</td>\n",
       "    </tr>\n",
       "    <tr>\n",
       "      <th>7244</th>\n",
       "      <td>Reg-Grep-Normal</td>\n",
       "      <td>Reg-Grep-Normal_frame_012.jpg</td>\n",
       "      <td>0</td>\n",
       "      <td>0</td>\n",
       "      <td>0</td>\n",
       "      <td>1</td>\n",
       "    </tr>\n",
       "  </tbody>\n",
       "</table>\n",
       "<p>568 rows × 6 columns</p>\n",
       "</div>"
      ],
      "text/plain": [
       "                   Filename                   converted_filename  Effusion  \\\n",
       "0     Cov_combatting_Image1  Cov_combatting_Image1_frame_003.jpg         0   \n",
       "1     Cov_combatting_Image1  Cov_combatting_Image1_frame_006.jpg         0   \n",
       "2     Cov_combatting_Image1  Cov_combatting_Image1_frame_009.jpg         0   \n",
       "3     Cov_combatting_Image1  Cov_combatting_Image1_frame_012.jpg         0   \n",
       "37    Cov_combatting_Image2  Cov_combatting_Image2_frame_003.jpg         0   \n",
       "...                     ...                                  ...       ...   \n",
       "7224  Reg-Atlas-lungcurtain  Reg-Atlas-lungcurtain_frame_012.jpg         0   \n",
       "7241        Reg-Grep-Normal        Reg-Grep-Normal_frame_003.jpg         0   \n",
       "7242        Reg-Grep-Normal        Reg-Grep-Normal_frame_006.jpg         0   \n",
       "7243        Reg-Grep-Normal        Reg-Grep-Normal_frame_009.jpg         0   \n",
       "7244        Reg-Grep-Normal        Reg-Grep-Normal_frame_012.jpg         0   \n",
       "\n",
       "      Consolidations  B-lines  Healthy  \n",
       "0                  0        1        1  \n",
       "1                  0        1        1  \n",
       "2                  0        1        1  \n",
       "3                  0        1        1  \n",
       "37                 0        1        0  \n",
       "...              ...      ...      ...  \n",
       "7224               0        0        1  \n",
       "7241               0        0        1  \n",
       "7242               0        0        1  \n",
       "7243               0        0        1  \n",
       "7244               0        0        1  \n",
       "\n",
       "[568 rows x 6 columns]"
      ]
     },
     "execution_count": 194,
     "metadata": {},
     "output_type": "execute_result"
    }
   ],
   "source": [
    "new = csv_list.groupby('Filename').tail(70)\n",
    "new = new.groupby('Filename').head(4)\n",
    "\n",
    "new"
   ]
  },
  {
   "cell_type": "code",
   "execution_count": 211,
   "metadata": {},
   "outputs": [
    {
     "data": {
      "text/html": [
       "<div>\n",
       "<style scoped>\n",
       "    .dataframe tbody tr th:only-of-type {\n",
       "        vertical-align: middle;\n",
       "    }\n",
       "\n",
       "    .dataframe tbody tr th {\n",
       "        vertical-align: top;\n",
       "    }\n",
       "\n",
       "    .dataframe thead th {\n",
       "        text-align: right;\n",
       "    }\n",
       "</style>\n",
       "<table border=\"1\" class=\"dataframe\">\n",
       "  <thead>\n",
       "    <tr style=\"text-align: right;\">\n",
       "      <th></th>\n",
       "      <th>Filename</th>\n",
       "      <th>converted_filename</th>\n",
       "      <th>Effusion</th>\n",
       "      <th>Consolidations</th>\n",
       "      <th>B-lines</th>\n",
       "      <th>Healthy</th>\n",
       "    </tr>\n",
       "  </thead>\n",
       "  <tbody>\n",
       "    <tr>\n",
       "      <th>0</th>\n",
       "      <td>Cov-Atlas+(44)</td>\n",
       "      <td>Cov-Atlas+(44)_frame_012.jpg</td>\n",
       "      <td>0</td>\n",
       "      <td>1</td>\n",
       "      <td>0</td>\n",
       "      <td>0</td>\n",
       "    </tr>\n",
       "    <tr>\n",
       "      <th>1</th>\n",
       "      <td>Cov-Atlas+(44)</td>\n",
       "      <td>Cov-Atlas+(44)_frame_009.jpg</td>\n",
       "      <td>0</td>\n",
       "      <td>1</td>\n",
       "      <td>0</td>\n",
       "      <td>0</td>\n",
       "    </tr>\n",
       "    <tr>\n",
       "      <th>2</th>\n",
       "      <td>Cov-Atlas+(44)</td>\n",
       "      <td>Cov-Atlas+(44)_frame_039.jpg</td>\n",
       "      <td>0</td>\n",
       "      <td>1</td>\n",
       "      <td>0</td>\n",
       "      <td>0</td>\n",
       "    </tr>\n",
       "    <tr>\n",
       "      <th>3</th>\n",
       "      <td>Cov-Atlas+(44)</td>\n",
       "      <td>Cov-Atlas+(44)_frame_033.jpg</td>\n",
       "      <td>0</td>\n",
       "      <td>1</td>\n",
       "      <td>0</td>\n",
       "      <td>0</td>\n",
       "    </tr>\n",
       "    <tr>\n",
       "      <th>4</th>\n",
       "      <td>Cov-Atlas-+(43)</td>\n",
       "      <td>Cov-Atlas-+(43)_frame_012.jpg</td>\n",
       "      <td>0</td>\n",
       "      <td>0</td>\n",
       "      <td>1</td>\n",
       "      <td>0</td>\n",
       "    </tr>\n",
       "    <tr>\n",
       "      <th>...</th>\n",
       "      <td>...</td>\n",
       "      <td>...</td>\n",
       "      <td>...</td>\n",
       "      <td>...</td>\n",
       "      <td>...</td>\n",
       "      <td>...</td>\n",
       "    </tr>\n",
       "    <tr>\n",
       "      <th>2169</th>\n",
       "      <td>pneu-radiopaeda</td>\n",
       "      <td>pneu-radiopaeda_frame_096.jpg</td>\n",
       "      <td>0</td>\n",
       "      <td>1</td>\n",
       "      <td>0</td>\n",
       "      <td>0</td>\n",
       "    </tr>\n",
       "    <tr>\n",
       "      <th>2170</th>\n",
       "      <td>pneu-radiopaeda</td>\n",
       "      <td>pneu-radiopaeda_frame_036.jpg</td>\n",
       "      <td>0</td>\n",
       "      <td>1</td>\n",
       "      <td>0</td>\n",
       "      <td>0</td>\n",
       "    </tr>\n",
       "    <tr>\n",
       "      <th>2171</th>\n",
       "      <td>pneu-radiopaeda</td>\n",
       "      <td>pneu-radiopaeda_frame_081.jpg</td>\n",
       "      <td>0</td>\n",
       "      <td>1</td>\n",
       "      <td>0</td>\n",
       "      <td>0</td>\n",
       "    </tr>\n",
       "    <tr>\n",
       "      <th>2172</th>\n",
       "      <td>pneu-radiopaeda</td>\n",
       "      <td>pneu-radiopaeda_frame_018.jpg</td>\n",
       "      <td>0</td>\n",
       "      <td>1</td>\n",
       "      <td>0</td>\n",
       "      <td>0</td>\n",
       "    </tr>\n",
       "    <tr>\n",
       "      <th>2173</th>\n",
       "      <td>pneu-radiopaeda</td>\n",
       "      <td>pneu-radiopaeda_frame_132.jpg</td>\n",
       "      <td>0</td>\n",
       "      <td>1</td>\n",
       "      <td>0</td>\n",
       "      <td>0</td>\n",
       "    </tr>\n",
       "  </tbody>\n",
       "</table>\n",
       "<p>2174 rows × 6 columns</p>\n",
       "</div>"
      ],
      "text/plain": [
       "             Filename             converted_filename  Effusion  \\\n",
       "0      Cov-Atlas+(44)   Cov-Atlas+(44)_frame_012.jpg         0   \n",
       "1      Cov-Atlas+(44)   Cov-Atlas+(44)_frame_009.jpg         0   \n",
       "2      Cov-Atlas+(44)   Cov-Atlas+(44)_frame_039.jpg         0   \n",
       "3      Cov-Atlas+(44)   Cov-Atlas+(44)_frame_033.jpg         0   \n",
       "4     Cov-Atlas-+(43)  Cov-Atlas-+(43)_frame_012.jpg         0   \n",
       "...               ...                            ...       ...   \n",
       "2169  pneu-radiopaeda  pneu-radiopaeda_frame_096.jpg         0   \n",
       "2170  pneu-radiopaeda  pneu-radiopaeda_frame_036.jpg         0   \n",
       "2171  pneu-radiopaeda  pneu-radiopaeda_frame_081.jpg         0   \n",
       "2172  pneu-radiopaeda  pneu-radiopaeda_frame_018.jpg         0   \n",
       "2173  pneu-radiopaeda  pneu-radiopaeda_frame_132.jpg         0   \n",
       "\n",
       "      Consolidations  B-lines  Healthy  \n",
       "0                  1        0        0  \n",
       "1                  1        0        0  \n",
       "2                  1        0        0  \n",
       "3                  1        0        0  \n",
       "4                  0        1        0  \n",
       "...              ...      ...      ...  \n",
       "2169               1        0        0  \n",
       "2170               1        0        0  \n",
       "2171               1        0        0  \n",
       "2172               1        0        0  \n",
       "2173               1        0        0  \n",
       "\n",
       "[2174 rows x 6 columns]"
      ]
     },
     "execution_count": 211,
     "metadata": {},
     "output_type": "execute_result"
    }
   ],
   "source": [
    "df = csv_list.groupby('Filename').sample(frac=0.3).reset_index(drop=True)\n",
    "df"
   ]
  },
  {
   "cell_type": "raw",
   "metadata": {},
   "source": [
    "df = pd.read_csv('/home/Sean/PoCOVID/4real/covid19_pocus_ultrasound_pytorch/code/data/final_csv2.csv')\n",
    "df = df.sample(frac=1).reset_index(drop=True)\n",
    "#df = df.iloc[:3000]\n",
    "df"
   ]
  },
  {
   "cell_type": "code",
   "execution_count": 234,
   "metadata": {},
   "outputs": [
    {
     "name": "stdout",
     "output_type": "stream",
     "text": [
      "Pneu_northumbria_0409_set2_vid2_frame_063.jpg\n"
     ]
    },
    {
     "data": {
      "image/png": "[encoded data removed]",
      "text/plain": [
       "<Figure size 432x288 with 1 Axes>"
      ]
     },
     "metadata": {
      "needs_background": "light"
     },
     "output_type": "display_data"
    }
   ],
   "source": [
    "classLabels = [\"Effusion\", \"Consolidations\", \"B-lines\", \"Healthy\"]\n",
    "def visualizeImage(idx):\n",
    "    fd = df.iloc[idx]\n",
    "    image = fd.converted_filename\n",
    "    label = fd[2:].tolist()\n",
    "    print(image)\n",
    "    try:\n",
    "        image = Image.open(\"/home/Sean/PoCOVID/4real/covid19_pocus_ultrasound_pytorch/code/data/vidtoimg/\"+image)\n",
    "    except:\n",
    "        pass \n",
    "    \n",
    "    fig,ax = plt.subplots()\n",
    "    ax.imshow(image)\n",
    "    ax.grid(False)\n",
    "    classes =  np.array(classLabels)[np.array(label,dtype=np.bool)]\n",
    "    for i , s in enumerate(classes):\n",
    "        ax.text(0 , i*20  , s , verticalalignment='top', color=\"white\", fontsize=16)\n",
    "    plt.show()\n",
    "    \n",
    "visualizeImage(999)"
   ]
  },
  {
   "cell_type": "code",
   "execution_count": 235,
   "metadata": {},
   "outputs": [
    {
     "data": {
      "image/png": "[encoded data removed]",
      "text/plain": [
       "<Figure size 432x288 with 1 Axes>"
      ]
     },
     "metadata": {},
     "output_type": "display_data"
    }
   ],
   "source": [
    "fig1, ax1 = plt.subplots()\n",
    "df.iloc[:,2:].sum(axis=0).plot.pie(autopct='%1.1f%%',shadow=True, startangle=90,ax=ax1)\n",
    "ax1.axis(\"equal\")\n",
    "plt.show()"
   ]
  },
  {
   "cell_type": "code",
   "execution_count": 236,
   "metadata": {},
   "outputs": [
    {
     "data": {
      "text/plain": [
       "(array([256., 256.]), array([256., 256.]))"
      ]
     },
     "execution_count": 236,
     "metadata": {},
     "output_type": "execute_result"
    }
   ],
   "source": [
    "#Images in the dataset have different sizes to lets take a mean size while resizing 224*224\n",
    "l= []\n",
    "\n",
    "for i in df.converted_filename:\n",
    "    with Image.open(Path(\"/home/Sean/PoCOVID/4real/covid19_pocus_ultrasound_pytorch/code/data/vidtoimg/\")/i) as f:\n",
    "        l.append(f.size)\n",
    "        \n",
    "np.array(l).mean(axis=0),np.median(np.array(l) , axis=0)"
   ]
  },
  {
   "cell_type": "code",
   "execution_count": 237,
   "metadata": {},
   "outputs": [
    {
     "name": "stdout",
     "output_type": "stream",
     "text": [
      "'cuda' is avilable.\n"
     ]
    }
   ],
   "source": [
    "import torch\n",
    "import torch.nn as nn  # All neural network modules, nn.Linear, nn.Conv2d, BatchNorm, Loss functions\n",
    "import torch.optim as optim  # For all Optimization algorithms, SGD, Adam, etc.\n",
    "import torchvision.transforms as transforms  # Transformations we can perform on our dataset\n",
    "import torchvision\n",
    "import os\n",
    "import pandas as pd\n",
    "from skimage import io\n",
    "from torch.utils.data import (\n",
    "    Dataset,\n",
    "    DataLoader,\n",
    ") \n",
    "\n",
    "device = 'cuda' if torch.cuda.is_available() else 'cpu'\n",
    "print(f\"'{device}' is avilable.\")"
   ]
  },
  {
   "cell_type": "code",
   "execution_count": 238,
   "metadata": {},
   "outputs": [],
   "source": [
    "img_path = \"/home/Sean/PoCOVID/4real/covid19_pocus_ultrasound_pytorch/code/data/vidtoimg/\""
   ]
  },
  {
   "cell_type": "code",
   "execution_count": 239,
   "metadata": {},
   "outputs": [],
   "source": [
    "from skimage import io\n",
    "\n",
    "class USDataset(Dataset):\n",
    "    def __init__(self, csv_file, root_dir, transform=None):\n",
    "        self.annotations = pd.read_csv(csv_file)\n",
    "        self.root_dir = root_dir\n",
    "        self.transform = transform\n",
    "\n",
    "    def __len__(self):\n",
    "        return len(self.annotations)\n",
    "\n",
    "    def __getitem__(self, index):\n",
    "        img_path = os.path.join(self.root_dir, self.annotations.iloc[index, 1])\n",
    "        image = io.imread(img_path)\n",
    "        y_label = torch.tensor(self.annotations.iloc[index, 2:].astype(int))\n",
    "\n",
    "        if self.transform:\n",
    "            image = self.transform(image)\n",
    "\n",
    "        return (image, y_label)"
   ]
  },
  {
   "cell_type": "markdown",
   "metadata": {},
   "source": [
    "https://stackoverflow.com/questions/67016628/how-to-split-duplicate-samples-to-train-test-with-no-overlapping"
   ]
  },
  {
   "cell_type": "markdown",
   "metadata": {},
   "source": [
    "https://stats.stackexchange.com/questions/468458/data-leakage-in-temporally-overlapping-train-test-split"
   ]
  },
  {
   "cell_type": "code",
   "execution_count": 240,
   "metadata": {},
   "outputs": [],
   "source": [
    "dataset = USDataset(\n",
    "    csv_file=\"/home/Sean/PoCOVID/4real/covid19_pocus_ultrasound_pytorch/code/data/final_csv2.csv\",\n",
    "    root_dir=\"/home/Sean/PoCOVID/4real/covid19_pocus_ultrasound_pytorch/code/data/vidtoimg/\",\n",
    "    transform=transformations,\n",
    ")"
   ]
  },
  {
   "cell_type": "code",
   "execution_count": 244,
   "metadata": {},
   "outputs": [
    {
     "data": {
      "text/plain": [
       "'/home/Sean/PoCOVID/4real/covid19_pocus_ultrasound_pytorch/code/data/vidtoimg/'"
      ]
     },
     "execution_count": 244,
     "metadata": {},
     "output_type": "execute_result"
    }
   ],
   "source": [
    "img_path"
   ]
  },
  {
   "cell_type": "code",
   "execution_count": 243,
   "metadata": {},
   "outputs": [
    {
     "data": {
      "text/html": [
       "<div>\n",
       "<style scoped>\n",
       "    .dataframe tbody tr th:only-of-type {\n",
       "        vertical-align: middle;\n",
       "    }\n",
       "\n",
       "    .dataframe tbody tr th {\n",
       "        vertical-align: top;\n",
       "    }\n",
       "\n",
       "    .dataframe thead th {\n",
       "        text-align: right;\n",
       "    }\n",
       "</style>\n",
       "<table border=\"1\" class=\"dataframe\">\n",
       "  <thead>\n",
       "    <tr style=\"text-align: right;\">\n",
       "      <th></th>\n",
       "      <th>Filename</th>\n",
       "      <th>converted_filename</th>\n",
       "      <th>Effusion</th>\n",
       "      <th>Consolidations</th>\n",
       "      <th>B-lines</th>\n",
       "      <th>Healthy</th>\n",
       "    </tr>\n",
       "  </thead>\n",
       "  <tbody>\n",
       "    <tr>\n",
       "      <th>0</th>\n",
       "      <td>Cov-Atlas+(44)</td>\n",
       "      <td>Cov-Atlas+(44)_frame_012.jpg</td>\n",
       "      <td>0</td>\n",
       "      <td>1</td>\n",
       "      <td>0</td>\n",
       "      <td>0</td>\n",
       "    </tr>\n",
       "    <tr>\n",
       "      <th>1</th>\n",
       "      <td>Cov-Atlas+(44)</td>\n",
       "      <td>Cov-Atlas+(44)_frame_009.jpg</td>\n",
       "      <td>0</td>\n",
       "      <td>1</td>\n",
       "      <td>0</td>\n",
       "      <td>0</td>\n",
       "    </tr>\n",
       "    <tr>\n",
       "      <th>2</th>\n",
       "      <td>Cov-Atlas+(44)</td>\n",
       "      <td>Cov-Atlas+(44)_frame_039.jpg</td>\n",
       "      <td>0</td>\n",
       "      <td>1</td>\n",
       "      <td>0</td>\n",
       "      <td>0</td>\n",
       "    </tr>\n",
       "    <tr>\n",
       "      <th>3</th>\n",
       "      <td>Cov-Atlas+(44)</td>\n",
       "      <td>Cov-Atlas+(44)_frame_033.jpg</td>\n",
       "      <td>0</td>\n",
       "      <td>1</td>\n",
       "      <td>0</td>\n",
       "      <td>0</td>\n",
       "    </tr>\n",
       "    <tr>\n",
       "      <th>4</th>\n",
       "      <td>Cov-Atlas-+(43)</td>\n",
       "      <td>Cov-Atlas-+(43)_frame_012.jpg</td>\n",
       "      <td>0</td>\n",
       "      <td>0</td>\n",
       "      <td>1</td>\n",
       "      <td>0</td>\n",
       "    </tr>\n",
       "    <tr>\n",
       "      <th>...</th>\n",
       "      <td>...</td>\n",
       "      <td>...</td>\n",
       "      <td>...</td>\n",
       "      <td>...</td>\n",
       "      <td>...</td>\n",
       "      <td>...</td>\n",
       "    </tr>\n",
       "    <tr>\n",
       "      <th>2169</th>\n",
       "      <td>pneu-radiopaeda</td>\n",
       "      <td>pneu-radiopaeda_frame_096.jpg</td>\n",
       "      <td>0</td>\n",
       "      <td>1</td>\n",
       "      <td>0</td>\n",
       "      <td>0</td>\n",
       "    </tr>\n",
       "    <tr>\n",
       "      <th>2170</th>\n",
       "      <td>pneu-radiopaeda</td>\n",
       "      <td>pneu-radiopaeda_frame_036.jpg</td>\n",
       "      <td>0</td>\n",
       "      <td>1</td>\n",
       "      <td>0</td>\n",
       "      <td>0</td>\n",
       "    </tr>\n",
       "    <tr>\n",
       "      <th>2171</th>\n",
       "      <td>pneu-radiopaeda</td>\n",
       "      <td>pneu-radiopaeda_frame_081.jpg</td>\n",
       "      <td>0</td>\n",
       "      <td>1</td>\n",
       "      <td>0</td>\n",
       "      <td>0</td>\n",
       "    </tr>\n",
       "    <tr>\n",
       "      <th>2172</th>\n",
       "      <td>pneu-radiopaeda</td>\n",
       "      <td>pneu-radiopaeda_frame_018.jpg</td>\n",
       "      <td>0</td>\n",
       "      <td>1</td>\n",
       "      <td>0</td>\n",
       "      <td>0</td>\n",
       "    </tr>\n",
       "    <tr>\n",
       "      <th>2173</th>\n",
       "      <td>pneu-radiopaeda</td>\n",
       "      <td>pneu-radiopaeda_frame_132.jpg</td>\n",
       "      <td>0</td>\n",
       "      <td>1</td>\n",
       "      <td>0</td>\n",
       "      <td>0</td>\n",
       "    </tr>\n",
       "  </tbody>\n",
       "</table>\n",
       "<p>2174 rows × 6 columns</p>\n",
       "</div>"
      ],
      "text/plain": [
       "             Filename             converted_filename  Effusion  \\\n",
       "0      Cov-Atlas+(44)   Cov-Atlas+(44)_frame_012.jpg         0   \n",
       "1      Cov-Atlas+(44)   Cov-Atlas+(44)_frame_009.jpg         0   \n",
       "2      Cov-Atlas+(44)   Cov-Atlas+(44)_frame_039.jpg         0   \n",
       "3      Cov-Atlas+(44)   Cov-Atlas+(44)_frame_033.jpg         0   \n",
       "4     Cov-Atlas-+(43)  Cov-Atlas-+(43)_frame_012.jpg         0   \n",
       "...               ...                            ...       ...   \n",
       "2169  pneu-radiopaeda  pneu-radiopaeda_frame_096.jpg         0   \n",
       "2170  pneu-radiopaeda  pneu-radiopaeda_frame_036.jpg         0   \n",
       "2171  pneu-radiopaeda  pneu-radiopaeda_frame_081.jpg         0   \n",
       "2172  pneu-radiopaeda  pneu-radiopaeda_frame_018.jpg         0   \n",
       "2173  pneu-radiopaeda  pneu-radiopaeda_frame_132.jpg         0   \n",
       "\n",
       "      Consolidations  B-lines  Healthy  \n",
       "0                  1        0        0  \n",
       "1                  1        0        0  \n",
       "2                  1        0        0  \n",
       "3                  1        0        0  \n",
       "4                  0        1        0  \n",
       "...              ...      ...      ...  \n",
       "2169               1        0        0  \n",
       "2170               1        0        0  \n",
       "2171               1        0        0  \n",
       "2172               1        0        0  \n",
       "2173               1        0        0  \n",
       "\n",
       "[2174 rows x 6 columns]"
      ]
     },
     "execution_count": 243,
     "metadata": {},
     "output_type": "execute_result"
    }
   ],
   "source": [
    "df"
   ]
  },
  {
   "cell_type": "code",
   "execution_count": 245,
   "metadata": {},
   "outputs": [
    {
     "data": {
      "text/html": [
       "<div>\n",
       "<style scoped>\n",
       "    .dataframe tbody tr th:only-of-type {\n",
       "        vertical-align: middle;\n",
       "    }\n",
       "\n",
       "    .dataframe tbody tr th {\n",
       "        vertical-align: top;\n",
       "    }\n",
       "\n",
       "    .dataframe thead th {\n",
       "        text-align: right;\n",
       "    }\n",
       "</style>\n",
       "<table border=\"1\" class=\"dataframe\">\n",
       "  <thead>\n",
       "    <tr style=\"text-align: right;\">\n",
       "      <th></th>\n",
       "      <th>Filename</th>\n",
       "      <th>converted_filename</th>\n",
       "      <th>Effusion</th>\n",
       "      <th>Consolidations</th>\n",
       "      <th>B-lines</th>\n",
       "      <th>Healthy</th>\n",
       "      <th>file_path</th>\n",
       "    </tr>\n",
       "  </thead>\n",
       "  <tbody>\n",
       "    <tr>\n",
       "      <th>0</th>\n",
       "      <td>Cov-Atlas+(44)</td>\n",
       "      <td>Cov-Atlas+(44)_frame_012.jpg</td>\n",
       "      <td>0</td>\n",
       "      <td>1</td>\n",
       "      <td>0</td>\n",
       "      <td>0</td>\n",
       "      <td>/home/Sean/PoCOVID/4real/covid19_pocus_ultraso...</td>\n",
       "    </tr>\n",
       "    <tr>\n",
       "      <th>1</th>\n",
       "      <td>Cov-Atlas+(44)</td>\n",
       "      <td>Cov-Atlas+(44)_frame_009.jpg</td>\n",
       "      <td>0</td>\n",
       "      <td>1</td>\n",
       "      <td>0</td>\n",
       "      <td>0</td>\n",
       "      <td>/home/Sean/PoCOVID/4real/covid19_pocus_ultraso...</td>\n",
       "    </tr>\n",
       "    <tr>\n",
       "      <th>2</th>\n",
       "      <td>Cov-Atlas+(44)</td>\n",
       "      <td>Cov-Atlas+(44)_frame_039.jpg</td>\n",
       "      <td>0</td>\n",
       "      <td>1</td>\n",
       "      <td>0</td>\n",
       "      <td>0</td>\n",
       "      <td>/home/Sean/PoCOVID/4real/covid19_pocus_ultraso...</td>\n",
       "    </tr>\n",
       "    <tr>\n",
       "      <th>3</th>\n",
       "      <td>Cov-Atlas+(44)</td>\n",
       "      <td>Cov-Atlas+(44)_frame_033.jpg</td>\n",
       "      <td>0</td>\n",
       "      <td>1</td>\n",
       "      <td>0</td>\n",
       "      <td>0</td>\n",
       "      <td>/home/Sean/PoCOVID/4real/covid19_pocus_ultraso...</td>\n",
       "    </tr>\n",
       "    <tr>\n",
       "      <th>4</th>\n",
       "      <td>Cov-Atlas-+(43)</td>\n",
       "      <td>Cov-Atlas-+(43)_frame_012.jpg</td>\n",
       "      <td>0</td>\n",
       "      <td>0</td>\n",
       "      <td>1</td>\n",
       "      <td>0</td>\n",
       "      <td>/home/Sean/PoCOVID/4real/covid19_pocus_ultraso...</td>\n",
       "    </tr>\n",
       "  </tbody>\n",
       "</table>\n",
       "</div>"
      ],
      "text/plain": [
       "          Filename             converted_filename  Effusion  Consolidations  \\\n",
       "0   Cov-Atlas+(44)   Cov-Atlas+(44)_frame_012.jpg         0               1   \n",
       "1   Cov-Atlas+(44)   Cov-Atlas+(44)_frame_009.jpg         0               1   \n",
       "2   Cov-Atlas+(44)   Cov-Atlas+(44)_frame_039.jpg         0               1   \n",
       "3   Cov-Atlas+(44)   Cov-Atlas+(44)_frame_033.jpg         0               1   \n",
       "4  Cov-Atlas-+(43)  Cov-Atlas-+(43)_frame_012.jpg         0               0   \n",
       "\n",
       "   B-lines  Healthy                                          file_path  \n",
       "0        0        0  /home/Sean/PoCOVID/4real/covid19_pocus_ultraso...  \n",
       "1        0        0  /home/Sean/PoCOVID/4real/covid19_pocus_ultraso...  \n",
       "2        0        0  /home/Sean/PoCOVID/4real/covid19_pocus_ultraso...  \n",
       "3        0        0  /home/Sean/PoCOVID/4real/covid19_pocus_ultraso...  \n",
       "4        1        0  /home/Sean/PoCOVID/4real/covid19_pocus_ultraso...  "
      ]
     },
     "execution_count": 245,
     "metadata": {},
     "output_type": "execute_result"
    }
   ],
   "source": [
    "df['file_path'] = f'/home/Sean/PoCOVID/4real/covid19_pocus_ultrasound_pytorch/code/data/vidtoimg/' + df.converted_filename\n",
    "df.head()"
   ]
  },
  {
   "cell_type": "markdown",
   "metadata": {},
   "source": [
    "## into the newfolders\n"
   ]
  },
  {
   "cell_type": "code",
   "execution_count": 246,
   "metadata": {},
   "outputs": [],
   "source": [
    "import os\n",
    "import glob\n",
    "import shutil\n",
    "from sklearn.model_selection import train_test_split\n",
    "\n",
    "image_files = df['file_path']\n",
    "\n",
    "images = [name.replace(\"jpg\", \"\") for name in image_files]\n",
    "\n",
    "#splitting the dataset 8:1:1\n",
    "train_names, test_names = train_test_split(images, test_size = 0.2, random_state = 42, shuffle = True)\n",
    "val_names, test_names = train_test_split(images, test_size = 0.5, random_state = 42, shuffle = True)"
   ]
  },
  {
   "cell_type": "code",
   "execution_count": 250,
   "metadata": {},
   "outputs": [
    {
     "name": "stdout",
     "output_type": "stream",
     "text": [
      "1739 1087 1087\n"
     ]
    }
   ],
   "source": [
    "print(len(train_names), len(test_names), len(val_names))"
   ]
  },
  {
   "cell_type": "code",
   "execution_count": 257,
   "metadata": {},
   "outputs": [],
   "source": [
    "def batch_move_files(file_list, source_path, destination_path):\n",
    "    for file in file_list:\n",
    "        # 경로에서 마지막 파일명만 가져와서 확장자 붙여줌 #참고 : https://lynnshin.tistory.com/46\n",
    "        image = file.split('/')[-1] + 'jpg'\n",
    "        #text = file.split('/')+ '.json'\n",
    "        shutil.copy(os.path.join(source_path, image), destination_path)\n",
    "        #shutil.copy(os.path.join(source_path, txt), destination_path)\n",
    "    return"
   ]
  },
  {
   "cell_type": "code",
   "execution_count": 258,
   "metadata": {},
   "outputs": [],
   "source": [
    "source_dir = img_path\n",
    "test_dir = '/home/Sean/PoCOVID/4real/covid19_pocus_ultrasound_pytorch/code/data/00_pocovid_img/test'\n",
    "train_dir = '/home/Sean/PoCOVID/4real/covid19_pocus_ultrasound_pytorch/code/data/00_pocovid_img/train'\n",
    "val_dir = '/home/Sean/PoCOVID/4real/covid19_pocus_ultrasound_pytorch/code/data/00_pocovid_img/val'"
   ]
  },
  {
   "cell_type": "code",
   "execution_count": 300,
   "metadata": {},
   "outputs": [],
   "source": [
    "batch_move_files(train_names, source_dir, train_dir)\n",
    "batch_move_files(test_names, source_dir, test_dir)\n",
    "batch_move_files(val_names, source_dir, val_dir)"
   ]
  },
  {
   "cell_type": "code",
   "execution_count": 301,
   "metadata": {},
   "outputs": [
    {
     "data": {
      "text/plain": [
       "(1739, 1087, 1087)"
      ]
     },
     "execution_count": 301,
     "metadata": {},
     "output_type": "execute_result"
    }
   ],
   "source": [
    "len(train_names), len(test_names), len(val_names)"
   ]
  },
  {
   "cell_type": "markdown",
   "metadata": {},
   "source": [
    "## Path와 이름 구별하기"
   ]
  },
  {
   "cell_type": "code",
   "execution_count": 264,
   "metadata": {
    "collapsed": true,
    "jupyter": {
     "outputs_hidden": true
    }
   },
   "outputs": [
    {
     "data": {
      "text/plain": [
       "['/home/Sean/PoCOVID/4real/covid19_pocus_ultrasound_pytorch/code/data/00_pocovid_img/test/Cov_combatting_image4_frame_036.jpg',\n",
       " '/home/Sean/PoCOVID/4real/covid19_pocus_ultrasound_pytorch/code/data/00_pocovid_img/test/Vir_whitelung_h1n1_frame_114.jpg',\n",
       " '/home/Sean/PoCOVID/4real/covid19_pocus_ultrasound_pytorch/code/data/00_pocovid_img/test/Cov_denault_proposedUS_vid14_frame_045.jpg',\n",
       " '/home/Sean/PoCOVID/4real/covid19_pocus_ultrasound_pytorch/code/data/00_pocovid_img/test/Reg-NormalLungs_frame_087.jpg']"
      ]
     },
     "execution_count": 264,
     "metadata": {},
     "output_type": "execute_result"
    }
   ],
   "source": [
    "temp = glob.glob('/home/Sean/PoCOVID/4real/covid19_pocus_ultrasound_pytorch/code/data/00_pocovid_img/'+'*/*.jpg')\n",
    "temp[:4]"
   ]
  },
  {
   "cell_type": "code",
   "execution_count": 265,
   "metadata": {
    "collapsed": true,
    "jupyter": {
     "outputs_hidden": true
    }
   },
   "outputs": [
    {
     "data": {
      "text/plain": [
       "'test/Cov_combatting_image4_frame_036.jpg'"
      ]
     },
     "execution_count": 265,
     "metadata": {},
     "output_type": "execute_result"
    }
   ],
   "source": [
    "temp[0].split('/00_pocovid_img/')[-1]"
   ]
  },
  {
   "cell_type": "code",
   "execution_count": 269,
   "metadata": {
    "collapsed": true,
    "jupyter": {
     "outputs_hidden": true
    }
   },
   "outputs": [
    {
     "data": {
      "text/plain": [
       "'/home/Sean/PoCOVID/4real/covid19_pocus_ultrasound_pytorch/code/data/vidtoimg/Vir_whitelung_h1n1_frame_114.'"
      ]
     },
     "execution_count": 269,
     "metadata": {},
     "output_type": "execute_result"
    }
   ],
   "source": [
    "train_names[1]"
   ]
  },
  {
   "cell_type": "code",
   "execution_count": 278,
   "metadata": {
    "collapsed": true,
    "jupyter": {
     "outputs_hidden": true
    }
   },
   "outputs": [
    {
     "name": "stdout",
     "output_type": "stream",
     "text": [
      "The number of the files are : 1739,\n",
      "The first file is : Cov_combatting_image4_frame_036.jpg, \n",
      "The last file is : Pneu-grep-pneumonia3_frame_006.jpg\n",
      "The number of the files are : 1739,\n",
      "The first file is : Cov_combatting_image4, \n",
      "The last file is : Pneu-grep-pneumonia3\n"
     ]
    }
   ],
   "source": [
    "file_name = []\n",
    "file_type = []\n",
    "\n",
    "for i in range(len(train_names)):\n",
    "    file_type.append(train_names[i].split('/')[-1].split('.')[0]+'.jpg')#.split('.')[0])\n",
    "    file_name.append(train_names[i].split('/')[-1].split('.')[0].split('_frame')[0])\n",
    "    #file_name.sort()\n",
    "\n",
    "print('The number of the files are : {},\\nThe first file is : {}, \\nThe last file is : {}'.format(len(file_type),file_type[0], file_type[-1] ))\n",
    "print('The number of the files are : {},\\nThe first file is : {}, \\nThe last file is : {}'.format(len(file_name),file_name[0], file_name[-1] ))"
   ]
  },
  {
   "cell_type": "code",
   "execution_count": 281,
   "metadata": {
    "collapsed": true,
    "jupyter": {
     "outputs_hidden": true
    }
   },
   "outputs": [
    {
     "data": {
      "text/html": [
       "<div>\n",
       "<style scoped>\n",
       "    .dataframe tbody tr th:only-of-type {\n",
       "        vertical-align: middle;\n",
       "    }\n",
       "\n",
       "    .dataframe tbody tr th {\n",
       "        vertical-align: top;\n",
       "    }\n",
       "\n",
       "    .dataframe thead th {\n",
       "        text-align: right;\n",
       "    }\n",
       "</style>\n",
       "<table border=\"1\" class=\"dataframe\">\n",
       "  <thead>\n",
       "    <tr style=\"text-align: right;\">\n",
       "      <th></th>\n",
       "      <th>converted_filename</th>\n",
       "      <th>Filename</th>\n",
       "    </tr>\n",
       "  </thead>\n",
       "  <tbody>\n",
       "    <tr>\n",
       "      <th>0</th>\n",
       "      <td>Cov_combatting_image4_frame_036.jpg</td>\n",
       "      <td>Cov_combatting_image4</td>\n",
       "    </tr>\n",
       "    <tr>\n",
       "      <th>1</th>\n",
       "      <td>Vir_whitelung_h1n1_frame_114.jpg</td>\n",
       "      <td>Vir_whitelung_h1n1</td>\n",
       "    </tr>\n",
       "    <tr>\n",
       "      <th>2</th>\n",
       "      <td>Cov_denault_proposedUS_vid14_frame_045.jpg</td>\n",
       "      <td>Cov_denault_proposedUS_vid14</td>\n",
       "    </tr>\n",
       "    <tr>\n",
       "      <th>3</th>\n",
       "      <td>Reg-NormalLungs_frame_087.jpg</td>\n",
       "      <td>Reg-NormalLungs</td>\n",
       "    </tr>\n",
       "    <tr>\n",
       "      <th>4</th>\n",
       "      <td>Reg_pat4Image_140606_frame_156.jpg</td>\n",
       "      <td>Reg_pat4Image_140606</td>\n",
       "    </tr>\n",
       "    <tr>\n",
       "      <th>...</th>\n",
       "      <td>...</td>\n",
       "      <td>...</td>\n",
       "    </tr>\n",
       "    <tr>\n",
       "      <th>1734</th>\n",
       "      <td>Reg_pat2Image_133952_frame_075.jpg</td>\n",
       "      <td>Reg_pat2Image_133952</td>\n",
       "    </tr>\n",
       "    <tr>\n",
       "      <th>1735</th>\n",
       "      <td>Pneu_northumbria_0409_set6_vid5_frame_015.jpg</td>\n",
       "      <td>Pneu_northumbria_0409_set6_vid5</td>\n",
       "    </tr>\n",
       "    <tr>\n",
       "      <th>1736</th>\n",
       "      <td>Pneu_prospective_file3_frame_120.jpg</td>\n",
       "      <td>Pneu_prospective_file3</td>\n",
       "    </tr>\n",
       "    <tr>\n",
       "      <th>1737</th>\n",
       "      <td>Reg_Avi_Image008_frame_165.jpg</td>\n",
       "      <td>Reg_Avi_Image008</td>\n",
       "    </tr>\n",
       "    <tr>\n",
       "      <th>1738</th>\n",
       "      <td>Pneu-grep-pneumonia3_frame_006.jpg</td>\n",
       "      <td>Pneu-grep-pneumonia3</td>\n",
       "    </tr>\n",
       "  </tbody>\n",
       "</table>\n",
       "<p>1739 rows × 2 columns</p>\n",
       "</div>"
      ],
      "text/plain": [
       "                                 converted_filename  \\\n",
       "0               Cov_combatting_image4_frame_036.jpg   \n",
       "1                  Vir_whitelung_h1n1_frame_114.jpg   \n",
       "2        Cov_denault_proposedUS_vid14_frame_045.jpg   \n",
       "3                     Reg-NormalLungs_frame_087.jpg   \n",
       "4                Reg_pat4Image_140606_frame_156.jpg   \n",
       "...                                             ...   \n",
       "1734             Reg_pat2Image_133952_frame_075.jpg   \n",
       "1735  Pneu_northumbria_0409_set6_vid5_frame_015.jpg   \n",
       "1736           Pneu_prospective_file3_frame_120.jpg   \n",
       "1737                 Reg_Avi_Image008_frame_165.jpg   \n",
       "1738             Pneu-grep-pneumonia3_frame_006.jpg   \n",
       "\n",
       "                             Filename  \n",
       "0               Cov_combatting_image4  \n",
       "1                  Vir_whitelung_h1n1  \n",
       "2        Cov_denault_proposedUS_vid14  \n",
       "3                     Reg-NormalLungs  \n",
       "4                Reg_pat4Image_140606  \n",
       "...                               ...  \n",
       "1734             Reg_pat2Image_133952  \n",
       "1735  Pneu_northumbria_0409_set6_vid5  \n",
       "1736           Pneu_prospective_file3  \n",
       "1737                 Reg_Avi_Image008  \n",
       "1738             Pneu-grep-pneumonia3  \n",
       "\n",
       "[1739 rows x 2 columns]"
      ]
     },
     "execution_count": 281,
     "metadata": {},
     "output_type": "execute_result"
    }
   ],
   "source": [
    "import pandas as pd\n",
    "csv_list = pd.DataFrame({'converted_filename' : file_type,\n",
    "                         'Filename' : file_name})\n",
    "csv_list"
   ]
  },
  {
   "cell_type": "code",
   "execution_count": 286,
   "metadata": {},
   "outputs": [
    {
     "data": {
      "text/html": [
       "<div>\n",
       "<style scoped>\n",
       "    .dataframe tbody tr th:only-of-type {\n",
       "        vertical-align: middle;\n",
       "    }\n",
       "\n",
       "    .dataframe tbody tr th {\n",
       "        vertical-align: top;\n",
       "    }\n",
       "\n",
       "    .dataframe thead th {\n",
       "        text-align: right;\n",
       "    }\n",
       "</style>\n",
       "<table border=\"1\" class=\"dataframe\">\n",
       "  <thead>\n",
       "    <tr style=\"text-align: right;\">\n",
       "      <th></th>\n",
       "      <th>Filename</th>\n",
       "      <th>converted_filename</th>\n",
       "      <th>Effusion</th>\n",
       "      <th>Consolidations</th>\n",
       "      <th>B-lines</th>\n",
       "      <th>Healthy</th>\n",
       "      <th>file_path</th>\n",
       "    </tr>\n",
       "  </thead>\n",
       "  <tbody>\n",
       "    <tr>\n",
       "      <th>0</th>\n",
       "      <td>Cov-Atlas+(44)</td>\n",
       "      <td>Cov-Atlas+(44)_frame_012.jpg</td>\n",
       "      <td>0</td>\n",
       "      <td>1</td>\n",
       "      <td>0</td>\n",
       "      <td>0</td>\n",
       "      <td>/home/Sean/PoCOVID/4real/covid19_pocus_ultraso...</td>\n",
       "    </tr>\n",
       "    <tr>\n",
       "      <th>1</th>\n",
       "      <td>Cov-Atlas+(44)</td>\n",
       "      <td>Cov-Atlas+(44)_frame_009.jpg</td>\n",
       "      <td>0</td>\n",
       "      <td>1</td>\n",
       "      <td>0</td>\n",
       "      <td>0</td>\n",
       "      <td>/home/Sean/PoCOVID/4real/covid19_pocus_ultraso...</td>\n",
       "    </tr>\n",
       "    <tr>\n",
       "      <th>2</th>\n",
       "      <td>Cov-Atlas+(44)</td>\n",
       "      <td>Cov-Atlas+(44)_frame_039.jpg</td>\n",
       "      <td>0</td>\n",
       "      <td>1</td>\n",
       "      <td>0</td>\n",
       "      <td>0</td>\n",
       "      <td>/home/Sean/PoCOVID/4real/covid19_pocus_ultraso...</td>\n",
       "    </tr>\n",
       "    <tr>\n",
       "      <th>3</th>\n",
       "      <td>Cov-Atlas+(44)</td>\n",
       "      <td>Cov-Atlas+(44)_frame_033.jpg</td>\n",
       "      <td>0</td>\n",
       "      <td>1</td>\n",
       "      <td>0</td>\n",
       "      <td>0</td>\n",
       "      <td>/home/Sean/PoCOVID/4real/covid19_pocus_ultraso...</td>\n",
       "    </tr>\n",
       "    <tr>\n",
       "      <th>4</th>\n",
       "      <td>Cov-Atlas-+(43)</td>\n",
       "      <td>Cov-Atlas-+(43)_frame_012.jpg</td>\n",
       "      <td>0</td>\n",
       "      <td>0</td>\n",
       "      <td>1</td>\n",
       "      <td>0</td>\n",
       "      <td>/home/Sean/PoCOVID/4real/covid19_pocus_ultraso...</td>\n",
       "    </tr>\n",
       "    <tr>\n",
       "      <th>...</th>\n",
       "      <td>...</td>\n",
       "      <td>...</td>\n",
       "      <td>...</td>\n",
       "      <td>...</td>\n",
       "      <td>...</td>\n",
       "      <td>...</td>\n",
       "      <td>...</td>\n",
       "    </tr>\n",
       "    <tr>\n",
       "      <th>1734</th>\n",
       "      <td>pneu-radiopaeda</td>\n",
       "      <td>pneu-radiopaeda_frame_027.jpg</td>\n",
       "      <td>0</td>\n",
       "      <td>1</td>\n",
       "      <td>0</td>\n",
       "      <td>0</td>\n",
       "      <td>/home/Sean/PoCOVID/4real/covid19_pocus_ultraso...</td>\n",
       "    </tr>\n",
       "    <tr>\n",
       "      <th>1735</th>\n",
       "      <td>pneu-radiopaeda</td>\n",
       "      <td>pneu-radiopaeda_frame_096.jpg</td>\n",
       "      <td>0</td>\n",
       "      <td>1</td>\n",
       "      <td>0</td>\n",
       "      <td>0</td>\n",
       "      <td>/home/Sean/PoCOVID/4real/covid19_pocus_ultraso...</td>\n",
       "    </tr>\n",
       "    <tr>\n",
       "      <th>1736</th>\n",
       "      <td>pneu-radiopaeda</td>\n",
       "      <td>pneu-radiopaeda_frame_036.jpg</td>\n",
       "      <td>0</td>\n",
       "      <td>1</td>\n",
       "      <td>0</td>\n",
       "      <td>0</td>\n",
       "      <td>/home/Sean/PoCOVID/4real/covid19_pocus_ultraso...</td>\n",
       "    </tr>\n",
       "    <tr>\n",
       "      <th>1737</th>\n",
       "      <td>pneu-radiopaeda</td>\n",
       "      <td>pneu-radiopaeda_frame_018.jpg</td>\n",
       "      <td>0</td>\n",
       "      <td>1</td>\n",
       "      <td>0</td>\n",
       "      <td>0</td>\n",
       "      <td>/home/Sean/PoCOVID/4real/covid19_pocus_ultraso...</td>\n",
       "    </tr>\n",
       "    <tr>\n",
       "      <th>1738</th>\n",
       "      <td>pneu-radiopaeda</td>\n",
       "      <td>pneu-radiopaeda_frame_132.jpg</td>\n",
       "      <td>0</td>\n",
       "      <td>1</td>\n",
       "      <td>0</td>\n",
       "      <td>0</td>\n",
       "      <td>/home/Sean/PoCOVID/4real/covid19_pocus_ultraso...</td>\n",
       "    </tr>\n",
       "  </tbody>\n",
       "</table>\n",
       "<p>1739 rows × 7 columns</p>\n",
       "</div>"
      ],
      "text/plain": [
       "             Filename             converted_filename  Effusion  \\\n",
       "0      Cov-Atlas+(44)   Cov-Atlas+(44)_frame_012.jpg         0   \n",
       "1      Cov-Atlas+(44)   Cov-Atlas+(44)_frame_009.jpg         0   \n",
       "2      Cov-Atlas+(44)   Cov-Atlas+(44)_frame_039.jpg         0   \n",
       "3      Cov-Atlas+(44)   Cov-Atlas+(44)_frame_033.jpg         0   \n",
       "4     Cov-Atlas-+(43)  Cov-Atlas-+(43)_frame_012.jpg         0   \n",
       "...               ...                            ...       ...   \n",
       "1734  pneu-radiopaeda  pneu-radiopaeda_frame_027.jpg         0   \n",
       "1735  pneu-radiopaeda  pneu-radiopaeda_frame_096.jpg         0   \n",
       "1736  pneu-radiopaeda  pneu-radiopaeda_frame_036.jpg         0   \n",
       "1737  pneu-radiopaeda  pneu-radiopaeda_frame_018.jpg         0   \n",
       "1738  pneu-radiopaeda  pneu-radiopaeda_frame_132.jpg         0   \n",
       "\n",
       "      Consolidations  B-lines  Healthy  \\\n",
       "0                  1        0        0   \n",
       "1                  1        0        0   \n",
       "2                  1        0        0   \n",
       "3                  1        0        0   \n",
       "4                  0        1        0   \n",
       "...              ...      ...      ...   \n",
       "1734               1        0        0   \n",
       "1735               1        0        0   \n",
       "1736               1        0        0   \n",
       "1737               1        0        0   \n",
       "1738               1        0        0   \n",
       "\n",
       "                                              file_path  \n",
       "0     /home/Sean/PoCOVID/4real/covid19_pocus_ultraso...  \n",
       "1     /home/Sean/PoCOVID/4real/covid19_pocus_ultraso...  \n",
       "2     /home/Sean/PoCOVID/4real/covid19_pocus_ultraso...  \n",
       "3     /home/Sean/PoCOVID/4real/covid19_pocus_ultraso...  \n",
       "4     /home/Sean/PoCOVID/4real/covid19_pocus_ultraso...  \n",
       "...                                                 ...  \n",
       "1734  /home/Sean/PoCOVID/4real/covid19_pocus_ultraso...  \n",
       "1735  /home/Sean/PoCOVID/4real/covid19_pocus_ultraso...  \n",
       "1736  /home/Sean/PoCOVID/4real/covid19_pocus_ultraso...  \n",
       "1737  /home/Sean/PoCOVID/4real/covid19_pocus_ultraso...  \n",
       "1738  /home/Sean/PoCOVID/4real/covid19_pocus_ultraso...  \n",
       "\n",
       "[1739 rows x 7 columns]"
      ]
     },
     "execution_count": 286,
     "metadata": {},
     "output_type": "execute_result"
    }
   ],
   "source": [
    "result = pd.merge(df,\n",
    "                 csv_list[['converted_filename']], #, 'Filename', 'Effusion','Consolidations','B-lines','Healthy']],\n",
    "                 on='converted_filename')\n",
    "result"
   ]
  },
  {
   "cell_type": "markdown",
   "metadata": {},
   "source": [
    "### Train 확인\n"
   ]
  },
  {
   "cell_type": "code",
   "execution_count": 346,
   "metadata": {},
   "outputs": [
    {
     "data": {
      "image/png": "[encoded data removed]",
      "text/plain": [
       "<Figure size 432x288 with 1 Axes>"
      ]
     },
     "metadata": {},
     "output_type": "display_data"
    }
   ],
   "source": [
    "file_name = []\n",
    "file_type = []\n",
    "\n",
    "for i in range(len(train_names)):\n",
    "    file_type.append(train_names[i].split('/')[-1].split('.')[0]+'.jpg')#.split('.')[0])\n",
    "    file_name.append(train_names[i].split('/')[-1].split('.')[0].split('_frame')[0])\n",
    "    #file_name.sort()\n",
    "\n",
    "\n",
    "csv_list = pd.DataFrame({'converted_filename' : file_type,\n",
    "                         'Filename' : file_name})\n",
    "\n",
    "\n",
    "result = pd.merge(df,\n",
    "                 csv_list[['converted_filename']], #, 'Filename', 'Effusion','Consolidations','B-lines','Healthy']],\n",
    "                 on='converted_filename')\n",
    "\n",
    "    \n",
    "    \n",
    "fig1, ax1 = plt.subplots()\n",
    "result.iloc[:,2:6].sum(axis=0).plot.pie(autopct='%1.1f%%',shadow=True, startangle=90,ax=ax1)\n",
    "ax1.axis(\"equal\")\n",
    "plt.show()"
   ]
  },
  {
   "cell_type": "markdown",
   "metadata": {},
   "source": [
    "### test split 확인\n"
   ]
  },
  {
   "cell_type": "code",
   "execution_count": 303,
   "metadata": {},
   "outputs": [
    {
     "data": {
      "image/png": "[encoded data removed]",
      "text/plain": [
       "<Figure size 432x288 with 1 Axes>"
      ]
     },
     "metadata": {},
     "output_type": "display_data"
    }
   ],
   "source": [
    "file_name = []\n",
    "file_type = []\n",
    "\n",
    "for i in range(len(test_names)):\n",
    "    file_type.append(test_names[i].split('/')[-1].split('.')[0]+'.jpg')#.split('.')[0])\n",
    "    file_name.append(test_names[i].split('/')[-1].split('.')[0].split('_frame')[0])\n",
    "    #file_name.sort()\n",
    "\n",
    "csv_list = pd.DataFrame({'converted_filename' : file_type,\n",
    "                         'Filename' : file_name})\n",
    "\n",
    "\n",
    "result = pd.merge(df,\n",
    "                 csv_list[['converted_filename']], #, 'Filename', 'Effusion','Consolidations','B-lines','Healthy']],\n",
    "                 on='converted_filename')\n",
    "\n",
    "fig1, ax1 = plt.subplots()\n",
    "result.iloc[:,2:6].sum(axis=0).plot.pie(autopct='%1.1f%%',shadow=True, startangle=90,ax=ax1)\n",
    "ax1.axis(\"equal\")\n",
    "plt.show()"
   ]
  },
  {
   "cell_type": "markdown",
   "metadata": {},
   "source": [
    "### Valid 확인"
   ]
  },
  {
   "cell_type": "code",
   "execution_count": 304,
   "metadata": {},
   "outputs": [
    {
     "data": {
      "image/png": "[encoded data removed]",
      "text/plain": [
       "<Figure size 432x288 with 1 Axes>"
      ]
     },
     "metadata": {},
     "output_type": "display_data"
    }
   ],
   "source": [
    "file_name = []\n",
    "file_type = []\n",
    "\n",
    "for i in range(len(val_names)):\n",
    "    file_type.append(val_names[i].split('/')[-1].split('.')[0]+'.jpg')#.split('.')[0])\n",
    "    file_name.append(val_names[i].split('/')[-1].split('.')[0].split('_frame')[0])\n",
    "    #file_name.sort()\n",
    "\n",
    "csv_list = pd.DataFrame({'converted_filename' : file_type,\n",
    "                         'Filename' : file_name})\n",
    "\n",
    "\n",
    "result = pd.merge(df,\n",
    "                 csv_list[['converted_filename']], #, 'Filename', 'Effusion','Consolidations','B-lines','Healthy']],\n",
    "                 on='converted_filename')\n",
    "\n",
    "fig1, ax1 = plt.subplots()\n",
    "result.iloc[:,2:6].sum(axis=0).plot.pie(autopct='%1.1f%%',shadow=True, startangle=90,ax=ax1)\n",
    "ax1.axis(\"equal\")\n",
    "plt.show()"
   ]
  },
  {
   "cell_type": "markdown",
   "metadata": {},
   "source": [
    "## csv만들기"
   ]
  },
  {
   "cell_type": "code",
   "execution_count": 356,
   "metadata": {},
   "outputs": [
    {
     "data": {
      "text/plain": [
       "3913"
      ]
     },
     "execution_count": 356,
     "metadata": {},
     "output_type": "execute_result"
    }
   ],
   "source": [
    "temp = glob.glob('/home/Sean/PoCOVID/4real/covid19_pocus_ultrasound_pytorch/code/data/00_pocovid_img/'+'*/*.jpg')\n",
    "len(temp)"
   ]
  },
  {
   "cell_type": "code",
   "execution_count": 357,
   "metadata": {
    "collapsed": true,
    "jupyter": {
     "outputs_hidden": true
    }
   },
   "outputs": [
    {
     "data": {
      "text/plain": [
       "'/home/Sean/PoCOVID/4real/covid19_pocus_ultrasound_pytorch/code/data/00_pocovid_img/test/Cov_convex_volpecelli_sonographic_v1_frame_282.jpg'"
      ]
     },
     "execution_count": 357,
     "metadata": {},
     "output_type": "execute_result"
    }
   ],
   "source": [
    "temp[0]"
   ]
  },
  {
   "cell_type": "code",
   "execution_count": 358,
   "metadata": {
    "collapsed": true,
    "jupyter": {
     "outputs_hidden": true
    }
   },
   "outputs": [
    {
     "data": {
      "text/plain": [
       "'Cov_convex_volpecelli_sonographic_v1_frame_282.jpg'"
      ]
     },
     "execution_count": 358,
     "metadata": {},
     "output_type": "execute_result"
    }
   ],
   "source": [
    "temp[0].split('/00_pocovid_img/')[-1].split('/')[-1]"
   ]
  },
  {
   "cell_type": "code",
   "execution_count": 394,
   "metadata": {
    "collapsed": true,
    "jupyter": {
     "outputs_hidden": true
    }
   },
   "outputs": [
    {
     "name": "stdout",
     "output_type": "stream",
     "text": [
      "The number of the files are : 3913,\n",
      "The first file is : test/Cov_convex_volpecelli_sonographic_v1_frame_282.jpg, \n",
      "The last file is : val/Pneu-grep-pneumonia3_frame_006.jpg\n",
      "The number of the files are : 3913,\n",
      "The first file is : Cov_convex_volpecelli_sonographic_v1_frame_282.jpg, \n",
      "The last file is : Pneu-grep-pneumonia3_frame_006.jpg\n"
     ]
    }
   ],
   "source": [
    "file_name = []\n",
    "file_type = []\n",
    "\n",
    "for i in range(len(temp)):\n",
    "    file_type.append(temp[i].split('/00_pocovid_img/')[-1])#.split('.')[0])\n",
    "    file_name.append(temp[i].split('/00_pocovid_img/')[-1].split('/')[-1])\n",
    "    #file_name.sort()\n",
    "\n",
    "print('The number of the files are : {},\\nThe first file is : {}, \\nThe last file is : {}'.format(len(file_type),file_type[0], file_type[-1] ))\n",
    "print('The number of the files are : {},\\nThe first file is : {}, \\nThe last file is : {}'.format(len(file_name),file_name[0], file_name[-1] ))"
   ]
  },
  {
   "cell_type": "code",
   "execution_count": 397,
   "metadata": {
    "collapsed": true,
    "jupyter": {
     "outputs_hidden": true,
     "source_hidden": true
    }
   },
   "outputs": [
    {
     "data": {
      "text/html": [
       "<div>\n",
       "<style scoped>\n",
       "    .dataframe tbody tr th:only-of-type {\n",
       "        vertical-align: middle;\n",
       "    }\n",
       "\n",
       "    .dataframe tbody tr th {\n",
       "        vertical-align: top;\n",
       "    }\n",
       "\n",
       "    .dataframe thead th {\n",
       "        text-align: right;\n",
       "    }\n",
       "</style>\n",
       "<table border=\"1\" class=\"dataframe\">\n",
       "  <thead>\n",
       "    <tr style=\"text-align: right;\">\n",
       "      <th></th>\n",
       "      <th>new_names</th>\n",
       "      <th>converted_filename</th>\n",
       "    </tr>\n",
       "  </thead>\n",
       "  <tbody>\n",
       "    <tr>\n",
       "      <th>0</th>\n",
       "      <td>test/Cov_convex_volpecelli_sonographic_v1_fram...</td>\n",
       "      <td>Cov_convex_volpecelli_sonographic_v1_frame_282...</td>\n",
       "    </tr>\n",
       "    <tr>\n",
       "      <th>1</th>\n",
       "      <td>test/Reg_pat1Image_133043_frame_132.jpg</td>\n",
       "      <td>Reg_pat1Image_133043_frame_132.jpg</td>\n",
       "    </tr>\n",
       "    <tr>\n",
       "      <th>2</th>\n",
       "      <td>test/Pneu-grep-bacterial-hepatization-clinical...</td>\n",
       "      <td>Pneu-grep-bacterial-hepatization-clinical_fram...</td>\n",
       "    </tr>\n",
       "    <tr>\n",
       "      <th>3</th>\n",
       "      <td>test/Cov_new_pregnant_vid8_frame_123.jpg</td>\n",
       "      <td>Cov_new_pregnant_vid8_frame_123.jpg</td>\n",
       "    </tr>\n",
       "    <tr>\n",
       "      <th>4</th>\n",
       "      <td>test/Reg-Youtube_frame_117.jpg</td>\n",
       "      <td>Reg-Youtube_frame_117.jpg</td>\n",
       "    </tr>\n",
       "    <tr>\n",
       "      <th>...</th>\n",
       "      <td>...</td>\n",
       "      <td>...</td>\n",
       "    </tr>\n",
       "    <tr>\n",
       "      <th>3908</th>\n",
       "      <td>val/Reg_pat2Image_133952_frame_075.jpg</td>\n",
       "      <td>Reg_pat2Image_133952_frame_075.jpg</td>\n",
       "    </tr>\n",
       "    <tr>\n",
       "      <th>3909</th>\n",
       "      <td>val/Pneu_northumbria_0409_set6_vid5_frame_015.jpg</td>\n",
       "      <td>Pneu_northumbria_0409_set6_vid5_frame_015.jpg</td>\n",
       "    </tr>\n",
       "    <tr>\n",
       "      <th>3910</th>\n",
       "      <td>val/Pneu_prospective_file3_frame_120.jpg</td>\n",
       "      <td>Pneu_prospective_file3_frame_120.jpg</td>\n",
       "    </tr>\n",
       "    <tr>\n",
       "      <th>3911</th>\n",
       "      <td>val/Reg_Avi_Image008_frame_165.jpg</td>\n",
       "      <td>Reg_Avi_Image008_frame_165.jpg</td>\n",
       "    </tr>\n",
       "    <tr>\n",
       "      <th>3912</th>\n",
       "      <td>val/Pneu-grep-pneumonia3_frame_006.jpg</td>\n",
       "      <td>Pneu-grep-pneumonia3_frame_006.jpg</td>\n",
       "    </tr>\n",
       "  </tbody>\n",
       "</table>\n",
       "<p>3913 rows × 2 columns</p>\n",
       "</div>"
      ],
      "text/plain": [
       "                                              new_names  \\\n",
       "0     test/Cov_convex_volpecelli_sonographic_v1_fram...   \n",
       "1               test/Reg_pat1Image_133043_frame_132.jpg   \n",
       "2     test/Pneu-grep-bacterial-hepatization-clinical...   \n",
       "3              test/Cov_new_pregnant_vid8_frame_123.jpg   \n",
       "4                        test/Reg-Youtube_frame_117.jpg   \n",
       "...                                                 ...   \n",
       "3908             val/Reg_pat2Image_133952_frame_075.jpg   \n",
       "3909  val/Pneu_northumbria_0409_set6_vid5_frame_015.jpg   \n",
       "3910           val/Pneu_prospective_file3_frame_120.jpg   \n",
       "3911                 val/Reg_Avi_Image008_frame_165.jpg   \n",
       "3912             val/Pneu-grep-pneumonia3_frame_006.jpg   \n",
       "\n",
       "                                     converted_filename  \n",
       "0     Cov_convex_volpecelli_sonographic_v1_frame_282...  \n",
       "1                    Reg_pat1Image_133043_frame_132.jpg  \n",
       "2     Pneu-grep-bacterial-hepatization-clinical_fram...  \n",
       "3                   Cov_new_pregnant_vid8_frame_123.jpg  \n",
       "4                             Reg-Youtube_frame_117.jpg  \n",
       "...                                                 ...  \n",
       "3908                 Reg_pat2Image_133952_frame_075.jpg  \n",
       "3909      Pneu_northumbria_0409_set6_vid5_frame_015.jpg  \n",
       "3910               Pneu_prospective_file3_frame_120.jpg  \n",
       "3911                     Reg_Avi_Image008_frame_165.jpg  \n",
       "3912                 Pneu-grep-pneumonia3_frame_006.jpg  \n",
       "\n",
       "[3913 rows x 2 columns]"
      ]
     },
     "execution_count": 397,
     "metadata": {},
     "output_type": "execute_result"
    }
   ],
   "source": [
    "new_list = pd.DataFrame({'new_names' : file_type,\n",
    "                         'converted_filename' : file_name})\n",
    "new_list"
   ]
  },
  {
   "cell_type": "code",
   "execution_count": 398,
   "metadata": {},
   "outputs": [
    {
     "data": {
      "text/html": [
       "<div>\n",
       "<style scoped>\n",
       "    .dataframe tbody tr th:only-of-type {\n",
       "        vertical-align: middle;\n",
       "    }\n",
       "\n",
       "    .dataframe tbody tr th {\n",
       "        vertical-align: top;\n",
       "    }\n",
       "\n",
       "    .dataframe thead th {\n",
       "        text-align: right;\n",
       "    }\n",
       "</style>\n",
       "<table border=\"1\" class=\"dataframe\">\n",
       "  <thead>\n",
       "    <tr style=\"text-align: right;\">\n",
       "      <th></th>\n",
       "      <th>Filename</th>\n",
       "      <th>converted_filename</th>\n",
       "      <th>Effusion</th>\n",
       "      <th>Consolidations</th>\n",
       "      <th>B-lines</th>\n",
       "      <th>Healthy</th>\n",
       "      <th>file_path</th>\n",
       "    </tr>\n",
       "  </thead>\n",
       "  <tbody>\n",
       "    <tr>\n",
       "      <th>0</th>\n",
       "      <td>Cov-Atlas+(44)</td>\n",
       "      <td>Cov-Atlas+(44)_frame_012.jpg</td>\n",
       "      <td>0</td>\n",
       "      <td>1</td>\n",
       "      <td>0</td>\n",
       "      <td>0</td>\n",
       "      <td>/home/Sean/PoCOVID/4real/covid19_pocus_ultraso...</td>\n",
       "    </tr>\n",
       "    <tr>\n",
       "      <th>1</th>\n",
       "      <td>Cov-Atlas+(44)</td>\n",
       "      <td>Cov-Atlas+(44)_frame_009.jpg</td>\n",
       "      <td>0</td>\n",
       "      <td>1</td>\n",
       "      <td>0</td>\n",
       "      <td>0</td>\n",
       "      <td>/home/Sean/PoCOVID/4real/covid19_pocus_ultraso...</td>\n",
       "    </tr>\n",
       "    <tr>\n",
       "      <th>2</th>\n",
       "      <td>Cov-Atlas+(44)</td>\n",
       "      <td>Cov-Atlas+(44)_frame_039.jpg</td>\n",
       "      <td>0</td>\n",
       "      <td>1</td>\n",
       "      <td>0</td>\n",
       "      <td>0</td>\n",
       "      <td>/home/Sean/PoCOVID/4real/covid19_pocus_ultraso...</td>\n",
       "    </tr>\n",
       "    <tr>\n",
       "      <th>3</th>\n",
       "      <td>Cov-Atlas+(44)</td>\n",
       "      <td>Cov-Atlas+(44)_frame_033.jpg</td>\n",
       "      <td>0</td>\n",
       "      <td>1</td>\n",
       "      <td>0</td>\n",
       "      <td>0</td>\n",
       "      <td>/home/Sean/PoCOVID/4real/covid19_pocus_ultraso...</td>\n",
       "    </tr>\n",
       "    <tr>\n",
       "      <th>4</th>\n",
       "      <td>Cov-Atlas-+(43)</td>\n",
       "      <td>Cov-Atlas-+(43)_frame_012.jpg</td>\n",
       "      <td>0</td>\n",
       "      <td>0</td>\n",
       "      <td>1</td>\n",
       "      <td>0</td>\n",
       "      <td>/home/Sean/PoCOVID/4real/covid19_pocus_ultraso...</td>\n",
       "    </tr>\n",
       "    <tr>\n",
       "      <th>...</th>\n",
       "      <td>...</td>\n",
       "      <td>...</td>\n",
       "      <td>...</td>\n",
       "      <td>...</td>\n",
       "      <td>...</td>\n",
       "      <td>...</td>\n",
       "      <td>...</td>\n",
       "    </tr>\n",
       "    <tr>\n",
       "      <th>2169</th>\n",
       "      <td>pneu-radiopaeda</td>\n",
       "      <td>pneu-radiopaeda_frame_096.jpg</td>\n",
       "      <td>0</td>\n",
       "      <td>1</td>\n",
       "      <td>0</td>\n",
       "      <td>0</td>\n",
       "      <td>/home/Sean/PoCOVID/4real/covid19_pocus_ultraso...</td>\n",
       "    </tr>\n",
       "    <tr>\n",
       "      <th>2170</th>\n",
       "      <td>pneu-radiopaeda</td>\n",
       "      <td>pneu-radiopaeda_frame_036.jpg</td>\n",
       "      <td>0</td>\n",
       "      <td>1</td>\n",
       "      <td>0</td>\n",
       "      <td>0</td>\n",
       "      <td>/home/Sean/PoCOVID/4real/covid19_pocus_ultraso...</td>\n",
       "    </tr>\n",
       "    <tr>\n",
       "      <th>2171</th>\n",
       "      <td>pneu-radiopaeda</td>\n",
       "      <td>pneu-radiopaeda_frame_081.jpg</td>\n",
       "      <td>0</td>\n",
       "      <td>1</td>\n",
       "      <td>0</td>\n",
       "      <td>0</td>\n",
       "      <td>/home/Sean/PoCOVID/4real/covid19_pocus_ultraso...</td>\n",
       "    </tr>\n",
       "    <tr>\n",
       "      <th>2172</th>\n",
       "      <td>pneu-radiopaeda</td>\n",
       "      <td>pneu-radiopaeda_frame_018.jpg</td>\n",
       "      <td>0</td>\n",
       "      <td>1</td>\n",
       "      <td>0</td>\n",
       "      <td>0</td>\n",
       "      <td>/home/Sean/PoCOVID/4real/covid19_pocus_ultraso...</td>\n",
       "    </tr>\n",
       "    <tr>\n",
       "      <th>2173</th>\n",
       "      <td>pneu-radiopaeda</td>\n",
       "      <td>pneu-radiopaeda_frame_132.jpg</td>\n",
       "      <td>0</td>\n",
       "      <td>1</td>\n",
       "      <td>0</td>\n",
       "      <td>0</td>\n",
       "      <td>/home/Sean/PoCOVID/4real/covid19_pocus_ultraso...</td>\n",
       "    </tr>\n",
       "  </tbody>\n",
       "</table>\n",
       "<p>2174 rows × 7 columns</p>\n",
       "</div>"
      ],
      "text/plain": [
       "             Filename             converted_filename  Effusion  \\\n",
       "0      Cov-Atlas+(44)   Cov-Atlas+(44)_frame_012.jpg         0   \n",
       "1      Cov-Atlas+(44)   Cov-Atlas+(44)_frame_009.jpg         0   \n",
       "2      Cov-Atlas+(44)   Cov-Atlas+(44)_frame_039.jpg         0   \n",
       "3      Cov-Atlas+(44)   Cov-Atlas+(44)_frame_033.jpg         0   \n",
       "4     Cov-Atlas-+(43)  Cov-Atlas-+(43)_frame_012.jpg         0   \n",
       "...               ...                            ...       ...   \n",
       "2169  pneu-radiopaeda  pneu-radiopaeda_frame_096.jpg         0   \n",
       "2170  pneu-radiopaeda  pneu-radiopaeda_frame_036.jpg         0   \n",
       "2171  pneu-radiopaeda  pneu-radiopaeda_frame_081.jpg         0   \n",
       "2172  pneu-radiopaeda  pneu-radiopaeda_frame_018.jpg         0   \n",
       "2173  pneu-radiopaeda  pneu-radiopaeda_frame_132.jpg         0   \n",
       "\n",
       "      Consolidations  B-lines  Healthy  \\\n",
       "0                  1        0        0   \n",
       "1                  1        0        0   \n",
       "2                  1        0        0   \n",
       "3                  1        0        0   \n",
       "4                  0        1        0   \n",
       "...              ...      ...      ...   \n",
       "2169               1        0        0   \n",
       "2170               1        0        0   \n",
       "2171               1        0        0   \n",
       "2172               1        0        0   \n",
       "2173               1        0        0   \n",
       "\n",
       "                                              file_path  \n",
       "0     /home/Sean/PoCOVID/4real/covid19_pocus_ultraso...  \n",
       "1     /home/Sean/PoCOVID/4real/covid19_pocus_ultraso...  \n",
       "2     /home/Sean/PoCOVID/4real/covid19_pocus_ultraso...  \n",
       "3     /home/Sean/PoCOVID/4real/covid19_pocus_ultraso...  \n",
       "4     /home/Sean/PoCOVID/4real/covid19_pocus_ultraso...  \n",
       "...                                                 ...  \n",
       "2169  /home/Sean/PoCOVID/4real/covid19_pocus_ultraso...  \n",
       "2170  /home/Sean/PoCOVID/4real/covid19_pocus_ultraso...  \n",
       "2171  /home/Sean/PoCOVID/4real/covid19_pocus_ultraso...  \n",
       "2172  /home/Sean/PoCOVID/4real/covid19_pocus_ultraso...  \n",
       "2173  /home/Sean/PoCOVID/4real/covid19_pocus_ultraso...  \n",
       "\n",
       "[2174 rows x 7 columns]"
      ]
     },
     "execution_count": 398,
     "metadata": {},
     "output_type": "execute_result"
    }
   ],
   "source": [
    "df"
   ]
  },
  {
   "cell_type": "code",
   "execution_count": 399,
   "metadata": {},
   "outputs": [
    {
     "data": {
      "text/html": [
       "<div>\n",
       "<style scoped>\n",
       "    .dataframe tbody tr th:only-of-type {\n",
       "        vertical-align: middle;\n",
       "    }\n",
       "\n",
       "    .dataframe tbody tr th {\n",
       "        vertical-align: top;\n",
       "    }\n",
       "\n",
       "    .dataframe thead th {\n",
       "        text-align: right;\n",
       "    }\n",
       "</style>\n",
       "<table border=\"1\" class=\"dataframe\">\n",
       "  <thead>\n",
       "    <tr style=\"text-align: right;\">\n",
       "      <th></th>\n",
       "      <th>Filename</th>\n",
       "      <th>converted_filename</th>\n",
       "      <th>Effusion</th>\n",
       "      <th>Consolidations</th>\n",
       "      <th>B-lines</th>\n",
       "      <th>Healthy</th>\n",
       "      <th>file_path</th>\n",
       "      <th>new_names</th>\n",
       "    </tr>\n",
       "  </thead>\n",
       "  <tbody>\n",
       "    <tr>\n",
       "      <th>0</th>\n",
       "      <td>Cov-Atlas+(44)</td>\n",
       "      <td>Cov-Atlas+(44)_frame_012.jpg</td>\n",
       "      <td>0</td>\n",
       "      <td>1</td>\n",
       "      <td>0</td>\n",
       "      <td>0</td>\n",
       "      <td>/home/Sean/PoCOVID/4real/covid19_pocus_ultraso...</td>\n",
       "      <td>train/Cov-Atlas+(44)_frame_012.jpg</td>\n",
       "    </tr>\n",
       "    <tr>\n",
       "      <th>1</th>\n",
       "      <td>Cov-Atlas+(44)</td>\n",
       "      <td>Cov-Atlas+(44)_frame_012.jpg</td>\n",
       "      <td>0</td>\n",
       "      <td>1</td>\n",
       "      <td>0</td>\n",
       "      <td>0</td>\n",
       "      <td>/home/Sean/PoCOVID/4real/covid19_pocus_ultraso...</td>\n",
       "      <td>val/Cov-Atlas+(44)_frame_012.jpg</td>\n",
       "    </tr>\n",
       "    <tr>\n",
       "      <th>2</th>\n",
       "      <td>Cov-Atlas+(44)</td>\n",
       "      <td>Cov-Atlas+(44)_frame_009.jpg</td>\n",
       "      <td>0</td>\n",
       "      <td>1</td>\n",
       "      <td>0</td>\n",
       "      <td>0</td>\n",
       "      <td>/home/Sean/PoCOVID/4real/covid19_pocus_ultraso...</td>\n",
       "      <td>train/Cov-Atlas+(44)_frame_009.jpg</td>\n",
       "    </tr>\n",
       "    <tr>\n",
       "      <th>3</th>\n",
       "      <td>Cov-Atlas+(44)</td>\n",
       "      <td>Cov-Atlas+(44)_frame_009.jpg</td>\n",
       "      <td>0</td>\n",
       "      <td>1</td>\n",
       "      <td>0</td>\n",
       "      <td>0</td>\n",
       "      <td>/home/Sean/PoCOVID/4real/covid19_pocus_ultraso...</td>\n",
       "      <td>val/Cov-Atlas+(44)_frame_009.jpg</td>\n",
       "    </tr>\n",
       "    <tr>\n",
       "      <th>4</th>\n",
       "      <td>Cov-Atlas+(44)</td>\n",
       "      <td>Cov-Atlas+(44)_frame_039.jpg</td>\n",
       "      <td>0</td>\n",
       "      <td>1</td>\n",
       "      <td>0</td>\n",
       "      <td>0</td>\n",
       "      <td>/home/Sean/PoCOVID/4real/covid19_pocus_ultraso...</td>\n",
       "      <td>test/Cov-Atlas+(44)_frame_039.jpg</td>\n",
       "    </tr>\n",
       "    <tr>\n",
       "      <th>...</th>\n",
       "      <td>...</td>\n",
       "      <td>...</td>\n",
       "      <td>...</td>\n",
       "      <td>...</td>\n",
       "      <td>...</td>\n",
       "      <td>...</td>\n",
       "      <td>...</td>\n",
       "      <td>...</td>\n",
       "    </tr>\n",
       "    <tr>\n",
       "      <th>3908</th>\n",
       "      <td>pneu-radiopaeda</td>\n",
       "      <td>pneu-radiopaeda_frame_081.jpg</td>\n",
       "      <td>0</td>\n",
       "      <td>1</td>\n",
       "      <td>0</td>\n",
       "      <td>0</td>\n",
       "      <td>/home/Sean/PoCOVID/4real/covid19_pocus_ultraso...</td>\n",
       "      <td>test/pneu-radiopaeda_frame_081.jpg</td>\n",
       "    </tr>\n",
       "    <tr>\n",
       "      <th>3909</th>\n",
       "      <td>pneu-radiopaeda</td>\n",
       "      <td>pneu-radiopaeda_frame_018.jpg</td>\n",
       "      <td>0</td>\n",
       "      <td>1</td>\n",
       "      <td>0</td>\n",
       "      <td>0</td>\n",
       "      <td>/home/Sean/PoCOVID/4real/covid19_pocus_ultraso...</td>\n",
       "      <td>test/pneu-radiopaeda_frame_018.jpg</td>\n",
       "    </tr>\n",
       "    <tr>\n",
       "      <th>3910</th>\n",
       "      <td>pneu-radiopaeda</td>\n",
       "      <td>pneu-radiopaeda_frame_018.jpg</td>\n",
       "      <td>0</td>\n",
       "      <td>1</td>\n",
       "      <td>0</td>\n",
       "      <td>0</td>\n",
       "      <td>/home/Sean/PoCOVID/4real/covid19_pocus_ultraso...</td>\n",
       "      <td>train/pneu-radiopaeda_frame_018.jpg</td>\n",
       "    </tr>\n",
       "    <tr>\n",
       "      <th>3911</th>\n",
       "      <td>pneu-radiopaeda</td>\n",
       "      <td>pneu-radiopaeda_frame_132.jpg</td>\n",
       "      <td>0</td>\n",
       "      <td>1</td>\n",
       "      <td>0</td>\n",
       "      <td>0</td>\n",
       "      <td>/home/Sean/PoCOVID/4real/covid19_pocus_ultraso...</td>\n",
       "      <td>train/pneu-radiopaeda_frame_132.jpg</td>\n",
       "    </tr>\n",
       "    <tr>\n",
       "      <th>3912</th>\n",
       "      <td>pneu-radiopaeda</td>\n",
       "      <td>pneu-radiopaeda_frame_132.jpg</td>\n",
       "      <td>0</td>\n",
       "      <td>1</td>\n",
       "      <td>0</td>\n",
       "      <td>0</td>\n",
       "      <td>/home/Sean/PoCOVID/4real/covid19_pocus_ultraso...</td>\n",
       "      <td>val/pneu-radiopaeda_frame_132.jpg</td>\n",
       "    </tr>\n",
       "  </tbody>\n",
       "</table>\n",
       "<p>3913 rows × 8 columns</p>\n",
       "</div>"
      ],
      "text/plain": [
       "             Filename             converted_filename  Effusion  \\\n",
       "0      Cov-Atlas+(44)   Cov-Atlas+(44)_frame_012.jpg         0   \n",
       "1      Cov-Atlas+(44)   Cov-Atlas+(44)_frame_012.jpg         0   \n",
       "2      Cov-Atlas+(44)   Cov-Atlas+(44)_frame_009.jpg         0   \n",
       "3      Cov-Atlas+(44)   Cov-Atlas+(44)_frame_009.jpg         0   \n",
       "4      Cov-Atlas+(44)   Cov-Atlas+(44)_frame_039.jpg         0   \n",
       "...               ...                            ...       ...   \n",
       "3908  pneu-radiopaeda  pneu-radiopaeda_frame_081.jpg         0   \n",
       "3909  pneu-radiopaeda  pneu-radiopaeda_frame_018.jpg         0   \n",
       "3910  pneu-radiopaeda  pneu-radiopaeda_frame_018.jpg         0   \n",
       "3911  pneu-radiopaeda  pneu-radiopaeda_frame_132.jpg         0   \n",
       "3912  pneu-radiopaeda  pneu-radiopaeda_frame_132.jpg         0   \n",
       "\n",
       "      Consolidations  B-lines  Healthy  \\\n",
       "0                  1        0        0   \n",
       "1                  1        0        0   \n",
       "2                  1        0        0   \n",
       "3                  1        0        0   \n",
       "4                  1        0        0   \n",
       "...              ...      ...      ...   \n",
       "3908               1        0        0   \n",
       "3909               1        0        0   \n",
       "3910               1        0        0   \n",
       "3911               1        0        0   \n",
       "3912               1        0        0   \n",
       "\n",
       "                                              file_path  \\\n",
       "0     /home/Sean/PoCOVID/4real/covid19_pocus_ultraso...   \n",
       "1     /home/Sean/PoCOVID/4real/covid19_pocus_ultraso...   \n",
       "2     /home/Sean/PoCOVID/4real/covid19_pocus_ultraso...   \n",
       "3     /home/Sean/PoCOVID/4real/covid19_pocus_ultraso...   \n",
       "4     /home/Sean/PoCOVID/4real/covid19_pocus_ultraso...   \n",
       "...                                                 ...   \n",
       "3908  /home/Sean/PoCOVID/4real/covid19_pocus_ultraso...   \n",
       "3909  /home/Sean/PoCOVID/4real/covid19_pocus_ultraso...   \n",
       "3910  /home/Sean/PoCOVID/4real/covid19_pocus_ultraso...   \n",
       "3911  /home/Sean/PoCOVID/4real/covid19_pocus_ultraso...   \n",
       "3912  /home/Sean/PoCOVID/4real/covid19_pocus_ultraso...   \n",
       "\n",
       "                                new_names  \n",
       "0      train/Cov-Atlas+(44)_frame_012.jpg  \n",
       "1        val/Cov-Atlas+(44)_frame_012.jpg  \n",
       "2      train/Cov-Atlas+(44)_frame_009.jpg  \n",
       "3        val/Cov-Atlas+(44)_frame_009.jpg  \n",
       "4       test/Cov-Atlas+(44)_frame_039.jpg  \n",
       "...                                   ...  \n",
       "3908   test/pneu-radiopaeda_frame_081.jpg  \n",
       "3909   test/pneu-radiopaeda_frame_018.jpg  \n",
       "3910  train/pneu-radiopaeda_frame_018.jpg  \n",
       "3911  train/pneu-radiopaeda_frame_132.jpg  \n",
       "3912    val/pneu-radiopaeda_frame_132.jpg  \n",
       "\n",
       "[3913 rows x 8 columns]"
      ]
     },
     "execution_count": 399,
     "metadata": {},
     "output_type": "execute_result"
    }
   ],
   "source": [
    "result = pd.merge(df,\n",
    "                 new_list[['converted_filename', 'new_names']], #, 'Filename', 'Effusion','Consolidations','B-lines','Healthy']],\n",
    "                 on='converted_filename')\n",
    "result"
   ]
  },
  {
   "cell_type": "code",
   "execution_count": 485,
   "metadata": {},
   "outputs": [
    {
     "data": {
      "text/html": [
       "<div>\n",
       "<style scoped>\n",
       "    .dataframe tbody tr th:only-of-type {\n",
       "        vertical-align: middle;\n",
       "    }\n",
       "\n",
       "    .dataframe tbody tr th {\n",
       "        vertical-align: top;\n",
       "    }\n",
       "\n",
       "    .dataframe thead th {\n",
       "        text-align: right;\n",
       "    }\n",
       "</style>\n",
       "<table border=\"1\" class=\"dataframe\">\n",
       "  <thead>\n",
       "    <tr style=\"text-align: right;\">\n",
       "      <th></th>\n",
       "      <th>Filename</th>\n",
       "      <th>converted_filename</th>\n",
       "      <th>Effusion</th>\n",
       "      <th>Consolidations</th>\n",
       "      <th>B-lines</th>\n",
       "      <th>Healthy</th>\n",
       "      <th>file_path</th>\n",
       "      <th>new_names</th>\n",
       "    </tr>\n",
       "  </thead>\n",
       "  <tbody>\n",
       "    <tr>\n",
       "      <th>1</th>\n",
       "      <td>Cov-Atlas+(44)</td>\n",
       "      <td>Cov-Atlas+(44)_frame_012.jpg</td>\n",
       "      <td>0</td>\n",
       "      <td>1</td>\n",
       "      <td>0</td>\n",
       "      <td>0</td>\n",
       "      <td>/home/Sean/PoCOVID/4real/covid19_pocus_ultraso...</td>\n",
       "      <td>val/Cov-Atlas+(44)_frame_012.jpg</td>\n",
       "    </tr>\n",
       "    <tr>\n",
       "      <th>3</th>\n",
       "      <td>Cov-Atlas+(44)</td>\n",
       "      <td>Cov-Atlas+(44)_frame_009.jpg</td>\n",
       "      <td>0</td>\n",
       "      <td>1</td>\n",
       "      <td>0</td>\n",
       "      <td>0</td>\n",
       "      <td>/home/Sean/PoCOVID/4real/covid19_pocus_ultraso...</td>\n",
       "      <td>val/Cov-Atlas+(44)_frame_009.jpg</td>\n",
       "    </tr>\n",
       "    <tr>\n",
       "      <th>5</th>\n",
       "      <td>Cov-Atlas+(44)</td>\n",
       "      <td>Cov-Atlas+(44)_frame_039.jpg</td>\n",
       "      <td>0</td>\n",
       "      <td>1</td>\n",
       "      <td>0</td>\n",
       "      <td>0</td>\n",
       "      <td>/home/Sean/PoCOVID/4real/covid19_pocus_ultraso...</td>\n",
       "      <td>train/Cov-Atlas+(44)_frame_039.jpg</td>\n",
       "    </tr>\n",
       "    <tr>\n",
       "      <th>7</th>\n",
       "      <td>Cov-Atlas+(44)</td>\n",
       "      <td>Cov-Atlas+(44)_frame_033.jpg</td>\n",
       "      <td>0</td>\n",
       "      <td>1</td>\n",
       "      <td>0</td>\n",
       "      <td>0</td>\n",
       "      <td>/home/Sean/PoCOVID/4real/covid19_pocus_ultraso...</td>\n",
       "      <td>val/Cov-Atlas+(44)_frame_033.jpg</td>\n",
       "    </tr>\n",
       "    <tr>\n",
       "      <th>9</th>\n",
       "      <td>Cov-Atlas-+(43)</td>\n",
       "      <td>Cov-Atlas-+(43)_frame_012.jpg</td>\n",
       "      <td>0</td>\n",
       "      <td>0</td>\n",
       "      <td>1</td>\n",
       "      <td>0</td>\n",
       "      <td>/home/Sean/PoCOVID/4real/covid19_pocus_ultraso...</td>\n",
       "      <td>val/Cov-Atlas-+(43)_frame_012.jpg</td>\n",
       "    </tr>\n",
       "    <tr>\n",
       "      <th>...</th>\n",
       "      <td>...</td>\n",
       "      <td>...</td>\n",
       "      <td>...</td>\n",
       "      <td>...</td>\n",
       "      <td>...</td>\n",
       "      <td>...</td>\n",
       "      <td>...</td>\n",
       "      <td>...</td>\n",
       "    </tr>\n",
       "    <tr>\n",
       "      <th>3905</th>\n",
       "      <td>pneu-radiopaeda</td>\n",
       "      <td>pneu-radiopaeda_frame_096.jpg</td>\n",
       "      <td>0</td>\n",
       "      <td>1</td>\n",
       "      <td>0</td>\n",
       "      <td>0</td>\n",
       "      <td>/home/Sean/PoCOVID/4real/covid19_pocus_ultraso...</td>\n",
       "      <td>val/pneu-radiopaeda_frame_096.jpg</td>\n",
       "    </tr>\n",
       "    <tr>\n",
       "      <th>3907</th>\n",
       "      <td>pneu-radiopaeda</td>\n",
       "      <td>pneu-radiopaeda_frame_036.jpg</td>\n",
       "      <td>0</td>\n",
       "      <td>1</td>\n",
       "      <td>0</td>\n",
       "      <td>0</td>\n",
       "      <td>/home/Sean/PoCOVID/4real/covid19_pocus_ultraso...</td>\n",
       "      <td>val/pneu-radiopaeda_frame_036.jpg</td>\n",
       "    </tr>\n",
       "    <tr>\n",
       "      <th>3908</th>\n",
       "      <td>pneu-radiopaeda</td>\n",
       "      <td>pneu-radiopaeda_frame_081.jpg</td>\n",
       "      <td>0</td>\n",
       "      <td>1</td>\n",
       "      <td>0</td>\n",
       "      <td>0</td>\n",
       "      <td>/home/Sean/PoCOVID/4real/covid19_pocus_ultraso...</td>\n",
       "      <td>test/pneu-radiopaeda_frame_081.jpg</td>\n",
       "    </tr>\n",
       "    <tr>\n",
       "      <th>3910</th>\n",
       "      <td>pneu-radiopaeda</td>\n",
       "      <td>pneu-radiopaeda_frame_018.jpg</td>\n",
       "      <td>0</td>\n",
       "      <td>1</td>\n",
       "      <td>0</td>\n",
       "      <td>0</td>\n",
       "      <td>/home/Sean/PoCOVID/4real/covid19_pocus_ultraso...</td>\n",
       "      <td>train/pneu-radiopaeda_frame_018.jpg</td>\n",
       "    </tr>\n",
       "    <tr>\n",
       "      <th>3912</th>\n",
       "      <td>pneu-radiopaeda</td>\n",
       "      <td>pneu-radiopaeda_frame_132.jpg</td>\n",
       "      <td>0</td>\n",
       "      <td>1</td>\n",
       "      <td>0</td>\n",
       "      <td>0</td>\n",
       "      <td>/home/Sean/PoCOVID/4real/covid19_pocus_ultraso...</td>\n",
       "      <td>val/pneu-radiopaeda_frame_132.jpg</td>\n",
       "    </tr>\n",
       "  </tbody>\n",
       "</table>\n",
       "<p>2174 rows × 8 columns</p>\n",
       "</div>"
      ],
      "text/plain": [
       "             Filename             converted_filename  Effusion  \\\n",
       "1      Cov-Atlas+(44)   Cov-Atlas+(44)_frame_012.jpg         0   \n",
       "3      Cov-Atlas+(44)   Cov-Atlas+(44)_frame_009.jpg         0   \n",
       "5      Cov-Atlas+(44)   Cov-Atlas+(44)_frame_039.jpg         0   \n",
       "7      Cov-Atlas+(44)   Cov-Atlas+(44)_frame_033.jpg         0   \n",
       "9     Cov-Atlas-+(43)  Cov-Atlas-+(43)_frame_012.jpg         0   \n",
       "...               ...                            ...       ...   \n",
       "3905  pneu-radiopaeda  pneu-radiopaeda_frame_096.jpg         0   \n",
       "3907  pneu-radiopaeda  pneu-radiopaeda_frame_036.jpg         0   \n",
       "3908  pneu-radiopaeda  pneu-radiopaeda_frame_081.jpg         0   \n",
       "3910  pneu-radiopaeda  pneu-radiopaeda_frame_018.jpg         0   \n",
       "3912  pneu-radiopaeda  pneu-radiopaeda_frame_132.jpg         0   \n",
       "\n",
       "      Consolidations  B-lines  Healthy  \\\n",
       "1                  1        0        0   \n",
       "3                  1        0        0   \n",
       "5                  1        0        0   \n",
       "7                  1        0        0   \n",
       "9                  0        1        0   \n",
       "...              ...      ...      ...   \n",
       "3905               1        0        0   \n",
       "3907               1        0        0   \n",
       "3908               1        0        0   \n",
       "3910               1        0        0   \n",
       "3912               1        0        0   \n",
       "\n",
       "                                              file_path  \\\n",
       "1     /home/Sean/PoCOVID/4real/covid19_pocus_ultraso...   \n",
       "3     /home/Sean/PoCOVID/4real/covid19_pocus_ultraso...   \n",
       "5     /home/Sean/PoCOVID/4real/covid19_pocus_ultraso...   \n",
       "7     /home/Sean/PoCOVID/4real/covid19_pocus_ultraso...   \n",
       "9     /home/Sean/PoCOVID/4real/covid19_pocus_ultraso...   \n",
       "...                                                 ...   \n",
       "3905  /home/Sean/PoCOVID/4real/covid19_pocus_ultraso...   \n",
       "3907  /home/Sean/PoCOVID/4real/covid19_pocus_ultraso...   \n",
       "3908  /home/Sean/PoCOVID/4real/covid19_pocus_ultraso...   \n",
       "3910  /home/Sean/PoCOVID/4real/covid19_pocus_ultraso...   \n",
       "3912  /home/Sean/PoCOVID/4real/covid19_pocus_ultraso...   \n",
       "\n",
       "                                new_names  \n",
       "1        val/Cov-Atlas+(44)_frame_012.jpg  \n",
       "3        val/Cov-Atlas+(44)_frame_009.jpg  \n",
       "5      train/Cov-Atlas+(44)_frame_039.jpg  \n",
       "7        val/Cov-Atlas+(44)_frame_033.jpg  \n",
       "9       val/Cov-Atlas-+(43)_frame_012.jpg  \n",
       "...                                   ...  \n",
       "3905    val/pneu-radiopaeda_frame_096.jpg  \n",
       "3907    val/pneu-radiopaeda_frame_036.jpg  \n",
       "3908   test/pneu-radiopaeda_frame_081.jpg  \n",
       "3910  train/pneu-radiopaeda_frame_018.jpg  \n",
       "3912    val/pneu-radiopaeda_frame_132.jpg  \n",
       "\n",
       "[2174 rows x 8 columns]"
      ]
     },
     "execution_count": 485,
     "metadata": {},
     "output_type": "execute_result"
    }
   ],
   "source": [
    "result = result.drop_duplicates(['converted_filename'], keep='last')\n",
    "result"
   ]
  },
  {
   "cell_type": "code",
   "execution_count": 486,
   "metadata": {},
   "outputs": [
    {
     "data": {
      "text/html": [
       "<div>\n",
       "<style scoped>\n",
       "    .dataframe tbody tr th:only-of-type {\n",
       "        vertical-align: middle;\n",
       "    }\n",
       "\n",
       "    .dataframe tbody tr th {\n",
       "        vertical-align: top;\n",
       "    }\n",
       "\n",
       "    .dataframe thead th {\n",
       "        text-align: right;\n",
       "    }\n",
       "</style>\n",
       "<table border=\"1\" class=\"dataframe\">\n",
       "  <thead>\n",
       "    <tr style=\"text-align: right;\">\n",
       "      <th></th>\n",
       "      <th>new_names</th>\n",
       "      <th>converted_filename</th>\n",
       "      <th>Effusion</th>\n",
       "      <th>Consolidations</th>\n",
       "      <th>B-lines</th>\n",
       "      <th>Healthy</th>\n",
       "    </tr>\n",
       "  </thead>\n",
       "  <tbody>\n",
       "    <tr>\n",
       "      <th>1</th>\n",
       "      <td>val/Cov-Atlas+(44)_frame_012.jpg</td>\n",
       "      <td>Cov-Atlas+(44)_frame_012.jpg</td>\n",
       "      <td>0</td>\n",
       "      <td>1</td>\n",
       "      <td>0</td>\n",
       "      <td>0</td>\n",
       "    </tr>\n",
       "    <tr>\n",
       "      <th>3</th>\n",
       "      <td>val/Cov-Atlas+(44)_frame_009.jpg</td>\n",
       "      <td>Cov-Atlas+(44)_frame_009.jpg</td>\n",
       "      <td>0</td>\n",
       "      <td>1</td>\n",
       "      <td>0</td>\n",
       "      <td>0</td>\n",
       "    </tr>\n",
       "    <tr>\n",
       "      <th>5</th>\n",
       "      <td>train/Cov-Atlas+(44)_frame_039.jpg</td>\n",
       "      <td>Cov-Atlas+(44)_frame_039.jpg</td>\n",
       "      <td>0</td>\n",
       "      <td>1</td>\n",
       "      <td>0</td>\n",
       "      <td>0</td>\n",
       "    </tr>\n",
       "    <tr>\n",
       "      <th>7</th>\n",
       "      <td>val/Cov-Atlas+(44)_frame_033.jpg</td>\n",
       "      <td>Cov-Atlas+(44)_frame_033.jpg</td>\n",
       "      <td>0</td>\n",
       "      <td>1</td>\n",
       "      <td>0</td>\n",
       "      <td>0</td>\n",
       "    </tr>\n",
       "    <tr>\n",
       "      <th>9</th>\n",
       "      <td>val/Cov-Atlas-+(43)_frame_012.jpg</td>\n",
       "      <td>Cov-Atlas-+(43)_frame_012.jpg</td>\n",
       "      <td>0</td>\n",
       "      <td>0</td>\n",
       "      <td>1</td>\n",
       "      <td>0</td>\n",
       "    </tr>\n",
       "    <tr>\n",
       "      <th>...</th>\n",
       "      <td>...</td>\n",
       "      <td>...</td>\n",
       "      <td>...</td>\n",
       "      <td>...</td>\n",
       "      <td>...</td>\n",
       "      <td>...</td>\n",
       "    </tr>\n",
       "    <tr>\n",
       "      <th>3905</th>\n",
       "      <td>val/pneu-radiopaeda_frame_096.jpg</td>\n",
       "      <td>pneu-radiopaeda_frame_096.jpg</td>\n",
       "      <td>0</td>\n",
       "      <td>1</td>\n",
       "      <td>0</td>\n",
       "      <td>0</td>\n",
       "    </tr>\n",
       "    <tr>\n",
       "      <th>3907</th>\n",
       "      <td>val/pneu-radiopaeda_frame_036.jpg</td>\n",
       "      <td>pneu-radiopaeda_frame_036.jpg</td>\n",
       "      <td>0</td>\n",
       "      <td>1</td>\n",
       "      <td>0</td>\n",
       "      <td>0</td>\n",
       "    </tr>\n",
       "    <tr>\n",
       "      <th>3908</th>\n",
       "      <td>test/pneu-radiopaeda_frame_081.jpg</td>\n",
       "      <td>pneu-radiopaeda_frame_081.jpg</td>\n",
       "      <td>0</td>\n",
       "      <td>1</td>\n",
       "      <td>0</td>\n",
       "      <td>0</td>\n",
       "    </tr>\n",
       "    <tr>\n",
       "      <th>3910</th>\n",
       "      <td>train/pneu-radiopaeda_frame_018.jpg</td>\n",
       "      <td>pneu-radiopaeda_frame_018.jpg</td>\n",
       "      <td>0</td>\n",
       "      <td>1</td>\n",
       "      <td>0</td>\n",
       "      <td>0</td>\n",
       "    </tr>\n",
       "    <tr>\n",
       "      <th>3912</th>\n",
       "      <td>val/pneu-radiopaeda_frame_132.jpg</td>\n",
       "      <td>pneu-radiopaeda_frame_132.jpg</td>\n",
       "      <td>0</td>\n",
       "      <td>1</td>\n",
       "      <td>0</td>\n",
       "      <td>0</td>\n",
       "    </tr>\n",
       "  </tbody>\n",
       "</table>\n",
       "<p>2174 rows × 6 columns</p>\n",
       "</div>"
      ],
      "text/plain": [
       "                                new_names             converted_filename  \\\n",
       "1        val/Cov-Atlas+(44)_frame_012.jpg   Cov-Atlas+(44)_frame_012.jpg   \n",
       "3        val/Cov-Atlas+(44)_frame_009.jpg   Cov-Atlas+(44)_frame_009.jpg   \n",
       "5      train/Cov-Atlas+(44)_frame_039.jpg   Cov-Atlas+(44)_frame_039.jpg   \n",
       "7        val/Cov-Atlas+(44)_frame_033.jpg   Cov-Atlas+(44)_frame_033.jpg   \n",
       "9       val/Cov-Atlas-+(43)_frame_012.jpg  Cov-Atlas-+(43)_frame_012.jpg   \n",
       "...                                   ...                            ...   \n",
       "3905    val/pneu-radiopaeda_frame_096.jpg  pneu-radiopaeda_frame_096.jpg   \n",
       "3907    val/pneu-radiopaeda_frame_036.jpg  pneu-radiopaeda_frame_036.jpg   \n",
       "3908   test/pneu-radiopaeda_frame_081.jpg  pneu-radiopaeda_frame_081.jpg   \n",
       "3910  train/pneu-radiopaeda_frame_018.jpg  pneu-radiopaeda_frame_018.jpg   \n",
       "3912    val/pneu-radiopaeda_frame_132.jpg  pneu-radiopaeda_frame_132.jpg   \n",
       "\n",
       "      Effusion  Consolidations  B-lines  Healthy  \n",
       "1            0               1        0        0  \n",
       "3            0               1        0        0  \n",
       "5            0               1        0        0  \n",
       "7            0               1        0        0  \n",
       "9            0               0        1        0  \n",
       "...        ...             ...      ...      ...  \n",
       "3905         0               1        0        0  \n",
       "3907         0               1        0        0  \n",
       "3908         0               1        0        0  \n",
       "3910         0               1        0        0  \n",
       "3912         0               1        0        0  \n",
       "\n",
       "[2174 rows x 6 columns]"
      ]
     },
     "execution_count": 486,
     "metadata": {},
     "output_type": "execute_result"
    }
   ],
   "source": [
    "df_new = result[[ 'new_names', 'converted_filename', 'Effusion', 'Consolidations', 'B-lines' , 'Healthy']]\n",
    "df_new"
   ]
  },
  {
   "cell_type": "code",
   "execution_count": 487,
   "metadata": {},
   "outputs": [
    {
     "data": {
      "text/html": [
       "<div>\n",
       "<style scoped>\n",
       "    .dataframe tbody tr th:only-of-type {\n",
       "        vertical-align: middle;\n",
       "    }\n",
       "\n",
       "    .dataframe tbody tr th {\n",
       "        vertical-align: top;\n",
       "    }\n",
       "\n",
       "    .dataframe thead th {\n",
       "        text-align: right;\n",
       "    }\n",
       "</style>\n",
       "<table border=\"1\" class=\"dataframe\">\n",
       "  <thead>\n",
       "    <tr style=\"text-align: right;\">\n",
       "      <th></th>\n",
       "      <th>new_names</th>\n",
       "      <th>Effusion</th>\n",
       "      <th>Consolidations</th>\n",
       "      <th>B-lines</th>\n",
       "      <th>Healthy</th>\n",
       "    </tr>\n",
       "  </thead>\n",
       "  <tbody>\n",
       "    <tr>\n",
       "      <th>1</th>\n",
       "      <td>val/Cov-Atlas+(44)_frame_012.jpg</td>\n",
       "      <td>0</td>\n",
       "      <td>1</td>\n",
       "      <td>0</td>\n",
       "      <td>0</td>\n",
       "    </tr>\n",
       "    <tr>\n",
       "      <th>3</th>\n",
       "      <td>val/Cov-Atlas+(44)_frame_009.jpg</td>\n",
       "      <td>0</td>\n",
       "      <td>1</td>\n",
       "      <td>0</td>\n",
       "      <td>0</td>\n",
       "    </tr>\n",
       "    <tr>\n",
       "      <th>5</th>\n",
       "      <td>train/Cov-Atlas+(44)_frame_039.jpg</td>\n",
       "      <td>0</td>\n",
       "      <td>1</td>\n",
       "      <td>0</td>\n",
       "      <td>0</td>\n",
       "    </tr>\n",
       "    <tr>\n",
       "      <th>7</th>\n",
       "      <td>val/Cov-Atlas+(44)_frame_033.jpg</td>\n",
       "      <td>0</td>\n",
       "      <td>1</td>\n",
       "      <td>0</td>\n",
       "      <td>0</td>\n",
       "    </tr>\n",
       "    <tr>\n",
       "      <th>9</th>\n",
       "      <td>val/Cov-Atlas-+(43)_frame_012.jpg</td>\n",
       "      <td>0</td>\n",
       "      <td>0</td>\n",
       "      <td>1</td>\n",
       "      <td>0</td>\n",
       "    </tr>\n",
       "    <tr>\n",
       "      <th>...</th>\n",
       "      <td>...</td>\n",
       "      <td>...</td>\n",
       "      <td>...</td>\n",
       "      <td>...</td>\n",
       "      <td>...</td>\n",
       "    </tr>\n",
       "    <tr>\n",
       "      <th>3905</th>\n",
       "      <td>val/pneu-radiopaeda_frame_096.jpg</td>\n",
       "      <td>0</td>\n",
       "      <td>1</td>\n",
       "      <td>0</td>\n",
       "      <td>0</td>\n",
       "    </tr>\n",
       "    <tr>\n",
       "      <th>3907</th>\n",
       "      <td>val/pneu-radiopaeda_frame_036.jpg</td>\n",
       "      <td>0</td>\n",
       "      <td>1</td>\n",
       "      <td>0</td>\n",
       "      <td>0</td>\n",
       "    </tr>\n",
       "    <tr>\n",
       "      <th>3908</th>\n",
       "      <td>test/pneu-radiopaeda_frame_081.jpg</td>\n",
       "      <td>0</td>\n",
       "      <td>1</td>\n",
       "      <td>0</td>\n",
       "      <td>0</td>\n",
       "    </tr>\n",
       "    <tr>\n",
       "      <th>3910</th>\n",
       "      <td>train/pneu-radiopaeda_frame_018.jpg</td>\n",
       "      <td>0</td>\n",
       "      <td>1</td>\n",
       "      <td>0</td>\n",
       "      <td>0</td>\n",
       "    </tr>\n",
       "    <tr>\n",
       "      <th>3912</th>\n",
       "      <td>val/pneu-radiopaeda_frame_132.jpg</td>\n",
       "      <td>0</td>\n",
       "      <td>1</td>\n",
       "      <td>0</td>\n",
       "      <td>0</td>\n",
       "    </tr>\n",
       "  </tbody>\n",
       "</table>\n",
       "<p>2174 rows × 5 columns</p>\n",
       "</div>"
      ],
      "text/plain": [
       "                                new_names  Effusion  Consolidations  B-lines  \\\n",
       "1        val/Cov-Atlas+(44)_frame_012.jpg         0               1        0   \n",
       "3        val/Cov-Atlas+(44)_frame_009.jpg         0               1        0   \n",
       "5      train/Cov-Atlas+(44)_frame_039.jpg         0               1        0   \n",
       "7        val/Cov-Atlas+(44)_frame_033.jpg         0               1        0   \n",
       "9       val/Cov-Atlas-+(43)_frame_012.jpg         0               0        1   \n",
       "...                                   ...       ...             ...      ...   \n",
       "3905    val/pneu-radiopaeda_frame_096.jpg         0               1        0   \n",
       "3907    val/pneu-radiopaeda_frame_036.jpg         0               1        0   \n",
       "3908   test/pneu-radiopaeda_frame_081.jpg         0               1        0   \n",
       "3910  train/pneu-radiopaeda_frame_018.jpg         0               1        0   \n",
       "3912    val/pneu-radiopaeda_frame_132.jpg         0               1        0   \n",
       "\n",
       "      Healthy  \n",
       "1           0  \n",
       "3           0  \n",
       "5           0  \n",
       "7           0  \n",
       "9           0  \n",
       "...       ...  \n",
       "3905        0  \n",
       "3907        0  \n",
       "3908        0  \n",
       "3910        0  \n",
       "3912        0  \n",
       "\n",
       "[2174 rows x 5 columns]"
      ]
     },
     "execution_count": 487,
     "metadata": {},
     "output_type": "execute_result"
    }
   ],
   "source": [
    "df_new = result[[ 'new_names', 'Effusion', 'Consolidations', 'B-lines' , 'Healthy']]\n",
    "df_new"
   ]
  },
  {
   "cell_type": "code",
   "execution_count": 488,
   "metadata": {},
   "outputs": [],
   "source": [
    "df_new.to_csv('train_test_val.csv', index=False)"
   ]
  },
  {
   "cell_type": "code",
   "execution_count": 489,
   "metadata": {},
   "outputs": [
    {
     "data": {
      "text/html": [
       "<div>\n",
       "<style scoped>\n",
       "    .dataframe tbody tr th:only-of-type {\n",
       "        vertical-align: middle;\n",
       "    }\n",
       "\n",
       "    .dataframe tbody tr th {\n",
       "        vertical-align: top;\n",
       "    }\n",
       "\n",
       "    .dataframe thead th {\n",
       "        text-align: right;\n",
       "    }\n",
       "</style>\n",
       "<table border=\"1\" class=\"dataframe\">\n",
       "  <thead>\n",
       "    <tr style=\"text-align: right;\">\n",
       "      <th></th>\n",
       "      <th>new_names</th>\n",
       "      <th>Effusion</th>\n",
       "      <th>Consolidations</th>\n",
       "      <th>B-lines</th>\n",
       "      <th>Healthy</th>\n",
       "    </tr>\n",
       "  </thead>\n",
       "  <tbody>\n",
       "    <tr>\n",
       "      <th>0</th>\n",
       "      <td>val/Cov-Atlas+(44)_frame_012.jpg</td>\n",
       "      <td>0</td>\n",
       "      <td>1</td>\n",
       "      <td>0</td>\n",
       "      <td>0</td>\n",
       "    </tr>\n",
       "    <tr>\n",
       "      <th>1</th>\n",
       "      <td>val/Cov-Atlas+(44)_frame_009.jpg</td>\n",
       "      <td>0</td>\n",
       "      <td>1</td>\n",
       "      <td>0</td>\n",
       "      <td>0</td>\n",
       "    </tr>\n",
       "    <tr>\n",
       "      <th>2</th>\n",
       "      <td>train/Cov-Atlas+(44)_frame_039.jpg</td>\n",
       "      <td>0</td>\n",
       "      <td>1</td>\n",
       "      <td>0</td>\n",
       "      <td>0</td>\n",
       "    </tr>\n",
       "    <tr>\n",
       "      <th>3</th>\n",
       "      <td>val/Cov-Atlas+(44)_frame_033.jpg</td>\n",
       "      <td>0</td>\n",
       "      <td>1</td>\n",
       "      <td>0</td>\n",
       "      <td>0</td>\n",
       "    </tr>\n",
       "    <tr>\n",
       "      <th>4</th>\n",
       "      <td>val/Cov-Atlas-+(43)_frame_012.jpg</td>\n",
       "      <td>0</td>\n",
       "      <td>0</td>\n",
       "      <td>1</td>\n",
       "      <td>0</td>\n",
       "    </tr>\n",
       "    <tr>\n",
       "      <th>...</th>\n",
       "      <td>...</td>\n",
       "      <td>...</td>\n",
       "      <td>...</td>\n",
       "      <td>...</td>\n",
       "      <td>...</td>\n",
       "    </tr>\n",
       "    <tr>\n",
       "      <th>2169</th>\n",
       "      <td>val/pneu-radiopaeda_frame_096.jpg</td>\n",
       "      <td>0</td>\n",
       "      <td>1</td>\n",
       "      <td>0</td>\n",
       "      <td>0</td>\n",
       "    </tr>\n",
       "    <tr>\n",
       "      <th>2170</th>\n",
       "      <td>val/pneu-radiopaeda_frame_036.jpg</td>\n",
       "      <td>0</td>\n",
       "      <td>1</td>\n",
       "      <td>0</td>\n",
       "      <td>0</td>\n",
       "    </tr>\n",
       "    <tr>\n",
       "      <th>2171</th>\n",
       "      <td>test/pneu-radiopaeda_frame_081.jpg</td>\n",
       "      <td>0</td>\n",
       "      <td>1</td>\n",
       "      <td>0</td>\n",
       "      <td>0</td>\n",
       "    </tr>\n",
       "    <tr>\n",
       "      <th>2172</th>\n",
       "      <td>train/pneu-radiopaeda_frame_018.jpg</td>\n",
       "      <td>0</td>\n",
       "      <td>1</td>\n",
       "      <td>0</td>\n",
       "      <td>0</td>\n",
       "    </tr>\n",
       "    <tr>\n",
       "      <th>2173</th>\n",
       "      <td>val/pneu-radiopaeda_frame_132.jpg</td>\n",
       "      <td>0</td>\n",
       "      <td>1</td>\n",
       "      <td>0</td>\n",
       "      <td>0</td>\n",
       "    </tr>\n",
       "  </tbody>\n",
       "</table>\n",
       "<p>2174 rows × 5 columns</p>\n",
       "</div>"
      ],
      "text/plain": [
       "                                new_names  Effusion  Consolidations  B-lines  \\\n",
       "0        val/Cov-Atlas+(44)_frame_012.jpg         0               1        0   \n",
       "1        val/Cov-Atlas+(44)_frame_009.jpg         0               1        0   \n",
       "2      train/Cov-Atlas+(44)_frame_039.jpg         0               1        0   \n",
       "3        val/Cov-Atlas+(44)_frame_033.jpg         0               1        0   \n",
       "4       val/Cov-Atlas-+(43)_frame_012.jpg         0               0        1   \n",
       "...                                   ...       ...             ...      ...   \n",
       "2169    val/pneu-radiopaeda_frame_096.jpg         0               1        0   \n",
       "2170    val/pneu-radiopaeda_frame_036.jpg         0               1        0   \n",
       "2171   test/pneu-radiopaeda_frame_081.jpg         0               1        0   \n",
       "2172  train/pneu-radiopaeda_frame_018.jpg         0               1        0   \n",
       "2173    val/pneu-radiopaeda_frame_132.jpg         0               1        0   \n",
       "\n",
       "      Healthy  \n",
       "0           0  \n",
       "1           0  \n",
       "2           0  \n",
       "3           0  \n",
       "4           0  \n",
       "...       ...  \n",
       "2169        0  \n",
       "2170        0  \n",
       "2171        0  \n",
       "2172        0  \n",
       "2173        0  \n",
       "\n",
       "[2174 rows x 5 columns]"
      ]
     },
     "execution_count": 489,
     "metadata": {},
     "output_type": "execute_result"
    }
   ],
   "source": [
    "df = pd.read_csv('/home/Sean/PoCOVID/4real/covid19_pocus_ultrasound_pytorch/code/data/train_test_val.csv')\n",
    "df"
   ]
  },
  {
   "cell_type": "markdown",
   "metadata": {},
   "source": [
    "## Loader"
   ]
  },
  {
   "cell_type": "code",
   "execution_count": 490,
   "metadata": {},
   "outputs": [],
   "source": [
    "img_path = \"/home/Sean/PoCOVID/4real/covid19_pocus_ultrasound_pytorch/code/data/00_pocovid_img/\"\n",
    "#img_path = \"/home/Sean/PoCOVID/4real/covid19_pocus_ultrasound_pytorch/code/data/vidtoimg/\""
   ]
  },
  {
   "cell_type": "code",
   "execution_count": 491,
   "metadata": {},
   "outputs": [],
   "source": [
    "from skimage import io\n",
    "\n",
    "class USDataset(Dataset):\n",
    "    def __init__(self, csv_file, root_dir, transform=None):\n",
    "        self.annotations = pd.read_csv(csv_file)\n",
    "        self.root_dir = root_dir\n",
    "        self.transform = transform\n",
    "\n",
    "    def __len__(self):\n",
    "        return len(self.annotations)\n",
    "\n",
    "    def __getitem__(self, index):\n",
    "        img_path = os.path.join(self.root_dir, self.annotations.iloc[index, 0])\n",
    "        image = io.imread(img_path)\n",
    "        y_label = torch.tensor(self.annotations.iloc[index, 1:].astype(int))\n",
    "\n",
    "        if self.transform:\n",
    "            image = self.transform(image)\n",
    "\n",
    "        return (image, y_label)"
   ]
  },
  {
   "cell_type": "code",
   "execution_count": 536,
   "metadata": {},
   "outputs": [],
   "source": [
    "transformations = transforms.Compose([transforms.ToPILImage(), transforms.Resize((224, 224)), \n",
    "                                      transforms.ToTensor(), transforms.Normalize([0.485, 0.456, 0.406], [0.229, 0.224, 0.225])])"
   ]
  },
  {
   "cell_type": "code",
   "execution_count": 537,
   "metadata": {},
   "outputs": [],
   "source": [
    "dataset = USDataset(\n",
    "    csv_file=\"/home/Sean/PoCOVID/4real/covid19_pocus_ultrasound_pytorch/code/data/train_test_val.csv\",\n",
    "    root_dir=\"/home/Sean/PoCOVID/4real/covid19_pocus_ultrasound_pytorch/code/data/00_pocovid_img/\",\n",
    "    transform=transformations,\n",
    ")"
   ]
  },
  {
   "cell_type": "code",
   "execution_count": 538,
   "metadata": {},
   "outputs": [
    {
     "data": {
      "text/plain": [
       "0          val/Cov-Atlas+(44)_frame_012.jpg\n",
       "1          val/Cov-Atlas+(44)_frame_009.jpg\n",
       "2        train/Cov-Atlas+(44)_frame_039.jpg\n",
       "3          val/Cov-Atlas+(44)_frame_033.jpg\n",
       "4         val/Cov-Atlas-+(43)_frame_012.jpg\n",
       "                       ...                 \n",
       "2169      val/pneu-radiopaeda_frame_096.jpg\n",
       "2170      val/pneu-radiopaeda_frame_036.jpg\n",
       "2171     test/pneu-radiopaeda_frame_081.jpg\n",
       "2172    train/pneu-radiopaeda_frame_018.jpg\n",
       "2173      val/pneu-radiopaeda_frame_132.jpg\n",
       "Name: new_names, Length: 2174, dtype: object"
      ]
     },
     "execution_count": 538,
     "metadata": {},
     "output_type": "execute_result"
    }
   ],
   "source": [
    "train_img= df['new_names'].iloc[:]\n",
    "train_img"
   ]
  },
  {
   "cell_type": "code",
   "execution_count": 539,
   "metadata": {},
   "outputs": [
    {
     "name": "stdout",
     "output_type": "stream",
     "text": [
      "Total Number of the images : 2174 \n",
      "The proportion of the [8:1:1] : 1739, 217, 217\n"
     ]
    }
   ],
   "source": [
    "n_train = (round(len(train_img)*0.8))\n",
    "n_val = round(len(train_img)*0.1)\n",
    "n_test = round(len(train_img)*0.1)\n",
    "print(f\"Total Number of the images : {len(train_img)} \\nThe proportion of the [8:1:1] : {round(len(train_img)*0.8)}, {round(len(train_img)*0.1)}, {round(len(train_img)*0.1)}\")"
   ]
  },
  {
   "cell_type": "code",
   "execution_count": 540,
   "metadata": {},
   "outputs": [
    {
     "name": "stdout",
     "output_type": "stream",
     "text": [
      "Train : 1740, Validation : 217, Test : 217\n"
     ]
    }
   ],
   "source": [
    "train_ds, val_ds, test_ds = torch.utils.data.random_split(dataset, [n_train+1, n_val, n_test])\n",
    "random_seed = 0\n",
    "torch.manual_seed(random_seed)\n",
    "batch_size = 32\n",
    "\n",
    "train_loader = DataLoader(train_ds, batch_size, shuffle = True, num_workers = 4, pin_memory = True) \n",
    "val_loader = DataLoader(val_ds, batch_size*2, num_workers = 4, pin_memory = True) \n",
    "test_loader = DataLoader(test_ds, batch_size*2, num_workers = 4, pin_memory = True) \n",
    "\n",
    "print(f'Train : {len(train_ds)}, Validation : {len(val_ds)}, Test : {len(test_ds)}')"
   ]
  },
  {
   "cell_type": "code",
   "execution_count": 688,
   "metadata": {},
   "outputs": [],
   "source": [
    "dataloader = {\"train\":DataLoader(train_ds , shuffle=True , batch_size=batch_size),\n",
    "              \"val\": DataLoader(val_ds , shuffle=True , batch_size=batch_size),\n",
    "              \"test\": DataLoader(test_ds , shuffle=True , batch_size=batch_size) }"
   ]
  },
  {
   "cell_type": "code",
   "execution_count": 738,
   "metadata": {},
   "outputs": [],
   "source": [
    "# Hyperparameters\n",
    "in_channel = 3\n",
    "num_classes = 4\n",
    "learning_rate = 1e-5\n",
    "batch_size = 64\n",
    "num_epochs = 10"
   ]
  },
  {
   "cell_type": "code",
   "execution_count": 747,
   "metadata": {},
   "outputs": [],
   "source": [
    "model = torchvision.models.resnet50(pretrained=True)"
   ]
  },
  {
   "cell_type": "code",
   "execution_count": 748,
   "metadata": {},
   "outputs": [
    {
     "name": "stdout",
     "output_type": "stream",
     "text": [
      "2048\n"
     ]
    }
   ],
   "source": [
    "num_features = model.fc.in_features # get the no of on_features in last Linear unit\n",
    "print(num_features)\n",
    "## freeze the entire convolution base\n",
    "for param in model.parameters():\n",
    "    param.requires_grad_(False)"
   ]
  },
  {
   "cell_type": "code",
   "execution_count": 749,
   "metadata": {},
   "outputs": [],
   "source": [
    "def create_head(num_features , number_classes ,dropout_prob=0.5 ,activation_func =nn.ReLU):\n",
    "    features_lst = [num_features , num_features//2 , num_features//4]\n",
    "    layers = []\n",
    "    for in_f ,out_f in zip(features_lst[:-1] , features_lst[1:]):\n",
    "        layers.append(nn.Linear(in_f , out_f))\n",
    "        layers.append(activation_func())\n",
    "        layers.append(nn.BatchNorm1d(out_f))\n",
    "        if dropout_prob !=0 : layers.append(nn.Dropout(dropout_prob))\n",
    "    layers.append(nn.Linear(features_lst[-1] , number_classes))\n",
    "    return nn.Sequential(*layers)\n",
    "\n",
    "top_head = create_head(num_features , len(classLabels)) # because ten classes\n",
    "model.fc = top_head # replace the fully connected layer\n"
   ]
  },
  {
   "cell_type": "code",
   "execution_count": null,
   "metadata": {},
   "outputs": [],
   "source": []
  },
  {
   "cell_type": "code",
   "execution_count": 750,
   "metadata": {},
   "outputs": [],
   "source": [
    "import torch.optim as optim\n",
    "model.to(device)\n",
    "criterion = nn.BCEWithLogitsLoss()\n",
    "\n",
    "optimizer = optim.Adam(model.parameters(), lr=learning_rate)"
   ]
  },
  {
   "cell_type": "raw",
   "metadata": {},
   "source": [
    "from tqdm import trange\n",
    "\n",
    "for epoch in range(num_epochs):\n",
    "    losses = []\n",
    "\n",
    "    for batch_idx, (data, targets) in enumerate(train_loader):\n",
    "        data = data.to(device=device)\n",
    "        targets = targets.to(device=device)\n",
    "\n",
    "        model.to(device)\n",
    "        scores = model(data)\n",
    "        loss = criterion(scores, targets.float())\n",
    "        losses.append(loss.item())\n",
    "\n",
    "        optimizer.zero_grad()\n",
    "        loss.backward()\n",
    "\n",
    "        optimizer.step()\n",
    "\n",
    "    print(f\"Cost at epoch {epoch} is {sum(losses)/len(losses)}\")"
   ]
  },
  {
   "cell_type": "code",
   "execution_count": 696,
   "metadata": {},
   "outputs": [],
   "source": [
    "from tqdm import trange\n",
    "from sklearn.metrics import precision_score,f1_score\n",
    "\n",
    "def train(model , data_loader , criterion , optimizer , num_epochs=5):\n",
    "    for epoch in trange(num_epochs,desc=\"Epochs\"):\n",
    "        result = []\n",
    "        for phase in ['train', 'val']:\n",
    "            if phase==\"train\":     # put the model in training mode\n",
    "                model.train()\n",
    "                #scheduler.step()\n",
    "            else:     # put the model in validation mode\n",
    "                model.eval()\n",
    "       \n",
    "            # keep track of training and validation loss\n",
    "            running_loss = 0.0\n",
    "            running_corrects = 0.0  \n",
    "            \n",
    "            for data , target in data_loader[phase]:\n",
    "                #load the data and target to respective device\n",
    "                data , target = data.to(device)  , target.to(device)\n",
    "                \n",
    "                with torch.set_grad_enabled(phase==\"train\"):\n",
    "                    #feed the input\n",
    "                    output = model(data)\n",
    "                    #calculate the loss\n",
    "                    loss = criterion(output,target.float())\n",
    "                    preds = torch.sigmoid(output).data > 0.5\n",
    "                    preds = preds.to(torch.float32)\n",
    "                    \n",
    "                    if phase==\"train\"  :\n",
    "                        # backward pass: compute gradient of the loss with respect to model parameters \n",
    "                        loss.backward()\n",
    "                        # update the model parameters\n",
    "                        optimizer.step()\n",
    "                        # zero the grad to stop it from accumulating\n",
    "                        optimizer.zero_grad()\n",
    "                        \n",
    "                # statistics\n",
    "                running_loss += loss.item() * data.size(0)\n",
    "                running_corrects += f1_score(target.to(\"cpu\").to(torch.int).numpy() ,preds.to(\"cpu\").to(torch.int).numpy() , average=\"samples\")  * data.size(0)\n",
    "                \n",
    "            epoch_loss = running_loss / len(data_loader[phase].dataset)\n",
    "            epoch_acc = running_corrects / len(data_loader[phase].dataset)\n",
    "            \n",
    "            result.append('{} Loss: {:.4f} Acc: {:.4f}'.format(phase, epoch_loss, epoch_acc))\n",
    "        print(result)"
   ]
  },
  {
   "cell_type": "code",
   "execution_count": 637,
   "metadata": {},
   "outputs": [
    {
     "name": "stderr",
     "output_type": "stream",
     "text": [
      "Epochs:  10%|█         | 1/10 [00:10<01:36, 10.72s/it]"
     ]
    },
    {
     "name": "stdout",
     "output_type": "stream",
     "text": [
      "['train Loss: 0.7021 Acc: 0.4311', 'val Loss: 0.6932 Acc: 0.4802']\n"
     ]
    },
    {
     "name": "stderr",
     "output_type": "stream",
     "text": [
      "Epochs:  20%|██        | 2/10 [00:21<01:24, 10.62s/it]"
     ]
    },
    {
     "name": "stdout",
     "output_type": "stream",
     "text": [
      "['train Loss: 0.6274 Acc: 0.5343', 'val Loss: 0.5756 Acc: 0.6243']\n"
     ]
    },
    {
     "name": "stderr",
     "output_type": "stream",
     "text": [
      "Epochs:  30%|███       | 3/10 [00:31<01:14, 10.60s/it]"
     ]
    },
    {
     "name": "stdout",
     "output_type": "stream",
     "text": [
      "['train Loss: 0.5800 Acc: 0.6005', 'val Loss: 0.5287 Acc: 0.6806']\n"
     ]
    },
    {
     "name": "stderr",
     "output_type": "stream",
     "text": [
      "Epochs:  40%|████      | 4/10 [00:42<01:04, 10.73s/it]"
     ]
    },
    {
     "name": "stdout",
     "output_type": "stream",
     "text": [
      "['train Loss: 0.5380 Acc: 0.6500', 'val Loss: 0.5013 Acc: 0.7124']\n"
     ]
    },
    {
     "name": "stderr",
     "output_type": "stream",
     "text": [
      "Epochs:  50%|█████     | 5/10 [00:53<00:53, 10.67s/it]"
     ]
    },
    {
     "name": "stdout",
     "output_type": "stream",
     "text": [
      "['train Loss: 0.5157 Acc: 0.6768', 'val Loss: 0.4787 Acc: 0.7266']\n"
     ]
    },
    {
     "name": "stderr",
     "output_type": "stream",
     "text": [
      "Epochs:  60%|██████    | 6/10 [01:03<00:42, 10.59s/it]"
     ]
    },
    {
     "name": "stdout",
     "output_type": "stream",
     "text": [
      "['train Loss: 0.4973 Acc: 0.6867', 'val Loss: 0.4610 Acc: 0.7439']\n"
     ]
    },
    {
     "name": "stderr",
     "output_type": "stream",
     "text": [
      "Epochs:  70%|███████   | 7/10 [01:14<00:31, 10.64s/it]"
     ]
    },
    {
     "name": "stdout",
     "output_type": "stream",
     "text": [
      "['train Loss: 0.4693 Acc: 0.7239', 'val Loss: 0.4364 Acc: 0.7697']\n"
     ]
    },
    {
     "name": "stderr",
     "output_type": "stream",
     "text": [
      "Epochs:  80%|████████  | 8/10 [01:25<00:21, 10.65s/it]"
     ]
    },
    {
     "name": "stdout",
     "output_type": "stream",
     "text": [
      "['train Loss: 0.4595 Acc: 0.7201', 'val Loss: 0.4316 Acc: 0.7806']\n"
     ]
    },
    {
     "name": "stderr",
     "output_type": "stream",
     "text": [
      "Epochs:  90%|█████████ | 9/10 [01:36<00:10, 10.84s/it]"
     ]
    },
    {
     "name": "stdout",
     "output_type": "stream",
     "text": [
      "['train Loss: 0.4459 Acc: 0.7345', 'val Loss: 0.4238 Acc: 0.7783']\n"
     ]
    },
    {
     "name": "stderr",
     "output_type": "stream",
     "text": [
      "Epochs: 100%|██████████| 10/10 [01:46<00:00, 10.69s/it]"
     ]
    },
    {
     "name": "stdout",
     "output_type": "stream",
     "text": [
      "['train Loss: 0.4307 Acc: 0.7447', 'val Loss: 0.4088 Acc: 0.7955']\n"
     ]
    },
    {
     "name": "stderr",
     "output_type": "stream",
     "text": [
      "\n"
     ]
    }
   ],
   "source": [
    "train(model,dataloader , criterion, optimizer, num_epochs=num_epochs)"
   ]
  },
  {
   "cell_type": "code",
   "execution_count": null,
   "metadata": {},
   "outputs": [],
   "source": []
  },
  {
   "cell_type": "code",
   "execution_count": null,
   "metadata": {},
   "outputs": [],
   "source": []
  },
  {
   "cell_type": "code",
   "execution_count": 742,
   "metadata": {
    "jupyter": {
     "source_hidden": true
    }
   },
   "outputs": [],
   "source": [
    "import torch.optim as optim\n",
    "from torch.optim import lr_scheduler\n",
    "\n",
    "criterion = nn.BCEWithLogitsLoss()\n",
    "\n",
    "# specify optimizer\n",
    "optimizer = optim.Adam(model.parameters(), lr=learning_rate)\n",
    "sgdr_partial = lr_scheduler.CosineAnnealingLR(optimizer, T_max=5, eta_min=0.003 )"
   ]
  },
  {
   "cell_type": "code",
   "execution_count": 751,
   "metadata": {
    "jupyter": {
     "source_hidden": true
    }
   },
   "outputs": [],
   "source": [
    "from tqdm import trange\n",
    "from sklearn.metrics import precision_score,f1_score\n",
    "\n",
    "def train(model , data_loader , criterion , optimizer ,scheduler, num_epochs=5):\n",
    "    for epoch in trange(num_epochs,desc=\"Epochs\"):\n",
    "        result = []\n",
    "        for phase in ['train', 'val']:\n",
    "            if phase==\"train\":     # put the model in training mode\n",
    "                model.train()\n",
    "                scheduler.step()\n",
    "            else:     # put the model in validation mode\n",
    "                model.eval()\n",
    "       \n",
    "            # keep track of training and validation loss\n",
    "            running_loss = 0.0\n",
    "            running_corrects = 0.0  \n",
    "            \n",
    "            for data , target in data_loader[phase]:\n",
    "                #load the data and target to respective device\n",
    "                data , target = data.to(device)  , target.to(device)\n",
    "                \n",
    "                with torch.set_grad_enabled(phase==\"train\"):\n",
    "                    #feed the input\n",
    "                    output = model(data)\n",
    "                    #calculate the loss\n",
    "                    loss = criterion(output,target.float())\n",
    "                    preds = torch.sigmoid(output).data > 0.5\n",
    "                    preds = preds.to(torch.float32)\n",
    "                    \n",
    "                    if phase==\"train\"  :\n",
    "                        # backward pass: compute gradient of the loss with respect to model parameters \n",
    "                        loss.backward()\n",
    "                        # update the model parameters\n",
    "                        optimizer.step()\n",
    "                        # zero the grad to stop it from accumulating\n",
    "                        optimizer.zero_grad()\n",
    "                        \n",
    "                # statistics\n",
    "                running_loss += loss.item() * data.size(0)\n",
    "                running_corrects += f1_score(target.to(\"cpu\").to(torch.int).numpy() ,preds.to(\"cpu\").to(torch.int).numpy() , average=\"samples\")  * data.size(0)\n",
    "                \n",
    "            epoch_loss = running_loss / len(data_loader[phase].dataset)\n",
    "            epoch_acc = running_corrects / len(data_loader[phase].dataset)\n",
    "            \n",
    "            result.append('{} Loss: {:.4f} Acc: {:.4f}'.format(phase, epoch_loss, epoch_acc))\n",
    "        print(result)"
   ]
  },
  {
   "cell_type": "code",
   "execution_count": 752,
   "metadata": {},
   "outputs": [
    {
     "name": "stderr",
     "output_type": "stream",
     "text": [
      "Epochs:  10%|█         | 1/10 [00:12<01:54, 12.77s/it]"
     ]
    },
    {
     "name": "stdout",
     "output_type": "stream",
     "text": [
      "['train Loss: 0.7246 Acc: 0.3970', 'val Loss: 0.6601 Acc: 0.4876']\n"
     ]
    },
    {
     "name": "stderr",
     "output_type": "stream",
     "text": [
      "Epochs:  20%|██        | 2/10 [00:24<01:38, 12.36s/it]"
     ]
    },
    {
     "name": "stdout",
     "output_type": "stream",
     "text": [
      "['train Loss: 0.6457 Acc: 0.5236', 'val Loss: 0.5632 Acc: 0.6899']\n"
     ]
    },
    {
     "name": "stderr",
     "output_type": "stream",
     "text": [
      "Epochs:  30%|███       | 3/10 [00:35<01:24, 12.05s/it]"
     ]
    },
    {
     "name": "stdout",
     "output_type": "stream",
     "text": [
      "['train Loss: 0.5958 Acc: 0.5919', 'val Loss: 0.5187 Acc: 0.7101']\n"
     ]
    },
    {
     "name": "stderr",
     "output_type": "stream",
     "text": [
      "Epochs:  40%|████      | 4/10 [00:47<01:11, 11.91s/it]"
     ]
    },
    {
     "name": "stdout",
     "output_type": "stream",
     "text": [
      "['train Loss: 0.5565 Acc: 0.6238', 'val Loss: 0.4946 Acc: 0.7265']\n"
     ]
    },
    {
     "name": "stderr",
     "output_type": "stream",
     "text": [
      "Epochs:  50%|█████     | 5/10 [00:58<00:58, 11.75s/it]"
     ]
    },
    {
     "name": "stdout",
     "output_type": "stream",
     "text": [
      "['train Loss: 0.5360 Acc: 0.6504', 'val Loss: 0.4726 Acc: 0.7611']\n"
     ]
    },
    {
     "name": "stderr",
     "output_type": "stream",
     "text": [
      "Epochs:  60%|██████    | 6/10 [01:09<00:46, 11.62s/it]"
     ]
    },
    {
     "name": "stdout",
     "output_type": "stream",
     "text": [
      "['train Loss: 0.5103 Acc: 0.6742', 'val Loss: 0.4605 Acc: 0.7695']\n"
     ]
    },
    {
     "name": "stderr",
     "output_type": "stream",
     "text": [
      "Epochs:  70%|███████   | 7/10 [01:20<00:34, 11.45s/it]"
     ]
    },
    {
     "name": "stdout",
     "output_type": "stream",
     "text": [
      "['train Loss: 0.4985 Acc: 0.6869', 'val Loss: 0.4440 Acc: 0.7907']\n"
     ]
    },
    {
     "name": "stderr",
     "output_type": "stream",
     "text": [
      "Epochs:  80%|████████  | 8/10 [01:31<00:22, 11.28s/it]"
     ]
    },
    {
     "name": "stdout",
     "output_type": "stream",
     "text": [
      "['train Loss: 0.4748 Acc: 0.7070', 'val Loss: 0.4300 Acc: 0.8038']\n"
     ]
    },
    {
     "name": "stderr",
     "output_type": "stream",
     "text": [
      "Epochs:  90%|█████████ | 9/10 [01:42<00:11, 11.26s/it]"
     ]
    },
    {
     "name": "stdout",
     "output_type": "stream",
     "text": [
      "['train Loss: 0.4608 Acc: 0.7259', 'val Loss: 0.4198 Acc: 0.7990']\n"
     ]
    },
    {
     "name": "stderr",
     "output_type": "stream",
     "text": [
      "Epochs: 100%|██████████| 10/10 [01:54<00:00, 11.43s/it]"
     ]
    },
    {
     "name": "stdout",
     "output_type": "stream",
     "text": [
      "['train Loss: 0.4515 Acc: 0.7196', 'val Loss: 0.4136 Acc: 0.8059']\n"
     ]
    },
    {
     "name": "stderr",
     "output_type": "stream",
     "text": [
      "\n"
     ]
    }
   ],
   "source": [
    "train(model,dataloader , criterion, optimizer,sgdr_partial,num_epochs=num_epochs)"
   ]
  },
  {
   "cell_type": "code",
   "execution_count": 753,
   "metadata": {
    "jupyter": {
     "source_hidden": true
    }
   },
   "outputs": [],
   "source": [
    "class LinearScheduler(lr_scheduler._LRScheduler):\n",
    "    \"\"\"Linearly increases the learning rate between two boundaries over a number of iterations.\"\"\"\n",
    "    def __init__(self, optimizer, end_lr, num_iter):\n",
    "        self.end_lr = end_lr\n",
    "        self.num_iter = num_iter\n",
    "        super(LinearScheduler,self).__init__(optimizer)\n",
    "\n",
    "    def get_lr(self):\n",
    "        # increement one by one\n",
    "        curr_iter = self.last_epoch + 1\n",
    "        # get the ratio\n",
    "        pct = curr_iter / self.num_iter\n",
    "        # calculate lr with this formulae start + pct * (end-start)\n",
    "        return [base_lr + pct * (self.end_lr - base_lr) for base_lr in self.base_lrs]\n",
    "    \n",
    "class ExponentialScheduler(lr_scheduler._LRScheduler):\n",
    "    \"\"\"Exponentially increases the learning rate between two boundaries over a number of iterations.\"\"\"\n",
    "\n",
    "    def __init__(self, optimizer, end_lr, num_iter, last_epoch=-1):\n",
    "        self.end_lr = end_lr\n",
    "        self.num_iter = num_iter\n",
    "        super(ExponentialScheduler,self).__init__(optimizer)\n",
    "\n",
    "    def get_lr(self):\n",
    "        curr_iter = self.last_epoch + 1\n",
    "        pct = curr_iter / self.num_iter\n",
    "        return [base_lr * (self.end_lr / base_lr) ** pct for base_lr in self.base_lrs]\n",
    "    \n",
    "class CosineScheduler(lr_scheduler._LRScheduler):\n",
    "    \"\"\"Cosine increases the learning rate between two boundaries over a number of iterations.\"\"\"\n",
    "\n",
    "    def __init__(self, optimizer, end_lr, num_iter, last_epoch=-1):\n",
    "        self.end_lr = end_lr\n",
    "        self.num_iter = num_iter\n",
    "        super(CosineScheduler,self).__init__(optimizer)\n",
    "\n",
    "    def get_lr(self):\n",
    "        curr_iter = self.last_epoch + 1\n",
    "        pct = curr_iter / self.num_iter\n",
    "        cos_out = np.cos(np.pi * pct) + 1\n",
    "        return [self.end_lr + (base_lr - self.end_lr )/2 *cos_out for base_lr in self.base_lrs]"
   ]
  },
  {
   "cell_type": "code",
   "execution_count": 754,
   "metadata": {
    "jupyter": {
     "source_hidden": true
    }
   },
   "outputs": [],
   "source": [
    "class LRFinder:\n",
    "    def __init__(self, model  , optimizer , criterion ,start_lr=1e-7, device=None):\n",
    "        self.model = model\n",
    "        self.optimizer = optimizer\n",
    "        self.criterion = criterion\n",
    "        self.save_file = Path(\"tmpfile\")\n",
    "        torch.save(self.model , self.save_file)    \n",
    "        if device is None:\n",
    "            self.device = next(model.parameters()).device\n",
    "        else:\n",
    "            self.device = device\n",
    "        self.model.to(self.device)\n",
    "        self.history = {\"lr\":[] , \"losses\":[]}\n",
    "        for l in self.optimizer.param_groups:\n",
    "            l[\"initial_lr\"]=start_lr\n",
    "            \n",
    "    def reset(self):\n",
    "        self.model = torch.load(self.save_file)\n",
    "        self.model.train()\n",
    "        self.save_file.unlink()\n",
    "        print(\"model reset done\")\n",
    "        return self.model\n",
    "    \n",
    "    \n",
    "    def calculateSmmothingValue(self ,beta):\n",
    "        n ,mov_avg=0,0\n",
    "        while True :\n",
    "            n+=1\n",
    "            value = yield\n",
    "            mov_avg = beta*mov_avg +(1-beta)*value\n",
    "            smooth = mov_avg / (1 - beta **n )\n",
    "            yield smooth\n",
    "    \n",
    "    \n",
    "    def lrfind(self, trainLoader,end_lr=10,num_iter=150,step_mode=\"exp\", loss_smoothing_beta=0.99, diverge_th=5): \n",
    "        self.history = {\"lr\": [], \"losses\": []}\n",
    "        self.best_loss = None\n",
    "        self.smoothner = self.calculateSmmothingValue(loss_smoothing_beta)\n",
    "        \n",
    "        if step_mode.lower()==\"exp\":\n",
    "            lr_schedule = ExponentialScheduler(self.optimizer , end_lr  , num_iter,)\n",
    "        elif step_mode.lower()==\"cos\":\n",
    "            lr_schedule = CosineScheduler(self.optimizer , end_lr  , num_iter)\n",
    "        elif step.mode.lower()==\"linear\":\n",
    "            lr_schedule = LinearScheduler(self.optimizer , end_lr  , num_iter)\n",
    "        else:\n",
    "            raise ValueError(f\"expected mode is either {exp , cos ,linear} got {step_mode}\")\n",
    "        \n",
    "        if 0 < loss_smoothing_beta >=1:\n",
    "            raise ValueError(\"smooth_f is outside the range [0, 1[\")\n",
    "        \n",
    "        iterator = iter(trainLoader)\n",
    "        for each_iter in range(num_iter):\n",
    "            try:\n",
    "                data , target = next(iterator)\n",
    "            except StopIteration:\n",
    "                iterator = iter(trainLoader)\n",
    "                data , target = next(iterator)\n",
    "                \n",
    "            loss = self._train_batch(data , target)\n",
    "            # Update the learning rate\n",
    "            lr_schedule.step()\n",
    "            self.history[\"lr\"].append(lr_schedule.get_lr()[0])\n",
    "            # Track the best loss and smooth it if smooth_f is specified\n",
    "            if each_iter == 0:\n",
    "                self.best_loss = loss\n",
    "            else:\n",
    "                next(self.smoothner)\n",
    "                self.best_loss = self.smoothner.send(loss)\n",
    "                if loss < self.best_loss:\n",
    "                    self.best_loss = loss\n",
    "            # Check if the loss has diverged; if it has, stop the test\n",
    "            self.history[\"losses\"].append(loss)\n",
    "            if loss > diverge_th * self.best_loss:\n",
    "                print(\"Stopping early, the loss has diverged\")\n",
    "                break\n",
    "                \n",
    "        print(\"Learning rate search finished. See the graph with {finder_name}.plot()\")            \n",
    "        \n",
    "    def _train_batch(self,data,target):\n",
    "        # set to training mode\n",
    "        self.model.train()\n",
    "        #load data to device\n",
    "        data ,target = data.to(self.device) ,target.to(self.device)\n",
    "        \n",
    "        #forward pass\n",
    "        self.optimizer.zero_grad()\n",
    "        output = self.model(data)\n",
    "        loss = self.criterion(output,target.float())\n",
    "        \n",
    "        #backward pass\n",
    "        loss.backward()\n",
    "        self.optimizer.step()\n",
    "        return loss.item()\n",
    "    \n",
    "    def plot(self):\n",
    "        losses = self.history[\"losses\"]\n",
    "        lr = self.history[\"lr\"]\n",
    "        plt.semilogx(lr,losses)\n",
    "        plt.xlabel(\"Learning rate\")\n",
    "        plt.ylabel(\"Losses \")\n",
    "        plt.show()"
   ]
  },
  {
   "cell_type": "code",
   "execution_count": 755,
   "metadata": {
    "collapsed": true,
    "jupyter": {
     "outputs_hidden": true,
     "source_hidden": true
    }
   },
   "outputs": [
    {
     "name": "stdout",
     "output_type": "stream",
     "text": [
      "Stopping early, the loss has diverged\n",
      "Learning rate search finished. See the graph with {finder_name}.plot()\n"
     ]
    }
   ],
   "source": [
    "lr_finder = LRFinder(model, optimizer, criterion, device=device)\n",
    "lr_finder.lrfind(dataloader[\"train\"], end_lr=10, step_mode=\"exp\")"
   ]
  },
  {
   "cell_type": "code",
   "execution_count": 756,
   "metadata": {},
   "outputs": [
    {
     "data": {
      "image/png": "[encoded data removed]",
      "text/plain": [
       "<Figure size 432x288 with 1 Axes>"
      ]
     },
     "metadata": {
      "needs_background": "light"
     },
     "output_type": "display_data"
    },
    {
     "name": "stdout",
     "output_type": "stream",
     "text": [
      "model reset done\n"
     ]
    }
   ],
   "source": [
    "lr_finder.plot()\n",
    "model= lr_finder.reset()"
   ]
  },
  {
   "cell_type": "markdown",
   "metadata": {},
   "source": [
    "## Save model"
   ]
  },
  {
   "cell_type": "code",
   "execution_count": 757,
   "metadata": {},
   "outputs": [],
   "source": [
    "def createCheckpoint(filename=Path(\"./pocovid.pt\")):\n",
    "    checkpoint = {'epoch': 5,\n",
    "                  'model_state_dict': model.state_dict(),\n",
    "              'optimizer_state_dict': optimizer.state_dict(),\n",
    "              \"batch_size\":batch_size,} \n",
    "    torch.save(checkpoint , filename)\n",
    "createCheckpoint()"
   ]
  },
  {
   "cell_type": "code",
   "execution_count": 758,
   "metadata": {},
   "outputs": [
    {
     "data": {
      "text/plain": [
       "Adam (\n",
       "Parameter Group 0\n",
       "    amsgrad: False\n",
       "    betas: (0.9, 0.999)\n",
       "    eps: 1e-08\n",
       "    lr: 0.001\n",
       "    weight_decay: 0\n",
       ")"
      ]
     },
     "execution_count": 758,
     "metadata": {},
     "output_type": "execute_result"
    }
   ],
   "source": [
    "checkpoint = torch.load(Path(\"./LatestCheckpoint.pt\"))\n",
    "model.load_state_dict(checkpoint['model_state_dict'])\n",
    "optimizer.load_state_dict(checkpoint['optimizer_state_dict'])\n",
    "epoch = checkpoint['epoch']\n",
    "batch_size = checkpoint['batch_size']\n",
    "\n",
    "model.eval() ## or model.train()\n",
    "optimizer"
   ]
  },
  {
   "cell_type": "code",
   "execution_count": 767,
   "metadata": {},
   "outputs": [],
   "source": [
    "image , label = next(iter(dataloader[\"val\"]))\n",
    "image = image.to(device)\n",
    "label = label.to(device)\n",
    "output = 0\n",
    "with torch.no_grad():\n",
    "    output = model(image)\n",
    "    output = torch.sigmoid(output)\n",
    "output = output>0.2"
   ]
  },
  {
   "cell_type": "code",
   "execution_count": 768,
   "metadata": {},
   "outputs": [],
   "source": [
    "mean , std = torch.tensor([0.485, 0.456, 0.406]),torch.tensor([0.229, 0.224, 0.225])\n",
    "def denormalize(image):\n",
    "    image = image.to(\"cpu\").clone().detach()\n",
    "    image = transforms.Normalize(-mean/std,1/std)(image) #denormalize\n",
    "    image = image.permute(1,2,0) \n",
    "    image = torch.clamp(image,0,1)\n",
    "    return image.numpy()\n",
    "\n",
    "def visualize(image , actual , pred):\n",
    "    fig,ax = plt.subplots()\n",
    "    ax.imshow(denormalize(image))\n",
    "    ax.grid(False)\n",
    "    classes =  np.array(classLabels)[np.array(actual,dtype=np.bool)]\n",
    "    for i , s in enumerate(classes):\n",
    "        ax.text(0 , i*20  , s , verticalalignment='top', color=\"white\", fontsize=16)#, weight='bold')\n",
    "        \n",
    "    classes =  np.array(classLabels)[np.array(pred,dtype=np.bool)]\n",
    "    for i , s in enumerate(classes):\n",
    "        ax.text(160 , i*20  , s , verticalalignment='top', color=\"red\", fontsize=16)#, weight='bold')\n",
    "    plt.show()"
   ]
  },
  {
   "cell_type": "code",
   "execution_count": 779,
   "metadata": {},
   "outputs": [
    {
     "data": {
      "image/png": "[encoded data removed]",
      "text/plain": [
       "<Figure size 432x288 with 1 Axes>"
      ]
     },
     "metadata": {
      "needs_background": "light"
     },
     "output_type": "display_data"
    }
   ],
   "source": [
    "visualize(image[2] , label[2].tolist() , output[2].tolist())"
   ]
  },
  {
   "cell_type": "code",
   "execution_count": 795,
   "metadata": {},
   "outputs": [
    {
     "data": {
      "image/png": "[encoded data removed]",
      "text/plain": [
       "<Figure size 432x288 with 1 Axes>"
      ]
     },
     "metadata": {
      "needs_background": "light"
     },
     "output_type": "display_data"
    }
   ],
   "source": [
    "visualize(image[15] , label[15].tolist() , output[15].tolist())\n"
   ]
  },
  {
   "cell_type": "code",
   "execution_count": 771,
   "metadata": {},
   "outputs": [
    {
     "data": {
      "image/png": "[encoded data removed]",
      "text/plain": [
       "<Figure size 432x288 with 1 Axes>"
      ]
     },
     "metadata": {
      "needs_background": "light"
     },
     "output_type": "display_data"
    }
   ],
   "source": [
    "visualize(image[29] , label[29].tolist() , output[29].tolist())\n",
    "\n"
   ]
  },
  {
   "cell_type": "code",
   "execution_count": 776,
   "metadata": {},
   "outputs": [
    {
     "data": {
      "image/png": "[encoded data removed]",
      "text/plain": [
       "<Figure size 432x288 with 1 Axes>"
      ]
     },
     "metadata": {
      "needs_background": "light"
     },
     "output_type": "display_data"
    }
   ],
   "source": [
    "visualize(image[16] , label[16].tolist() , output[16].tolist())\n"
   ]
  },
  {
   "cell_type": "code",
   "execution_count": null,
   "metadata": {},
   "outputs": [],
   "source": []
  }
 ],
 "metadata": {
  "kernelspec": {
   "display_name": "Python 3",
   "language": "python",
   "name": "python3"
  },
  "language_info": {
   "codemirror_mode": {
    "name": "ipython",
    "version": 3
   },
   "file_extension": ".py",
   "mimetype": "text/x-python",
   "name": "python",
   "nbconvert_exporter": "python",
   "pygments_lexer": "ipython3",
   "version": "3.6.9"
  }
 },
 "nbformat": 4,
 "nbformat_minor": 4
}
