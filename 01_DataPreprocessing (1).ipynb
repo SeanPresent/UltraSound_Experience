{
 "cells": [
  {
   "cell_type": "code",
   "execution_count": 7,
   "metadata": {
    "collapsed": true,
    "jupyter": {
     "outputs_hidden": true,
     "source_hidden": true
    }
   },
   "outputs": [
    {
     "name": "stdout",
     "output_type": "stream",
     "text": [
      "Archive:  Published -20210112T164653Z-001.zip\n",
      "  inflating: butterfly/Published /Consolidation/Subpleural consolidation.png  \n",
      "  inflating: butterfly/Published /Normal Lung/Normal Lung_Example 2.mp4  \n",
      "  inflating: butterfly/Published /Irregular Pleural Line/Irregular Pleura with Confluent B-lines.mp4  \n",
      "  inflating: butterfly/Published /B lines/Coalescing B lines.mp4  \n",
      "  inflating: butterfly/Published /Irregular Pleural Line/Irregular Pleura3.mp4  \n",
      "  inflating: butterfly/Published /Irregular Pleural Line/Irregular Pleural Line.mp4  \n",
      "  inflating: butterfly/Published /B lines/Merged B-Lines with spared areas.mp4  \n",
      "  inflating: butterfly/Published /Other/Small pleural effusion(1).mp4  \n",
      "  inflating: butterfly/Published /Other/Small pleural effusion.mp4  \n",
      "  inflating: butterfly/Published /B lines/Merged B-lines with _White Lung_.mp4  \n",
      "  inflating: butterfly/Published /B lines/B lines.mp4  \n",
      "  inflating: butterfly/Published /Cardiac Manifestations/Subcostal cardiac view, no effusion, hyperdynamic.mp4  \n",
      "  inflating: butterfly/Published /Irregular Pleural Line/Irregular Pleura and Coalescent B-lines.mp4  \n",
      "  inflating: butterfly/Published /Irregular Pleural Line/Merged B lines, irregular pleural line.mp4  \n",
      "  inflating: butterfly/Published /Consolidation/Consolidation_Example 5.mp4  \n",
      "  inflating: butterfly/Published /Irregular Pleural Line/Focal B Lines, irregular pleural line.mp4  \n",
      "  inflating: butterfly/Published /Irregular Pleural Line/Irregular Pleura with Multiple B lines.mp4  \n",
      "  inflating: butterfly/Published /Irregular Pleural Line/Irregular Pleura with Trace Effusion.mp4  \n",
      "  inflating: butterfly/Published /B lines/White Lung in Respiratory Distress.mp4  \n",
      "  inflating: butterfly/Published /B lines/Confluent B lines_Example 2.mp4  \n",
      "  inflating: butterfly/Published /Normal Lung/Normal Lung A lines.mp4  \n",
      "  inflating: butterfly/Published /Other/Ascites in left upper quadrant.mp4  \n",
      "  inflating: butterfly/Published /Irregular Pleural Line/Multiple B-Lines, irregular pleural line.mp4  \n",
      "  inflating: butterfly/Published /Other/Pleural effusion.mp4  \n",
      "  inflating: butterfly/Published /Cardiac Manifestations/Cardiomyopathy.mp4  \n",
      "  inflating: butterfly/Published /Consolidation/Subpleural consolidation.mp4  \n",
      "  inflating: butterfly/Published /Consolidation/Consolidation_Example 2.mp4  \n",
      "  inflating: butterfly/Published /B lines/Patchy B lines with Sparing.mp4  \n",
      "  inflating: butterfly/Published /Consolidation/Consolidation_Example 4.mp4  \n",
      "  inflating: butterfly/Published /Consolidation/Consolidation_Example 3.mp4  \n",
      "  inflating: butterfly/Published /Consolidation/Consolidation.mp4  \n",
      "  inflating: butterfly/Published /Consolidation/Subpleural Basal Consolidation.mp4  \n",
      "  inflating: butterfly/Published /Consolidation/Subpleural Basal Consolidation_Example 2.mp4  \n",
      "  inflating: butterfly/Published /Irregular Pleural Line/Irregular Pleural Line_Example 2.mp4  \n",
      "  inflating: butterfly/Published /Consolidation/Consolidation with Air Bronchograms.mp4  \n",
      "  inflating: butterfly/Published /B lines/Confluent B lines.mp4  \n",
      "Warning: Butterfly video not in butterfly json Consolidation\n",
      "Warning: Butterfly video not in butterfly json Normal Lung\n",
      "Warning: Butterfly video not in butterfly json Irregular Pleural Line\n",
      "Warning: Butterfly video not in butterfly json B lines\n",
      "Warning: Butterfly video not in butterfly json Other\n",
      "Warning: Butterfly video not in butterfly json Cardiac Manifestations\n",
      "Warning: video not found in butterfly folder: Skip Lesion.mp4\n",
      "Warning: video not found in butterfly folder: Confluent B lines.mp4\n",
      "Warning: video not found in butterfly folder: Normal Lung A lines.mp4\n",
      "Warning: video not found in butterfly folder: Normal Lung_Example 2.mp4\n",
      "Warning: video not found in butterfly folder: Coalescing B lines.mp4\n",
      "Warning: video not found in butterfly folder: Confluent B lines_Example 2.mp4\n",
      "Warning: video not found in butterfly folder: Consolidation with Air Bronchograms.mp4\n",
      "Warning: video not found in butterfly folder: Consolidation.mp4\n",
      "Warning: video not found in butterfly folder: Consolidation_Example 2.mp4\n",
      "Warning: video not found in butterfly folder: Consolidation_Example 3.mp4\n",
      "Warning: video not found in butterfly folder: Consolidation_Example 5.mp4\n",
      "Warning: video not found in butterfly folder: Irregular Pleura and Coalescent B-lines.mp4\n",
      "Warning: video not found in butterfly folder: Irregular Pleura with Confluent B-lines.mp4\n",
      "Warning: video not found in butterfly folder: Irregular Pleura with Multiple B lines.mp4\n",
      "Warning: video not found in butterfly folder: Irregular Pleura with Trace Effusion.mp4\n",
      "Warning: video not found in butterfly folder: Irregular Pleural Line.mp4\n",
      "Warning: video not found in butterfly folder: Irregular Pleural Line_Example 2.mp4\n",
      "Warning: video not found in butterfly folder: Patchy B lines with Sparing.mp4\n",
      "Warning: video not found in butterfly folder: Subpleural Basal Consolidation.mp4\n",
      "Warning: video not found in butterfly folder: Subpleural Basal Consolidation_Example 2.mp4\n",
      "Cov-Atlas+(44).gif framerate 10.0 width 139.0 height 139.0 number frames: 41.0\n",
      "--> taking every  3 th image\n",
      "Cov-Atlas+(45).gif framerate 10.0 width 174.0 height 174.0 number frames: 21.0\n",
      "--> taking every  3 th image\n",
      "Cov-Atlas-+(43).gif framerate 10.0 width 163.0 height 163.0 number frames: 39.0\n",
      "--> taking every  3 th image\n",
      "Cov-Atlas-Day+1.gif framerate 10.0 width 408.0 height 408.0 number frames: 33.0\n",
      "--> taking every  3 th image\n",
      "Cov-Atlas-Day+2.gif framerate 10.0 width 142.0 height 142.0 number frames: 83.0\n",
      "--> taking every  3 th image\n",
      "Cov-Atlas-Day+3.gif framerate 10.0 width 240.0 height 240.0 number frames: 40.0\n",
      "--> taking every  3 th image\n",
      "Cov-Atlas-Day+4.gif framerate 10.0 width 230.0 height 230.0 number frames: 40.0\n",
      "--> taking every  3 th image\n",
      "Cov-Atlas-suspectedCovid.mp4 framerate 25.0 width 1080.0 height 1080.0 number frames: 100.0\n",
      "--> taking every  8 th image\n",
      "Cov-clarius.gif framerate 10.0 width 313.0 height 313.0 number frames: 104.0\n",
      "--> taking every  3 th image\n",
      "Cov-clarius3.mp4 framerate 25.0 width 1080.0 height 1080.0 number frames: 295.0\n",
      "--> taking every  8 th image\n",
      "Cov-grep-7453.mp4 framerate 24.0 width 1080.0 height 1080.0 number frames: 242.0\n",
      "--> taking every  8 th image\n",
      "Cov-grep-7505.mp4 framerate 24.0 width 1080.0 height 1080.0 number frames: 149.0\n",
      "--> taking every  8 th image\n",
      "Cov-grep-7507.mp4 framerate 24.0 width 1080.0 height 1080.0 number frames: 127.0\n",
      "--> taking every  8 th image\n",
      "Cov-grep-7510.mp4 framerate 25.0 width 1080.0 height 1080.0 number frames: 223.0\n",
      "--> taking every  8 th image\n",
      "Cov-grep-7511.mp4 framerate 25.0 width 1080.0 height 1080.0 number frames: 224.0\n",
      "--> taking every  8 th image\n",
      "Cov-grep-7525.mp4 framerate 24.0 width 1080.0 height 1080.0 number frames: 80.0\n",
      "--> taking every  8 th image\n",
      "Cov-grep-7543.mp4 framerate 24.0 width 1080.0 height 1080.0 number frames: 80.0\n",
      "--> taking every  8 th image\n",
      "Cov-grepmed-blines-pocus-.mp4 framerate 20.129 width 326.0 height 326.0 number frames: 206.0\n",
      "--> taking every  6 th image\n",
      "Cov-grepmed2.mp4 framerate 33.333 width 210.0 height 210.0 number frames: 295.0\n",
      "--> taking every  11 th image\n",
      "Cov_Butterfly_Coalescing B lines.avi framerate 20.0 width 616.0 height 616.0 number frames: 64.0\n",
      "--> taking every  6 th image\n",
      "Cov_Butterfly_Confluent B lines.avi framerate 20.0 width 504.0 height 504.0 number frames: 119.0\n",
      "--> taking every  6 th image\n",
      "Cov_Butterfly_Confluent B lines_Example 2.avi framerate 20.0 width 980.0 height 980.0 number frames: 90.0\n",
      "--> taking every  6 th image\n",
      "Cov_Butterfly_Consolidation with Air Bronchograms.avi framerate 20.0 width 504.0 height 504.0 number frames: 49.0\n",
      "--> taking every  6 th image\n",
      "Cov_Butterfly_Consolidation.avi framerate 20.0 width 616.0 height 616.0 number frames: 125.0\n",
      "--> taking every  6 th image\n",
      "Cov_Butterfly_Consolidation_Example 2.avi framerate 20.0 width 616.0 height 616.0 number frames: 109.0\n",
      "--> taking every  6 th image\n",
      "Cov_Butterfly_Consolidation_Example 3.avi framerate 20.0 width 980.0 height 980.0 number frames: 80.0\n",
      "--> taking every  6 th image\n",
      "Cov_Butterfly_Consolidation_Example 5.avi framerate 20.0 width 438.0 height 438.0 number frames: 114.0\n",
      "--> taking every  6 th image\n",
      "Cov_Butterfly_Irregular Pleura and Coalescent B-lines.avi framerate 20.0 width 616.0 height 616.0 number frames: 103.0\n",
      "--> taking every  6 th image\n",
      "Cov_Butterfly_Irregular Pleura with Confluent B-lines.avi framerate 20.0 width 980.0 height 980.0 number frames: 87.0\n",
      "--> taking every  6 th image\n",
      "Cov_Butterfly_Irregular Pleura with Multiple B lines.avi framerate 20.0 width 504.0 height 504.0 number frames: 156.0\n",
      "--> taking every  6 th image\n",
      "Cov_Butterfly_Irregular Pleura with Trace Effusion.avi framerate 20.0 width 980.0 height 980.0 number frames: 76.0\n",
      "--> taking every  6 th image\n",
      "Cov_Butterfly_Irregular Pleural Line.avi framerate 20.0 width 616.0 height 616.0 number frames: 101.0\n",
      "--> taking every  6 th image\n",
      "Cov_Butterfly_Irregular Pleural Line_Example 2.avi framerate 20.0 width 616.0 height 616.0 number frames: 81.0\n",
      "--> taking every  6 th image\n",
      "Cov_Butterfly_Patchy B lines with Sparing.avi framerate 20.0 width 616.0 height 616.0 number frames: 108.0\n",
      "--> taking every  6 th image\n",
      "Cov_Butterfly_Skip Lesion.avi framerate 20.0 width 504.0 height 504.0 number frames: 157.0\n",
      "--> taking every  6 th image\n",
      "Cov_Butterfly_Subpleural Basal Consolidation.avi framerate 20.0 width 616.0 height 616.0 number frames: 111.0\n",
      "--> taking every  6 th image\n",
      "Cov_Butterfly_Subpleural Basal Consolidation_Example 2.avi framerate 20.0 width 616.0 height 616.0 number frames: 91.0\n",
      "--> taking every  6 th image\n",
      "Cov_combatting_Image1.mp4 framerate 28.25 width 440.0 height 440.0 number frames: 113.0\n",
      "--> taking every  9 th image\n",
      "Cov_combatting_Image2.mp4 framerate 31.833333333333332 width 440.0 height 440.0 number frames: 191.0\n",
      "--> taking every  10 th image\n",
      "Cov_combatting_Image3.mp4 framerate 29.0 width 440.0 height 440.0 number frames: 174.0\n",
      "--> taking every  9 th image\n",
      "Cov_combatting_Image5.mp4 framerate 30.333333333333332 width 394.0 height 394.0 number frames: 182.0\n",
      "--> taking every  10 th image\n",
      "Cov_combatting_image4.mp4 framerate 27.4 width 476.0 height 476.0 number frames: 137.0\n",
      "--> taking every  9 th image\n",
      "Cov_convex_volpecelli_sonographic_v1.mov framerate 39.0 width 450.0 height 450.0 number frames: 403.0\n",
      "--> taking every  13 th image\n",
      "Cov_convex_volpecelli_sonographic_v2.mov framerate 39.0 width 432.0 height 432.0 number frames: 402.0\n",
      "--> taking every  13 th image\n",
      "Cov_convex_volpecelli_sonographic_v3.mov framerate 39.0 width 416.0 height 416.0 number frames: 399.0\n",
      "--> taking every  13 th image\n",
      "Cov_convex_volpecelli_sonographic_v4.mov framerate 39.0 width 414.0 height 414.0 number frames: 405.0\n",
      "--> taking every  13 th image\n",
      "Cov_convex_volpecelli_sonographic_v5.mov framerate 39.0 width 444.0 height 444.0 number frames: 401.0\n",
      "--> taking every  13 th image\n",
      "Cov_denault_proposedUS_vid1.mov framerate 60.0 width 702.0 height 702.0 number frames: 145.0\n",
      "--> taking every  20 th image\n",
      "Cov_denault_proposedUS_vid10.mov framerate 60.0 width 852.0 height 852.0 number frames: 141.0\n",
      "--> taking every  20 th image\n",
      "Cov_denault_proposedUS_vid11.mov framerate 59.583333333333336 width 852.0 height 852.0 number frames: 143.0\n",
      "--> taking every  19 th image\n",
      "Cov_denault_proposedUS_vid12.mov framerate 58.90243902439025 width 852.0 height 852.0 number frames: 161.0\n",
      "--> taking every  19 th image\n",
      "Cov_denault_proposedUS_vid13.mov framerate 48.333333333333336 width 852.0 height 852.0 number frames: 174.0\n",
      "--> taking every  16 th image\n",
      "Cov_denault_proposedUS_vid14.mov framerate 52.0253164556962 width 852.0 height 852.0 number frames: 137.0\n",
      "--> taking every  17 th image\n",
      "Cov_denault_proposedUS_vid2.mov framerate 57.494780793319414 width 842.0 height 842.0 number frames: 459.0\n",
      "--> taking every  19 th image\n",
      "Cov_denault_proposedUS_vid5.mov framerate 55.50660792951542 width 706.0 height 706.0 number frames: 210.0\n",
      "--> taking every  18 th image\n",
      "Cov_new_pregnant_vid1.avi framerate 20.0 width 800.0 height 800.0 number frames: 144.0\n",
      "--> taking every  6 th image\n",
      "Cov_new_pregnant_vid2.avi framerate 20.0 width 800.0 height 800.0 number frames: 142.0\n",
      "--> taking every  6 th image\n",
      "Cov_new_pregnant_vid3.avi framerate 20.0 width 800.0 height 800.0 number frames: 150.0\n",
      "--> taking every  6 th image\n",
      "Cov_new_pregnant_vid4.avi framerate 20.0 width 800.0 height 800.0 number frames: 150.0\n",
      "--> taking every  6 th image\n",
      "Cov_new_pregnant_vid5.avi framerate 20.0 width 800.0 height 800.0 number frames: 150.0\n",
      "--> taking every  6 th image\n",
      "Cov_new_pregnant_vid7.avi framerate 20.0 width 808.0 height 808.0 number frames: 150.0\n",
      "--> taking every  6 th image\n",
      "Cov_new_pregnant_vid8.avi framerate 20.0 width 808.0 height 808.0 number frames: 150.0\n",
      "--> taking every  6 th image\n",
      "Cov_recommendations_lightbeam_mov6.mov framerate 29.97002997002997 width 538.0 height 538.0 number frames: 309.0\n",
      "--> taking every  9 th image\n",
      "Cov_recommendations_likebutterfly_mov5.mov framerate 22.666666666666668 width 370.0 height 370.0 number frames: 138.0\n",
      "--> taking every  7 th image\n",
      "Pneu-Atlas-pneumonia.gif framerate 10.0 width 208.0 height 208.0 number frames: 59.0\n",
      "--> taking every  3 th image\n",
      "Pneu-Atlas-pneumonia2.gif framerate 10.0 width 327.0 height 327.0 number frames: 40.0\n",
      "--> taking every  3 th image\n",
      "Pneu-grep-bacterial-hepatization-clinical.mp4 framerate 24.0 width 1080.0 height 1080.0 number frames: 240.0\n",
      "--> taking every  8 th image\n",
      "Pneu-grep-pneumonia1.mp4 framerate 30.0 width 1080.0 height 1080.0 number frames: 180.0\n",
      "--> taking every  10 th image\n",
      "Pneu-grep-pneumonia2_1.mp4 framerate 30.0 width 1080.0 height 1080.0 number frames: 306.0\n",
      "--> taking every  10 th image\n",
      "Pneu-grep-pneumonia3.mp4 framerate 33.333 width 342.0 height 354.0 number frames: 112.0\n",
      "--> taking every  11 th image\n",
      "Pneu-grep-pneumonia4.mp4 framerate 33.333 width 317.0 height 302.0 number frames: 149.0\n",
      "--> taking every  11 th image\n",
      "Pneu-grep-pulmonary-pneumonia.mp4 framerate 24.0 width 1080.0 height 1080.0 number frames: 150.0\n",
      "--> taking every  8 th image\n",
      "Pneu-grep-shredsign-consolidation.mp4 framerate 24.0 width 1080.0 height 1080.0 number frames: 241.0\n",
      "--> taking every  8 th image\n",
      "Pneu_AIR BRONC2.mov framerate 42.0 width 306.0 height 306.0 number frames: 88.0\n",
      "--> taking every  14 th image\n",
      "Pneu_Avi_Video_001.mp4 framerate 22.249388753056234 width 608.0 height 608.0 number frames: 91.0\n",
      "--> taking every  7 th image\n",
      "Pneu_Avi_Video_002.mp4 framerate 22.243482420473573 width 609.0 height 609.0 number frames: 93.0\n",
      "--> taking every  7 th image\n",
      "Pneu_Avi_Video_003.mp4 framerate 22.243482420473573 width 607.0 height 607.0 number frames: 93.0\n",
      "--> taking every  7 th image\n",
      "Pneu_Avi_Video_004.mp4 framerate 22.743947175348495 width 606.0 height 606.0 number frames: 31.0\n",
      "--> taking every  7 th image\n",
      "Pneu_Avi_Video_005.mp4 framerate 22.249388753056234 width 607.0 height 607.0 number frames: 91.0\n",
      "--> taking every  7 th image\n",
      "Pneu_Avi_Video_006.mp4 framerate 22.243713733075435 width 609.0 height 609.0 number frames: 92.0\n",
      "--> taking every  7 th image\n",
      "Pneu_Basal-pneumonia-RUQ_crop.mp4 framerate 15.0 width 268.0 height 268.0 number frames: 27.0\n",
      "--> taking every  5 th image\n",
      "Pneu_Pneumonia-LITFL-Ultrasound_crop.mp4 framerate 15.0 width 316.0 height 316.0 number frames: 27.0\n",
      "--> taking every  5 th image\n",
      "Pneu_basalpneumonia_liftle_case1.mp4 framerate 15.0 width 340.0 height 340.0 number frames: 42.0\n",
      "--> taking every  5 th image\n",
      "Pneu_clinicalreview_MOV4.mp4 framerate 50.0 width 374.0 height 374.0 number frames: 96.0\n",
      "--> taking every  16 th image\n",
      "Pneu_consol_advancesVid10.mp4 framerate 29.97 width 340.0 height 340.0 number frames: 144.0\n",
      "--> taking every  9 th image\n",
      "Pneu_from_article_rippey.mp4 framerate 15.0 width 272.0 height 272.0 number frames: 42.0\n",
      "--> taking every  5 th image\n",
      "Pneu_liftl_pneu_case3_clip3.mp4 framerate 15.0 width 280.0 height 280.0 number frames: 25.0\n",
      "--> taking every  5 th image\n",
      "Pneu_liftl_pneu_case3_clip4.mp4 framerate 15.0 width 306.0 height 306.0 number frames: 41.0\n",
      "--> taking every  5 th image\n",
      "Pneu_liftl_pneu_case3_clip5.mp4 framerate 15.0 width 272.0 height 272.0 number frames: 26.0\n",
      "--> taking every  5 th image\n",
      "Pneu_northumbria_0409_set1_vid1.avi framerate 22.249690976514216 width 516.0 height 516.0 number frames: 90.0\n",
      "--> taking every  7 th image\n",
      "Pneu_northumbria_0409_set1_vid2.avi framerate 22.24348230912477 width 520.0 height 520.0 number frames: 93.0\n",
      "--> taking every  7 th image\n",
      "Pneu_northumbria_0409_set2_vid1.avi framerate 22.249388753056234 width 508.0 height 508.0 number frames: 91.0\n",
      "--> taking every  7 th image\n",
      "Pneu_northumbria_0409_set2_vid2.avi framerate 22.24348230912477 width 524.0 height 524.0 number frames: 93.0\n",
      "--> taking every  7 th image\n",
      "Pneu_northumbria_0409_set2_vid3.avi framerate 22.243713733075435 width 503.0 height 503.0 number frames: 92.0\n",
      "--> taking every  7 th image\n",
      "Pneu_northumbria_0409_set2_vid4.avi framerate 22.28490832157969 width 523.0 height 523.0 number frames: 79.0\n",
      "--> taking every  7 th image\n",
      "Pneu_northumbria_0409_set3_vid1.avi framerate 22.249690976514216 width 481.0 height 481.0 number frames: 90.0\n",
      "--> taking every  7 th image\n",
      "Pneu_northumbria_0409_set3_vid2.avi framerate 22.243713733075435 width 528.0 height 528.0 number frames: 92.0\n",
      "--> taking every  7 th image\n",
      "Pneu_northumbria_0409_set4_vid1.avi framerate 22.249690976514216 width 500.0 height 500.0 number frames: 90.0\n",
      "--> taking every  7 th image\n",
      "Pneu_northumbria_0409_set4_vid2.avi framerate 22.249388753056234 width 494.0 height 494.0 number frames: 91.0\n",
      "--> taking every  7 th image\n",
      "Pneu_northumbria_0409_set5_vid1.avi framerate 22.243713733075435 width 509.0 height 509.0 number frames: 92.0\n",
      "--> taking every  7 th image\n",
      "Pneu_northumbria_0409_set5_vid2.avi framerate 22.243713733075435 width 516.0 height 516.0 number frames: 92.0\n",
      "--> taking every  7 th image\n",
      "Pneu_northumbria_0409_set6_vid1.avi framerate 22.243713733075435 width 514.0 height 514.0 number frames: 92.0\n",
      "--> taking every  7 th image\n",
      "Pneu_northumbria_0409_set6_vid2.avi framerate 22.243713733075435 width 517.0 height 517.0 number frames: 92.0\n",
      "--> taking every  7 th image\n",
      "Pneu_northumbria_0409_set6_vid3.avi framerate 22.249388753056234 width 508.0 height 508.0 number frames: 91.0\n",
      "--> taking every  7 th image\n",
      "Pneu_northumbria_0409_set6_vid4.avi framerate 22.249388753056234 width 519.0 height 519.0 number frames: 91.0\n",
      "--> taking every  7 th image\n",
      "Pneu_northumbria_0409_set6_vid5.avi framerate 22.243482420473573 width 509.0 height 509.0 number frames: 93.0\n",
      "--> taking every  7 th image\n",
      "Pneu_northumbria_0409_set6_vid7.avi framerate 22.249388753056234 width 510.0 height 510.0 number frames: 91.0\n",
      "--> taking every  7 th image\n",
      "Pneu_northumbria_0409_set6_vid8.avi framerate 22.249388753056234 width 508.0 height 508.0 number frames: 91.0\n",
      "--> taking every  7 th image\n",
      "Pneu_northumbria_1009_vid1.avi framerate 22.24348230912477 width 501.0 height 501.0 number frames: 93.0\n",
      "--> taking every  7 th image\n",
      "Reg-Atlas-alines.gif framerate 10.0 width 165.0 height 165.0 number frames: 60.0\n",
      "--> taking every  3 th image\n",
      "Reg-Atlas-lungcurtain.gif framerate 10.0 width 212.0 height 212.0 number frames: 60.0\n",
      "--> taking every  3 th image\n",
      "Reg-Atlas.gif framerate 10.0 width 250.0 height 250.0 number frames: 59.0\n",
      "--> taking every  3 th image\n",
      "Reg-Grep-Alines.mp4 framerate 25.0 width 421.0 height 355.0 number frames: 85.0\n",
      "--> taking every  8 th image\n",
      "Reg-Grep-Normal.gif framerate 10.0 width 391.0 height 391.0 number frames: 33.0\n",
      "--> taking every  3 th image\n",
      "Reg-NormalLungs.mp4 framerate 25.0 width 148.0 height 141.0 number frames: 131.0\n",
      "--> taking every  8 th image\n",
      "Reg-Youtube.mp4 framerate 30.0 width 864.0 height 664.0 number frames: 172.0\n",
      "--> taking every  10 th image\n",
      "Reg-bcpocus.gif framerate 10.0 width 374.0 height 374.0 number frames: 61.0\n",
      "--> taking every  3 th image\n",
      "Reg-nephropocus.mp4 framerate 23.976023976023978 width 302.0 height 256.0 number frames: 73.0\n",
      "--> taking every  7 th image\n",
      "Reg_Alines-1-90.mov framerate 26.333333333333332 width 376.0 height 376.0 number frames: 82.0\n",
      "--> taking every  8 th image\n",
      "Reg_Avi_Image002.mp4 framerate 50.261259019656634 width 568.0 height 568.0 number frames: 202.0\n",
      "--> taking every  16 th image\n",
      "Reg_Avi_Image003.mp4 framerate 50.261259019656634 width 520.0 height 520.0 number frames: 202.0\n",
      "--> taking every  16 th image\n",
      "Reg_Avi_Image004.mp4 framerate 50.261259019656634 width 586.0 height 586.0 number frames: 202.0\n",
      "--> taking every  16 th image\n",
      "Reg_Avi_Image008.mp4 framerate 50.25252525252525 width 574.0 height 574.0 number frames: 199.0\n",
      "--> taking every  16 th image\n",
      "Reg_Avi_Video_001.mp4 framerate 22.243713733075435 width 609.0 height 609.0 number frames: 92.0\n",
      "--> taking every  7 th image\n",
      "Reg_Avi_Video_002.mp4 framerate 50.79365079365079 width 608.0 height 608.0 number frames: 64.0\n",
      "--> taking every  16 th image\n",
      "Reg_Avi_Video_003.mp4 framerate 22.26935312831389 width 608.0 height 608.0 number frames: 84.0\n",
      "--> taking every  7 th image\n",
      "Reg_Avi_Video_004.mp4 framerate 50.261259019656634 width 597.0 height 597.0 number frames: 202.0\n",
      "--> taking every  16 th image\n",
      "Reg_Avi_lung-sliding-2.MP4 framerate 18.0 width 528.0 height 528.0 number frames: 56.0\n",
      "--> taking every  6 th image\n",
      "Reg_Avi_lung-sliding-3.MP4 framerate 18.0 width 512.0 height 512.0 number frames: 55.0\n",
      "--> taking every  6 th image\n",
      "Reg_Avi_lung-sliding.MP4 framerate 18.0 width 528.0 height 528.0 number frames: 56.0\n",
      "--> taking every  6 th image\n",
      "Reg_Butterfly_Normal Lung A lines.avi framerate 20.0 width 504.0 height 504.0 number frames: 25.0\n",
      "--> taking every  6 th image\n",
      "Reg_Butterfly_Normal Lung_Example 2.avi framerate 20.0 width 616.0 height 616.0 number frames: 99.0\n",
      "--> taking every  6 th image\n",
      "Reg_Image_181602_trimmed_crop.mp4 framerate 29.03790956871808 width 386.0 height 386.0 number frames: 374.0\n",
      "--> taking every  9 th image\n",
      "Reg_Image_181739_trimmed_crop.mp4 framerate 29.028603794958936 width 386.0 height 386.0 number frames: 104.0\n",
      "--> taking every  9 th image\n",
      "Reg_Image_182106_crop.mp4 framerate 31.15547489413188 width 382.0 height 382.0 number frames: 206.0\n",
      "--> taking every  10 th image\n",
      "Reg_Image_182340_crop.mp4 framerate 37.109587550331916 width 400.0 height 400.0 number frames: 309.0\n",
      "--> taking every  12 th image\n",
      "Reg_alines_advancesVid4.mp4 framerate 29.97 width 450.0 height 450.0 number frames: 177.0\n",
      "--> taking every  9 th image\n",
      "Reg_clinicalreview_mov1.mp4 framerate 50.0 width 346.0 height 346.0 number frames: 197.0\n",
      "--> taking every  16 th image\n",
      "Reg_liftl_case3_clip2.mp4 framerate 15.0 width 264.0 height 264.0 number frames: 32.0\n",
      "--> taking every  5 th image\n",
      "Reg_liftl_pneucase3_clip1.mp4 framerate 15.0 width 286.0 height 286.0 number frames: 24.0\n",
      "--> taking every  5 th image\n",
      "Reg_northumbria_0409_set3_vid1.avi framerate 22.249388753056234 width 470.0 height 470.0 number frames: 91.0\n",
      "--> taking every  7 th image\n",
      "Reg_northumbria_0409_set3_vid2.avi framerate 22.237994050148746 width 502.0 height 502.0 number frames: 94.0\n",
      "--> taking every  7 th image\n",
      "Reg_northumbria_0409_set5_vid1.avi framerate 50.25125628140704 width 605.0 height 497.0 number frames: 200.0\n",
      "--> taking every  16 th image\n",
      "Reg_northumbria_0409_set5_vid2.avi framerate 29.97002997002997 width 864.0 height 864.0 number frames: 98.0\n",
      "--> taking every  9 th image\n",
      "Reg_northumbria_1009_vid1.avi framerate 22.243713733075435 width 478.0 height 478.0 number frames: 92.0\n",
      "--> taking every  7 th image\n",
      "Reg_northumbria_1009_vid2.avi framerate 22.243713733075435 width 476.0 height 476.0 number frames: 92.0\n",
      "--> taking every  7 th image\n",
      "Reg_northumbria_1009_vid3.avi framerate 22.249388753056234 width 441.0 height 441.0 number frames: 91.0\n",
      "--> taking every  7 th image\n",
      "Reg_northumbria_1009_vid5.avi framerate 22.243482420473573 width 475.0 height 475.0 number frames: 93.0\n",
      "--> taking every  7 th image\n",
      "Reg_northumbria_1009_vid6.avi framerate 22.243482420473573 width 484.0 height 484.0 number frames: 93.0\n",
      "--> taking every  7 th image\n",
      "Reg_northumbria_1009_vid7.avi framerate 22.243713733075435 width 511.0 height 511.0 number frames: 92.0\n",
      "--> taking every  7 th image\n",
      "Reg_pat1Image_132943.mpeg framerate 25.0 width 370.0 height 370.0 number frames: 280.0\n",
      "--> taking every  8 th image\n",
      "Reg_pat1Image_133043.mpeg framerate 25.0 width 370.0 height 370.0 number frames: 245.0\n",
      "--> taking every  8 th image\n",
      "Reg_pat1Image_133138.mpeg framerate 25.0 width 370.0 height 370.0 number frames: 260.0\n",
      "--> taking every  8 th image\n",
      "Reg_pat1Image_133232.mpeg framerate 25.0 width 370.0 height 370.0 number frames: 199.0\n",
      "--> taking every  8 th image\n",
      "Reg_pat1Image_133327.mpeg framerate 25.0 width 370.0 height 370.0 number frames: 218.0\n",
      "--> taking every  8 th image\n",
      "Reg_pat1Image_133410.mpeg framerate 25.0 width 370.0 height 370.0 number frames: 182.0\n",
      "--> taking every  8 th image\n",
      "Reg_pat2Image_133824.mpeg framerate 25.0 width 370.0 height 370.0 number frames: 271.0\n",
      "--> taking every  8 th image\n",
      "Reg_pat2Image_133952.mpeg framerate 25.0 width 370.0 height 370.0 number frames: 254.0\n",
      "--> taking every  8 th image\n",
      "Reg_pat2Image_134138.mpeg framerate 25.0 width 370.0 height 370.0 number frames: 236.0\n",
      "--> taking every  8 th image\n",
      "Reg_pat2Image_134240.mpeg framerate 25.0 width 370.0 height 370.0 number frames: 254.0\n",
      "--> taking every  8 th image\n",
      "Reg_pat2Image_134348.mpeg framerate 25.0 width 370.0 height 370.0 number frames: 207.0\n",
      "--> taking every  8 th image\n",
      "Reg_pat2Image_134441.mpeg framerate 25.0 width 370.0 height 370.0 number frames: 214.0\n",
      "--> taking every  8 th image\n",
      "Reg_pat3Image_134711.mpeg framerate 25.0 width 370.0 height 370.0 number frames: 216.0\n",
      "--> taking every  8 th image\n",
      "Reg_pat3Image_134811.mpeg framerate 25.0 width 370.0 height 370.0 number frames: 206.0\n",
      "--> taking every  8 th image\n",
      "Reg_pat3Image_134904.mpeg framerate 25.0 width 370.0 height 370.0 number frames: 245.0\n",
      "--> taking every  8 th image\n",
      "Reg_pat3Image_135026.mpeg framerate 25.0 width 370.0 height 370.0 number frames: 278.0\n",
      "--> taking every  8 th image\n",
      "Reg_pat3Image_135128.mpeg framerate 25.0 width 370.0 height 370.0 number frames: 208.0\n",
      "--> taking every  8 th image\n",
      "Reg_pat3Image_135215.mpeg framerate 25.0 width 370.0 height 370.0 number frames: 317.0\n",
      "--> taking every  8 th image\n",
      "Reg_pat4Image_135904.mpeg framerate 25.0 width 370.0 height 370.0 number frames: 266.0\n",
      "--> taking every  8 th image\n",
      "Reg_pat4Image_140024.mpeg framerate 25.0 width 370.0 height 370.0 number frames: 436.0\n",
      "--> taking every  8 th image\n",
      "Reg_pat4Image_140238.mpeg framerate 25.0 width 370.0 height 370.0 number frames: 215.0\n",
      "--> taking every  8 th image\n",
      "Reg_pat4Image_140434.mpeg framerate 25.0 width 370.0 height 370.0 number frames: 323.0\n",
      "--> taking every  8 th image\n",
      "Reg_pat4Image_140606.mpeg framerate 25.0 width 370.0 height 370.0 number frames: 218.0\n",
      "--> taking every  8 th image\n",
      "Reg_pat4Image_140705.mpeg framerate 25.0 width 370.0 height 370.0 number frames: 266.0\n",
      "--> taking every  8 th image\n",
      "Reg_recommendations_alines_mov1.mov framerate 18.0 width 322.0 height 322.0 number frames: 180.0\n",
      "--> taking every  6 th image\n",
      "pneu-everyday.gif framerate 10.0 width 372.0 height 372.0 number frames: 62.0\n",
      "--> taking every  3 th image\n",
      "pneu-gred-6.gif framerate 8.166666666666666 width 197.0 height 197.0 number frames: 45.0\n",
      "--> taking every  2 th image\n",
      "pneu-gred-7.gif framerate 16.666666666666668 width 118.0 height 118.0 number frames: 48.0\n",
      "--> taking every  5 th image\n",
      "pneu-radiopaeda.mp4 framerate 30.0 width 221.0 height 236.0 number frames: 223.0\n",
      "--> taking every  10 th image\n",
      "split0 covid 17 252 4\n",
      "split0 pneumonia 13 190 4\n",
      "split0 regular 16 202 3\n",
      "split1 covid 17 278 3\n",
      "split1 pneumonia 13 96 4\n",
      "split1 regular 16 174 3\n",
      "split2 covid 16 247 3\n",
      "split2 pneumonia 13 91 4\n",
      "split2 regular 16 180 3\n",
      "split3 covid 16 266 4\n",
      "split3 pneumonia 13 124 4\n",
      "split3 regular 16 343 3\n",
      "split4 covid 16 205 4\n",
      "split4 pneumonia 17 203 4\n",
      "split4 regular 17 406 3\n",
      "Fine, every file is unique\n"
     ]
    }
   ],
   "source": [
    "# ! sh parse_butterfly.sh"
   ]
  },
  {
   "cell_type": "code",
   "execution_count": 8,
   "metadata": {
    "jupyter": {
     "source_hidden": true
    }
   },
   "outputs": [],
   "source": [
    "#! rm -rf butterfly\n",
    "#! rm -rf cross_validation\n",
    "#! rm -rf image_dataset"
   ]
  },
  {
   "cell_type": "markdown",
   "metadata": {},
   "source": [
    "## Unzip the original files\n",
    "This will give you the original files that did not processed.\n"
   ]
  },
  {
   "cell_type": "code",
   "execution_count": 9,
   "metadata": {},
   "outputs": [
    {
     "data": {
      "text/plain": [
       "'/home/Sean/PoCOVID/4real/covid19_pocus_ultrasound_pytorch/code/data'"
      ]
     },
     "execution_count": 9,
     "metadata": {},
     "output_type": "execute_result"
    }
   ],
   "source": [
    "%pwd"
   ]
  },
  {
   "cell_type": "code",
   "execution_count": 11,
   "metadata": {},
   "outputs": [
    {
     "name": "stderr",
     "output_type": "stream",
     "text": [
      "100%|██████████| 36/36 [00:00<00:00, 102.10it/s]\n"
     ]
    }
   ],
   "source": [
    "import zipfile\n",
    "from tqdm import tqdm\n",
    "\n",
    "with zipfile.ZipFile(\"/home/Sean/PoCOVID/4real/covid19_pocus_ultrasound_pytorch/code/data/Published -20210112T164653Z-001.zip\") as a:\n",
    "    for file in tqdm(iterable = a.namelist(), total = len(a.namelist())):\n",
    "        a.extract(member = file)"
   ]
  },
  {
   "cell_type": "markdown",
   "metadata": {},
   "source": [
    "## Butterfly Data Processing"
   ]
  },
  {
   "cell_type": "code",
   "execution_count": 73,
   "metadata": {
    "jupyter": {
     "source_hidden": true
    }
   },
   "outputs": [],
   "source": [
    "import cv2\n",
    "import torch\n",
    "import os\n",
    "import random\n",
    "import math\n",
    "import glob \n",
    "import pathlib\n",
    "import csv, PIL\n",
    "import time, zipfile\n",
    "import shutil\n",
    "\n",
    "import numpy as np\n",
    "import pandas as pd\n",
    "import matplotlib.pyplot as plt\n",
    "import matplotlib.image as mpimg\n",
    "import seaborn as sns\n",
    "\n",
    "from tqdm import tqdm\n",
    "from PIL import Image\n",
    "from os import listdir\n",
    "from torchvision import*\n",
    "\n",
    "%matplotlib inline"
   ]
  },
  {
   "cell_type": "code",
   "execution_count": 33,
   "metadata": {},
   "outputs": [
    {
     "name": "stdout",
     "output_type": "stream",
     "text": [
      "['Consolidation', 'Normal Lung', 'Irregular Pleural Line', 'B lines', 'Other', 'Cardiac Manifestations']\n"
     ]
    }
   ],
   "source": [
    "basepath = '/home/Sean/PoCOVID/4real/covid19_pocus_ultrasound_pytorch/code/data'\n",
    "print(os.listdir(basepath +'/Published/'))"
   ]
  },
  {
   "cell_type": "code",
   "execution_count": 32,
   "metadata": {},
   "outputs": [
    {
     "name": "stdout",
     "output_type": "stream",
     "text": [
      "The total number of the Data: 36\n"
     ]
    },
    {
     "data": {
      "text/plain": [
       "['/home/Sean/PoCOVID/4real/covid19_pocus_ultrasound_pytorch/code/data/Published/Consolidation/Subpleural consolidation.png',\n",
       " '/home/Sean/PoCOVID/4real/covid19_pocus_ultrasound_pytorch/code/data/Published/Consolidation/Consolidation_Example 5.mp4',\n",
       " '/home/Sean/PoCOVID/4real/covid19_pocus_ultrasound_pytorch/code/data/Published/Consolidation/Subpleural consolidation.mp4',\n",
       " '/home/Sean/PoCOVID/4real/covid19_pocus_ultrasound_pytorch/code/data/Published/Consolidation/Consolidation_Example 2.mp4',\n",
       " '/home/Sean/PoCOVID/4real/covid19_pocus_ultrasound_pytorch/code/data/Published/Consolidation/Consolidation_Example 4.mp4']"
      ]
     },
     "execution_count": 32,
     "metadata": {},
     "output_type": "execute_result"
    }
   ],
   "source": [
    "data_dir = basepath + '/Published'\n",
    "train_img  =  glob.glob(data_dir+os.sep+\"/*/*\")\n",
    "\n",
    "print(f\"The total number of the Data: {len(train_img)}\")\n",
    "train_img[:5]"
   ]
  },
  {
   "cell_type": "markdown",
   "metadata": {},
   "source": [
    "## 01 Video - Shutil\n",
    "Make a directory before apply shutil function."
   ]
  },
  {
   "cell_type": "code",
   "execution_count": 34,
   "metadata": {},
   "outputs": [],
   "source": [
    "path = basepath + \"/data_sets\"\n",
    "try: \n",
    "    os.mkdir(path) \n",
    "except OSError as error: \n",
    "    print(error)  "
   ]
  },
  {
   "cell_type": "code",
   "execution_count": 45,
   "metadata": {},
   "outputs": [
    {
     "data": {
      "text/plain": [
       "('B-line', 'Effusion', 'Consolidation', 'Normal')"
      ]
     },
     "execution_count": 45,
     "metadata": {},
     "output_type": "execute_result"
    }
   ],
   "source": [
    "directory = \"B-line\", \"Effusion\" , \"Consolidation\", \"Normal\"\n",
    "directory"
   ]
  },
  {
   "cell_type": "code",
   "execution_count": 49,
   "metadata": {},
   "outputs": [
    {
     "data": {
      "text/plain": [
       "['/home/Sean/PoCOVID/4real/covid19_pocus_ultrasound_pytorch/code/data/data_sets/B-line',\n",
       " '/home/Sean/PoCOVID/4real/covid19_pocus_ultrasound_pytorch/code/data/data_sets/Effusion',\n",
       " '/home/Sean/PoCOVID/4real/covid19_pocus_ultrasound_pytorch/code/data/data_sets/Consolidation',\n",
       " '/home/Sean/PoCOVID/4real/covid19_pocus_ultrasound_pytorch/code/data/data_sets/Normal']"
      ]
     },
     "execution_count": 49,
     "metadata": {},
     "output_type": "execute_result"
    }
   ],
   "source": [
    "subpath = []\n",
    "\n",
    "for i in directory:\n",
    "    subpath.append(path + \"/\" + i)\n",
    "    \n",
    "subpath # this will be used for shutil destination"
   ]
  },
  {
   "cell_type": "code",
   "execution_count": 60,
   "metadata": {},
   "outputs": [
    {
     "name": "stdout",
     "output_type": "stream",
     "text": [
      "['B-line', 'Effusion', 'Consolidation', 'Normal']\n"
     ]
    }
   ],
   "source": [
    "for folders in subpath:\n",
    "    os.mkdir(folders)\n",
    "    \n",
    "print(os.listdir(path +'/'))"
   ]
  },
  {
   "cell_type": "code",
   "execution_count": 63,
   "metadata": {},
   "outputs": [
    {
     "data": {
      "text/plain": [
       "'/home/Sean/PoCOVID/4real/covid19_pocus_ultrasound_pytorch/code/data/data_sets/Consolidation'"
      ]
     },
     "execution_count": 63,
     "metadata": {},
     "output_type": "execute_result"
    }
   ],
   "source": [
    "subpath[2]"
   ]
  },
  {
   "cell_type": "markdown",
   "metadata": {},
   "source": [
    "#### 01 Butterfly Consolidation\n"
   ]
  },
  {
   "cell_type": "code",
   "execution_count": 71,
   "metadata": {
    "collapsed": true,
    "jupyter": {
     "outputs_hidden": true
    }
   },
   "outputs": [
    {
     "data": {
      "text/plain": [
       "['/home/Sean/PoCOVID/4real/covid19_pocus_ultrasound_pytorch/code/data/Published/Consolidation/Subpleural consolidation.png',\n",
       " '/home/Sean/PoCOVID/4real/covid19_pocus_ultrasound_pytorch/code/data/Published/Consolidation/Consolidation_Example 5.mp4',\n",
       " '/home/Sean/PoCOVID/4real/covid19_pocus_ultrasound_pytorch/code/data/Published/Consolidation/Subpleural consolidation.mp4',\n",
       " '/home/Sean/PoCOVID/4real/covid19_pocus_ultrasound_pytorch/code/data/Published/Consolidation/Consolidation_Example 2.mp4',\n",
       " '/home/Sean/PoCOVID/4real/covid19_pocus_ultrasound_pytorch/code/data/Published/Consolidation/Consolidation_Example 4.mp4',\n",
       " '/home/Sean/PoCOVID/4real/covid19_pocus_ultrasound_pytorch/code/data/Published/Consolidation/Consolidation_Example 3.mp4',\n",
       " '/home/Sean/PoCOVID/4real/covid19_pocus_ultrasound_pytorch/code/data/Published/Consolidation/Consolidation.mp4',\n",
       " '/home/Sean/PoCOVID/4real/covid19_pocus_ultrasound_pytorch/code/data/Published/Consolidation/Subpleural Basal Consolidation.mp4',\n",
       " '/home/Sean/PoCOVID/4real/covid19_pocus_ultrasound_pytorch/code/data/Published/Consolidation/Subpleural Basal Consolidation_Example 2.mp4',\n",
       " '/home/Sean/PoCOVID/4real/covid19_pocus_ultrasound_pytorch/code/data/Published/Consolidation/Consolidation with Air Bronchograms.mp4']"
      ]
     },
     "execution_count": 71,
     "metadata": {},
     "output_type": "execute_result"
    }
   ],
   "source": [
    "cons_img  =  glob.glob(data_dir+os.sep+\"Consolidation/*\")\n",
    "cons_img[:]"
   ]
  },
  {
   "cell_type": "code",
   "execution_count": 74,
   "metadata": {},
   "outputs": [
    {
     "name": "stdout",
     "output_type": "stream",
     "text": [
      "10 files are copied\n"
     ]
    }
   ],
   "source": [
    "files = cons_img\n",
    "dest_dir3 = subpath[2]\n",
    "\n",
    "for j in files:\n",
    "    if os.path.isfile(j):\n",
    "        shutil.move(j, dest_dir3)\n",
    "\n",
    "Newdir3 = glob.glob(dest_dir3+os.sep+\"/*\")\n",
    "print('{} files are copied'.format(len(Newdir3)))"
   ]
  },
  {
   "cell_type": "markdown",
   "metadata": {},
   "source": [
    "#### 02 Butterfly B-line"
   ]
  },
  {
   "cell_type": "code",
   "execution_count": 76,
   "metadata": {},
   "outputs": [
    {
     "name": "stdout",
     "output_type": "stream",
     "text": [
      "8 files are copied\n"
     ]
    }
   ],
   "source": [
    "bline_img  =  glob.glob(data_dir+os.sep+\"B lines/*\")\n",
    "\n",
    "for i in bline_img:\n",
    "    if os.path.isfile(i):\n",
    "        shutil.move(i, subpath[1])\n",
    "\n",
    "checker = glob.glob(subpath[1]+os.sep+\"/*\")\n",
    "print('{} files are copied'.format(len(checker)))"
   ]
  },
  {
   "cell_type": "markdown",
   "metadata": {},
   "source": [
    "#### 03 Butterfly normal"
   ]
  },
  {
   "cell_type": "code",
   "execution_count": 78,
   "metadata": {},
   "outputs": [
    {
     "data": {
      "text/plain": [
       "'/home/Sean/PoCOVID/4real/covid19_pocus_ultrasound_pytorch/code/data/data_sets/Normal'"
      ]
     },
     "execution_count": 78,
     "metadata": {},
     "output_type": "execute_result"
    }
   ],
   "source": [
    "subpath[3]"
   ]
  },
  {
   "cell_type": "code",
   "execution_count": 80,
   "metadata": {},
   "outputs": [
    {
     "name": "stdout",
     "output_type": "stream",
     "text": [
      "2 files are copied\n"
     ]
    }
   ],
   "source": [
    "norm_img  =  glob.glob(data_dir+os.sep+\"Normal Lung/*\")\n",
    "\n",
    "for i in norm_img:\n",
    "    if os.path.isfile(i):\n",
    "        shutil.move(i, subpath[3])\n",
    "        \n",
    "checker = glob.glob(subpath[3]+os.sep+\"/*\")\n",
    "print('{} files are copied'.format(len(checker)))"
   ]
  },
  {
   "cell_type": "markdown",
   "metadata": {},
   "source": [
    "#### 04 Effusion"
   ]
  },
  {
   "cell_type": "code",
   "execution_count": 81,
   "metadata": {
    "collapsed": true,
    "jupyter": {
     "outputs_hidden": true,
     "source_hidden": true
    }
   },
   "outputs": [
    {
     "data": {
      "text/html": [
       "<div>\n",
       "<style scoped>\n",
       "    .dataframe tbody tr th:only-of-type {\n",
       "        vertical-align: middle;\n",
       "    }\n",
       "\n",
       "    .dataframe tbody tr th {\n",
       "        vertical-align: top;\n",
       "    }\n",
       "\n",
       "    .dataframe thead th {\n",
       "        text-align: right;\n",
       "    }\n",
       "</style>\n",
       "<table border=\"1\" class=\"dataframe\">\n",
       "  <thead>\n",
       "    <tr style=\"text-align: right;\">\n",
       "      <th></th>\n",
       "      <th>Current location</th>\n",
       "      <th>Filename</th>\n",
       "      <th>Label</th>\n",
       "      <th>Effusion</th>\n",
       "      <th>Consolidations</th>\n",
       "      <th>B-lines</th>\n",
       "      <th>Healthy</th>\n",
       "    </tr>\n",
       "  </thead>\n",
       "  <tbody>\n",
       "    <tr>\n",
       "      <th>0</th>\n",
       "      <td>butterfly</td>\n",
       "      <td>Cov-Butterfly-COVID Lung 2</td>\n",
       "      <td>COVID-19</td>\n",
       "      <td>1</td>\n",
       "      <td>0</td>\n",
       "      <td>1</td>\n",
       "      <td>0</td>\n",
       "    </tr>\n",
       "    <tr>\n",
       "      <th>1</th>\n",
       "      <td>butterfly</td>\n",
       "      <td>Cov-Butterfly-Skip Lesion</td>\n",
       "      <td>COVID-19</td>\n",
       "      <td>0</td>\n",
       "      <td>1</td>\n",
       "      <td>1</td>\n",
       "      <td>0</td>\n",
       "    </tr>\n",
       "    <tr>\n",
       "      <th>2</th>\n",
       "      <td>butterfly</td>\n",
       "      <td>Cov-Butterfly-Confluent B lines</td>\n",
       "      <td>COVID-19</td>\n",
       "      <td>0</td>\n",
       "      <td>0</td>\n",
       "      <td>1</td>\n",
       "      <td>0</td>\n",
       "    </tr>\n",
       "    <tr>\n",
       "      <th>3</th>\n",
       "      <td>butterfly</td>\n",
       "      <td>Reg-Butterfly-Normal Lung A lines</td>\n",
       "      <td>regular</td>\n",
       "      <td>0</td>\n",
       "      <td>0</td>\n",
       "      <td>0</td>\n",
       "      <td>1</td>\n",
       "    </tr>\n",
       "    <tr>\n",
       "      <th>4</th>\n",
       "      <td>butterfly</td>\n",
       "      <td>Reg-Butterfly-Normal Lung_Example 2</td>\n",
       "      <td>regular</td>\n",
       "      <td>0</td>\n",
       "      <td>0</td>\n",
       "      <td>0</td>\n",
       "      <td>1</td>\n",
       "    </tr>\n",
       "  </tbody>\n",
       "</table>\n",
       "</div>"
      ],
      "text/plain": [
       "  Current location                             Filename     Label  Effusion  \\\n",
       "0        butterfly           Cov-Butterfly-COVID Lung 2  COVID-19         1   \n",
       "1        butterfly            Cov-Butterfly-Skip Lesion  COVID-19         0   \n",
       "2        butterfly      Cov-Butterfly-Confluent B lines  COVID-19         0   \n",
       "3        butterfly    Reg-Butterfly-Normal Lung A lines   regular         0   \n",
       "4        butterfly  Reg-Butterfly-Normal Lung_Example 2   regular         0   \n",
       "\n",
       "   Consolidations  B-lines  Healthy  \n",
       "0               0        1        0  \n",
       "1               1        1        0  \n",
       "2               0        1        0  \n",
       "3               0        0        1  \n",
       "4               0        0        1  "
      ]
     },
     "execution_count": 81,
     "metadata": {},
     "output_type": "execute_result"
    }
   ],
   "source": [
    "butter_df = pd.read_csv('/home/Sean/PoCOVID/4real/covid19_pocus_ultrasound_pytorch/code/data/butterfly_csv.csv')\n",
    "butter_df.head()"
   ]
  },
  {
   "cell_type": "code",
   "execution_count": 86,
   "metadata": {
    "collapsed": true,
    "jupyter": {
     "outputs_hidden": true,
     "source_hidden": true
    }
   },
   "outputs": [
    {
     "data": {
      "text/plain": [
       "Healthy\n",
       "0    17\n",
       "1     3\n",
       "dtype: int64"
      ]
     },
     "execution_count": 86,
     "metadata": {},
     "output_type": "execute_result"
    },
    {
     "data": {
      "image/png": "[encoded data removed]",
      "text/plain": [
       "<Figure size 432x288 with 1 Axes>"
      ]
     },
     "metadata": {
      "needs_background": "light"
     },
     "output_type": "display_data"
    }
   ],
   "source": [
    "sns.countplot(x = 'Healthy', data=butter_df)\n",
    "butter_df.value_counts('Healthy')"
   ]
  },
  {
   "cell_type": "code",
   "execution_count": 85,
   "metadata": {
    "collapsed": true,
    "jupyter": {
     "outputs_hidden": true,
     "source_hidden": true
    }
   },
   "outputs": [
    {
     "data": {
      "text/plain": [
       "Effusion\n",
       "0    19\n",
       "1     1\n",
       "dtype: int64"
      ]
     },
     "execution_count": 85,
     "metadata": {},
     "output_type": "execute_result"
    },
    {
     "data": {
      "image/png": "[encoded data removed]",
      "text/plain": [
       "<Figure size 432x288 with 1 Axes>"
      ]
     },
     "metadata": {
      "needs_background": "light"
     },
     "output_type": "display_data"
    }
   ],
   "source": [
    "sns.countplot(x = 'Effusion', data=butter_df)\n",
    "butter_df.value_counts('Effusion')"
   ]
  },
  {
   "cell_type": "code",
   "execution_count": 96,
   "metadata": {
    "collapsed": true,
    "jupyter": {
     "outputs_hidden": true,
     "source_hidden": true
    }
   },
   "outputs": [
    {
     "data": {
      "text/html": [
       "<div>\n",
       "<style scoped>\n",
       "    .dataframe tbody tr th:only-of-type {\n",
       "        vertical-align: middle;\n",
       "    }\n",
       "\n",
       "    .dataframe tbody tr th {\n",
       "        vertical-align: top;\n",
       "    }\n",
       "\n",
       "    .dataframe thead th {\n",
       "        text-align: right;\n",
       "    }\n",
       "</style>\n",
       "<table border=\"1\" class=\"dataframe\">\n",
       "  <thead>\n",
       "    <tr style=\"text-align: right;\">\n",
       "      <th></th>\n",
       "      <th>Filename</th>\n",
       "      <th>Effusion</th>\n",
       "    </tr>\n",
       "  </thead>\n",
       "  <tbody>\n",
       "    <tr>\n",
       "      <th>0</th>\n",
       "      <td>Cov-Butterfly-COVID Lung 2</td>\n",
       "      <td>1</td>\n",
       "    </tr>\n",
       "    <tr>\n",
       "      <th>1</th>\n",
       "      <td>Cov-Butterfly-Skip Lesion</td>\n",
       "      <td>0</td>\n",
       "    </tr>\n",
       "    <tr>\n",
       "      <th>2</th>\n",
       "      <td>Cov-Butterfly-Confluent B lines</td>\n",
       "      <td>0</td>\n",
       "    </tr>\n",
       "    <tr>\n",
       "      <th>3</th>\n",
       "      <td>Reg-Butterfly-Normal Lung A lines</td>\n",
       "      <td>0</td>\n",
       "    </tr>\n",
       "    <tr>\n",
       "      <th>4</th>\n",
       "      <td>Reg-Butterfly-Normal Lung_Example 2</td>\n",
       "      <td>0</td>\n",
       "    </tr>\n",
       "    <tr>\n",
       "      <th>5</th>\n",
       "      <td>Cov-Butterfly-Coalescing B lines</td>\n",
       "      <td>0</td>\n",
       "    </tr>\n",
       "    <tr>\n",
       "      <th>6</th>\n",
       "      <td>Subpleural Basal Consolidation_Example 2</td>\n",
       "      <td>0</td>\n",
       "    </tr>\n",
       "    <tr>\n",
       "      <th>7</th>\n",
       "      <td>Cov-Butterfly-Consolidation with Air Bronchograms</td>\n",
       "      <td>0</td>\n",
       "    </tr>\n",
       "    <tr>\n",
       "      <th>8</th>\n",
       "      <td>Cov-Butterfly-Consolidation</td>\n",
       "      <td>0</td>\n",
       "    </tr>\n",
       "    <tr>\n",
       "      <th>9</th>\n",
       "      <td>Cov-Butterfly-Consolidation_Example 2</td>\n",
       "      <td>0</td>\n",
       "    </tr>\n",
       "    <tr>\n",
       "      <th>10</th>\n",
       "      <td>Cov-Butterfly-Consolidation_Example 3</td>\n",
       "      <td>0</td>\n",
       "    </tr>\n",
       "    <tr>\n",
       "      <th>11</th>\n",
       "      <td>Cov-Butterfly-Consolidation_Example 5</td>\n",
       "      <td>0</td>\n",
       "    </tr>\n",
       "    <tr>\n",
       "      <th>12</th>\n",
       "      <td>Cov-Butterfly-Irregular Pleura and Coalescent ...</td>\n",
       "      <td>0</td>\n",
       "    </tr>\n",
       "    <tr>\n",
       "      <th>13</th>\n",
       "      <td>Cov-Butterfly-Irregular Pleura with Confluent ...</td>\n",
       "      <td>0</td>\n",
       "    </tr>\n",
       "    <tr>\n",
       "      <th>14</th>\n",
       "      <td>Cov-Butterfly-Irregular Pleura with Multiple B...</td>\n",
       "      <td>0</td>\n",
       "    </tr>\n",
       "    <tr>\n",
       "      <th>15</th>\n",
       "      <td>Cov-Butterfly-Irregular Pleural Line</td>\n",
       "      <td>0</td>\n",
       "    </tr>\n",
       "    <tr>\n",
       "      <th>16</th>\n",
       "      <td>Cov-Butterfly-Irregular Pleural Line_Example 2</td>\n",
       "      <td>0</td>\n",
       "    </tr>\n",
       "    <tr>\n",
       "      <th>17</th>\n",
       "      <td>Cov-Butterfly-Patchy B lines with Sparing</td>\n",
       "      <td>0</td>\n",
       "    </tr>\n",
       "    <tr>\n",
       "      <th>18</th>\n",
       "      <td>Cov-Butterfly-Subpleural Basal Consolidation</td>\n",
       "      <td>0</td>\n",
       "    </tr>\n",
       "    <tr>\n",
       "      <th>19</th>\n",
       "      <td>Cov-Butterfly-Subpleural Basal Consolidation_E...</td>\n",
       "      <td>0</td>\n",
       "    </tr>\n",
       "  </tbody>\n",
       "</table>\n",
       "</div>"
      ],
      "text/plain": [
       "                                             Filename  Effusion\n",
       "0                          Cov-Butterfly-COVID Lung 2         1\n",
       "1                           Cov-Butterfly-Skip Lesion         0\n",
       "2                     Cov-Butterfly-Confluent B lines         0\n",
       "3                   Reg-Butterfly-Normal Lung A lines         0\n",
       "4                 Reg-Butterfly-Normal Lung_Example 2         0\n",
       "5                    Cov-Butterfly-Coalescing B lines         0\n",
       "6            Subpleural Basal Consolidation_Example 2         0\n",
       "7   Cov-Butterfly-Consolidation with Air Bronchograms         0\n",
       "8                         Cov-Butterfly-Consolidation         0\n",
       "9               Cov-Butterfly-Consolidation_Example 2         0\n",
       "10              Cov-Butterfly-Consolidation_Example 3         0\n",
       "11              Cov-Butterfly-Consolidation_Example 5         0\n",
       "12  Cov-Butterfly-Irregular Pleura and Coalescent ...         0\n",
       "13  Cov-Butterfly-Irregular Pleura with Confluent ...         0\n",
       "14  Cov-Butterfly-Irregular Pleura with Multiple B...         0\n",
       "15               Cov-Butterfly-Irregular Pleural Line         0\n",
       "16     Cov-Butterfly-Irregular Pleural Line_Example 2         0\n",
       "17          Cov-Butterfly-Patchy B lines with Sparing         0\n",
       "18       Cov-Butterfly-Subpleural Basal Consolidation         0\n",
       "19  Cov-Butterfly-Subpleural Basal Consolidation_E...         0"
      ]
     },
     "execution_count": 96,
     "metadata": {},
     "output_type": "execute_result"
    }
   ],
   "source": [
    "columns = [\"Filename\", \"Effusion\"]\n",
    "eff_img = butter_df.reindex(columns=columns)\n",
    "eff_img"
   ]
  },
  {
   "cell_type": "code",
   "execution_count": 104,
   "metadata": {
    "jupyter": {
     "source_hidden": true
    }
   },
   "outputs": [
    {
     "data": {
      "text/plain": [
       "['Cov-Butterfly-COVID Lung 2']"
      ]
     },
     "execution_count": 104,
     "metadata": {},
     "output_type": "execute_result"
    }
   ],
   "source": [
    "eff_i = eff_img.Filename.tolist()\n",
    "eff_i[:1]"
   ]
  },
  {
   "cell_type": "code",
   "execution_count": 118,
   "metadata": {},
   "outputs": [
    {
     "name": "stdout",
     "output_type": "stream",
     "text": [
      "4 files are copied\n"
     ]
    }
   ],
   "source": [
    "Effusion_img  =  glob.glob(data_dir+os.sep+\"/Other/*\" )\n",
    "\n",
    "for i in Effusion_img:\n",
    "    if os.path.isfile(i):\n",
    "        shutil.move(i, subpath[1])\n",
    "        \n",
    "checker = glob.glob(subpath[1]+os.sep+\"/*\")\n",
    "print('{} files are copied'.format(len(checker)))"
   ]
  },
  {
   "cell_type": "markdown",
   "metadata": {},
   "source": [
    "#### 05 Total Video"
   ]
  },
  {
   "cell_type": "code",
   "execution_count": 121,
   "metadata": {},
   "outputs": [
    {
     "data": {
      "text/plain": [
       "'/home/Sean/PoCOVID/4real/covid19_pocus_ultrasound_pytorch/code/data/data_sets'"
      ]
     },
     "execution_count": 121,
     "metadata": {},
     "output_type": "execute_result"
    }
   ],
   "source": [
    "path"
   ]
  },
  {
   "cell_type": "code",
   "execution_count": 125,
   "metadata": {},
   "outputs": [
    {
     "name": "stdout",
     "output_type": "stream",
     "text": [
      "The Total 24 Videos have been moved.\n"
     ]
    }
   ],
   "source": [
    "total_img  =  glob.glob(path+os.sep+\"/*/*\")\n",
    "print(\"The Total\", len(total_img), \"Videos have been moved.\")"
   ]
  },
  {
   "cell_type": "markdown",
   "metadata": {},
   "source": [
    "## 02 Jpg, PNG - Shutil\n"
   ]
  },
  {
   "cell_type": "code",
   "execution_count": 130,
   "metadata": {},
   "outputs": [
    {
     "data": {
      "text/html": [
       "<div>\n",
       "<style scoped>\n",
       "    .dataframe tbody tr th:only-of-type {\n",
       "        vertical-align: middle;\n",
       "    }\n",
       "\n",
       "    .dataframe tbody tr th {\n",
       "        vertical-align: top;\n",
       "    }\n",
       "\n",
       "    .dataframe thead th {\n",
       "        text-align: right;\n",
       "    }\n",
       "</style>\n",
       "<table border=\"1\" class=\"dataframe\">\n",
       "  <thead>\n",
       "    <tr style=\"text-align: right;\">\n",
       "      <th></th>\n",
       "      <th>Current_location</th>\n",
       "      <th>Filename</th>\n",
       "      <th>Label</th>\n",
       "      <th>Effusion</th>\n",
       "      <th>Consolidations</th>\n",
       "      <th>B-lines</th>\n",
       "      <th>Healthy</th>\n",
       "    </tr>\n",
       "  </thead>\n",
       "  <tbody>\n",
       "    <tr>\n",
       "      <th>0</th>\n",
       "      <td>pocus_videos/Convex</td>\n",
       "      <td>Cov-Atlas+(44)</td>\n",
       "      <td>COVID-19</td>\n",
       "      <td>0</td>\n",
       "      <td>1</td>\n",
       "      <td>0</td>\n",
       "      <td>0</td>\n",
       "    </tr>\n",
       "    <tr>\n",
       "      <th>1</th>\n",
       "      <td>pocus_videos/Convex</td>\n",
       "      <td>Cov-Atlas-Day+2</td>\n",
       "      <td>COVID-19</td>\n",
       "      <td>1</td>\n",
       "      <td>1</td>\n",
       "      <td>1</td>\n",
       "      <td>0</td>\n",
       "    </tr>\n",
       "    <tr>\n",
       "      <th>2</th>\n",
       "      <td>pocus_videos/Convex</td>\n",
       "      <td>Cov-Atlas-Day+4</td>\n",
       "      <td>COVID-19</td>\n",
       "      <td>1</td>\n",
       "      <td>1</td>\n",
       "      <td>0</td>\n",
       "      <td>0</td>\n",
       "    </tr>\n",
       "    <tr>\n",
       "      <th>3</th>\n",
       "      <td>pocus_videos/Convex</td>\n",
       "      <td>Pneu-Atlas-pneumonia</td>\n",
       "      <td>Bacterial pneumonia</td>\n",
       "      <td>1</td>\n",
       "      <td>1</td>\n",
       "      <td>1</td>\n",
       "      <td>0</td>\n",
       "    </tr>\n",
       "    <tr>\n",
       "      <th>4</th>\n",
       "      <td>pocus_videos/Convex</td>\n",
       "      <td>Reg-Atlas-lungcurtain</td>\n",
       "      <td>regular</td>\n",
       "      <td>0</td>\n",
       "      <td>0</td>\n",
       "      <td>0</td>\n",
       "      <td>1</td>\n",
       "    </tr>\n",
       "  </tbody>\n",
       "</table>\n",
       "</div>"
      ],
      "text/plain": [
       "      Current_location               Filename                Label  Effusion  \\\n",
       "0  pocus_videos/Convex         Cov-Atlas+(44)             COVID-19         0   \n",
       "1  pocus_videos/Convex        Cov-Atlas-Day+2             COVID-19         1   \n",
       "2  pocus_videos/Convex        Cov-Atlas-Day+4             COVID-19         1   \n",
       "3  pocus_videos/Convex   Pneu-Atlas-pneumonia  Bacterial pneumonia         1   \n",
       "4  pocus_videos/Convex  Reg-Atlas-lungcurtain              regular         0   \n",
       "\n",
       "   Consolidations  B-lines  Healthy  \n",
       "0               1        0        0  \n",
       "1               1        1        0  \n",
       "2               1        0        0  \n",
       "3               1        1        0  \n",
       "4               0        0        1  "
      ]
     },
     "execution_count": 130,
     "metadata": {},
     "output_type": "execute_result"
    }
   ],
   "source": [
    "pocovid_df = pd.read_csv('/home/Sean/PoCOVID/4real/covid19_pocus_ultrasound_pytorch/code/data/meta_data.csv')\n",
    "pocovid_df.head()"
   ]
  },
  {
   "cell_type": "code",
   "execution_count": 131,
   "metadata": {},
   "outputs": [
    {
     "data": {
      "text/plain": [
       "'/home/Sean/PoCOVID/4real/covid19_pocus_ultrasound_pytorch/code/data'"
      ]
     },
     "execution_count": 131,
     "metadata": {},
     "output_type": "execute_result"
    }
   ],
   "source": [
    "%pwd"
   ]
  },
  {
   "cell_type": "code",
   "execution_count": 132,
   "metadata": {},
   "outputs": [
    {
     "data": {
      "text/html": [
       "<div>\n",
       "<style scoped>\n",
       "    .dataframe tbody tr th:only-of-type {\n",
       "        vertical-align: middle;\n",
       "    }\n",
       "\n",
       "    .dataframe tbody tr th {\n",
       "        vertical-align: top;\n",
       "    }\n",
       "\n",
       "    .dataframe thead th {\n",
       "        text-align: right;\n",
       "    }\n",
       "</style>\n",
       "<table border=\"1\" class=\"dataframe\">\n",
       "  <thead>\n",
       "    <tr style=\"text-align: right;\">\n",
       "      <th></th>\n",
       "      <th>Current_location</th>\n",
       "      <th>Filename</th>\n",
       "      <th>Label</th>\n",
       "      <th>Effusion</th>\n",
       "      <th>Consolidations</th>\n",
       "      <th>B-lines</th>\n",
       "      <th>Healthy</th>\n",
       "      <th>image_path</th>\n",
       "    </tr>\n",
       "  </thead>\n",
       "  <tbody>\n",
       "    <tr>\n",
       "      <th>0</th>\n",
       "      <td>pocus_videos/Convex</td>\n",
       "      <td>Cov-Atlas+(44)</td>\n",
       "      <td>COVID-19</td>\n",
       "      <td>0</td>\n",
       "      <td>1</td>\n",
       "      <td>0</td>\n",
       "      <td>0</td>\n",
       "      <td>/home/Sean/PoCOVID/4real/covid19_pocus_ultraso...</td>\n",
       "    </tr>\n",
       "    <tr>\n",
       "      <th>1</th>\n",
       "      <td>pocus_videos/Convex</td>\n",
       "      <td>Cov-Atlas-Day+2</td>\n",
       "      <td>COVID-19</td>\n",
       "      <td>1</td>\n",
       "      <td>1</td>\n",
       "      <td>1</td>\n",
       "      <td>0</td>\n",
       "      <td>/home/Sean/PoCOVID/4real/covid19_pocus_ultraso...</td>\n",
       "    </tr>\n",
       "    <tr>\n",
       "      <th>2</th>\n",
       "      <td>pocus_videos/Convex</td>\n",
       "      <td>Cov-Atlas-Day+4</td>\n",
       "      <td>COVID-19</td>\n",
       "      <td>1</td>\n",
       "      <td>1</td>\n",
       "      <td>0</td>\n",
       "      <td>0</td>\n",
       "      <td>/home/Sean/PoCOVID/4real/covid19_pocus_ultraso...</td>\n",
       "    </tr>\n",
       "    <tr>\n",
       "      <th>3</th>\n",
       "      <td>pocus_videos/Convex</td>\n",
       "      <td>Pneu-Atlas-pneumonia</td>\n",
       "      <td>Bacterial pneumonia</td>\n",
       "      <td>1</td>\n",
       "      <td>1</td>\n",
       "      <td>1</td>\n",
       "      <td>0</td>\n",
       "      <td>/home/Sean/PoCOVID/4real/covid19_pocus_ultraso...</td>\n",
       "    </tr>\n",
       "    <tr>\n",
       "      <th>4</th>\n",
       "      <td>pocus_videos/Convex</td>\n",
       "      <td>Reg-Atlas-lungcurtain</td>\n",
       "      <td>regular</td>\n",
       "      <td>0</td>\n",
       "      <td>0</td>\n",
       "      <td>0</td>\n",
       "      <td>1</td>\n",
       "      <td>/home/Sean/PoCOVID/4real/covid19_pocus_ultraso...</td>\n",
       "    </tr>\n",
       "  </tbody>\n",
       "</table>\n",
       "</div>"
      ],
      "text/plain": [
       "      Current_location               Filename                Label  Effusion  \\\n",
       "0  pocus_videos/Convex         Cov-Atlas+(44)             COVID-19         0   \n",
       "1  pocus_videos/Convex        Cov-Atlas-Day+2             COVID-19         1   \n",
       "2  pocus_videos/Convex        Cov-Atlas-Day+4             COVID-19         1   \n",
       "3  pocus_videos/Convex   Pneu-Atlas-pneumonia  Bacterial pneumonia         1   \n",
       "4  pocus_videos/Convex  Reg-Atlas-lungcurtain              regular         0   \n",
       "\n",
       "   Consolidations  B-lines  Healthy  \\\n",
       "0               1        0        0   \n",
       "1               1        1        0   \n",
       "2               1        0        0   \n",
       "3               1        1        0   \n",
       "4               0        0        1   \n",
       "\n",
       "                                          image_path  \n",
       "0  /home/Sean/PoCOVID/4real/covid19_pocus_ultraso...  \n",
       "1  /home/Sean/PoCOVID/4real/covid19_pocus_ultraso...  \n",
       "2  /home/Sean/PoCOVID/4real/covid19_pocus_ultraso...  \n",
       "3  /home/Sean/PoCOVID/4real/covid19_pocus_ultraso...  \n",
       "4  /home/Sean/PoCOVID/4real/covid19_pocus_ultraso...  "
      ]
     },
     "execution_count": 132,
     "metadata": {},
     "output_type": "execute_result"
    }
   ],
   "source": [
    "pocovid_df['image_path'] = f'/home/Sean/PoCOVID/4real/covid19_pocus_ultrasound_pytorch/code/data/' + pocovid_df.Current_location + '/' + pocovid_df.Filename\n",
    "pocovid_df.head()"
   ]
  },
  {
   "cell_type": "code",
   "execution_count": 137,
   "metadata": {},
   "outputs": [
    {
     "data": {
      "text/html": [
       "<div>\n",
       "<style scoped>\n",
       "    .dataframe tbody tr th:only-of-type {\n",
       "        vertical-align: middle;\n",
       "    }\n",
       "\n",
       "    .dataframe tbody tr th {\n",
       "        vertical-align: top;\n",
       "    }\n",
       "\n",
       "    .dataframe thead th {\n",
       "        text-align: right;\n",
       "    }\n",
       "</style>\n",
       "<table border=\"1\" class=\"dataframe\">\n",
       "  <thead>\n",
       "    <tr style=\"text-align: right;\">\n",
       "      <th></th>\n",
       "      <th>image_path</th>\n",
       "      <th>Effusion</th>\n",
       "    </tr>\n",
       "  </thead>\n",
       "  <tbody>\n",
       "    <tr>\n",
       "      <th>0</th>\n",
       "      <td>/home/Sean/PoCOVID/4real/covid19_pocus_ultraso...</td>\n",
       "      <td>0</td>\n",
       "    </tr>\n",
       "    <tr>\n",
       "      <th>1</th>\n",
       "      <td>/home/Sean/PoCOVID/4real/covid19_pocus_ultraso...</td>\n",
       "      <td>1</td>\n",
       "    </tr>\n",
       "  </tbody>\n",
       "</table>\n",
       "</div>"
      ],
      "text/plain": [
       "                                          image_path  Effusion\n",
       "0  /home/Sean/PoCOVID/4real/covid19_pocus_ultraso...         0\n",
       "1  /home/Sean/PoCOVID/4real/covid19_pocus_ultraso...         1"
      ]
     },
     "execution_count": 137,
     "metadata": {},
     "output_type": "execute_result"
    }
   ],
   "source": [
    "Effusion_df = pocovid_df[['image_path', 'Effusion']]\n",
    "Effusion_df[:2]"
   ]
  },
  {
   "cell_type": "code",
   "execution_count": 138,
   "metadata": {},
   "outputs": [
    {
     "data": {
      "text/plain": [
       "Effusion\n",
       "0    173\n",
       "1     35\n",
       "dtype: int64"
      ]
     },
     "execution_count": 138,
     "metadata": {},
     "output_type": "execute_result"
    },
    {
     "data": {
      "image/png": "[encoded data removed]",
      "text/plain": [
       "<Figure size 432x288 with 1 Axes>"
      ]
     },
     "metadata": {
      "needs_background": "light"
     },
     "output_type": "display_data"
    }
   ],
   "source": [
    "sns.countplot(x = 'Effusion', data=Effusion_df)\n",
    "Effusion_df.value_counts('Effusion')"
   ]
  },
  {
   "cell_type": "code",
   "execution_count": null,
   "metadata": {},
   "outputs": [],
   "source": []
  }
 ],
 "metadata": {
  "kernelspec": {
   "display_name": "Python 3",
   "language": "python",
   "name": "python3"
  },
  "language_info": {
   "codemirror_mode": {
    "name": "ipython",
    "version": 3
   },
   "file_extension": ".py",
   "mimetype": "text/x-python",
   "name": "python",
   "nbconvert_exporter": "python",
   "pygments_lexer": "ipython3",
   "version": "3.6.9"
  }
 },
 "nbformat": 4,
 "nbformat_minor": 4
}
